{
 "cells": [
  {
   "cell_type": "code",
   "execution_count": 0,
   "metadata": {
    "application/vnd.databricks.v1+cell": {
     "cellMetadata": {},
     "inputWidgets": {},
     "nuid": "45485667-ed39-41b5-8bfc-768444918241",
     "showTitle": false,
     "title": ""
    }
   },
   "outputs": [],
   "source": [
    "# tutorials\n",
    "#https://www.datacamp.com/tutorial/k-nearest-neighbor-classification-scikit-learn?irclickid=UQ-TzLznRxyKWRzVFH2NTzJqUkC0goxZ03Sa3Q0&irgwc=1&utm_medium=affiliate&utm_source=impact&utm_campaign=000000_1-2003851_2-mix_3-all_4-na_5-na_6-na_7-mp_8-affl-ip_9-na_10-bau_11-Bing%20Rebates%20by%20Microsoft&utm_content=BANNER&utm_term=EdgeBingFlow\n",
    "#https://www.geeksforgeeks.org/k-nearest-neighbors-knn-regression-with-scikit-learn"
   ]
  },
  {
   "cell_type": "markdown",
   "metadata": {
    "application/vnd.databricks.v1+cell": {
     "cellMetadata": {},
     "inputWidgets": {},
     "nuid": "c2538a95-27e1-402c-a317-cdb65b51cca2",
     "showTitle": false,
     "title": ""
    }
   },
   "source": [
    "## Import libraries"
   ]
  },
  {
   "cell_type": "code",
   "execution_count": 0,
   "metadata": {
    "application/vnd.databricks.v1+cell": {
     "cellMetadata": {
      "byteLimit": 2048000,
      "rowLimit": 10000
     },
     "inputWidgets": {},
     "nuid": "8da4b660-948c-461a-8284-bf09b2b1f516",
     "showTitle": false,
     "title": ""
    }
   },
   "outputs": [],
   "source": [
    "import pandas as pd\n",
    "import numpy as np\n",
    "\n",
    "# data prep\n",
    "from sklearn.model_selection import train_test_split\n",
    "from sklearn.preprocessing import StandardScaler, LabelBinarizer\n",
    "from sklearn.feature_selection import VarianceThreshold\n",
    "from sklearn.impute import SimpleImputer\n",
    "\n",
    "# model creation\n",
    "from sklearn.neighbors import KNeighborsRegressor\n",
    "from sklearn.ensemble import RandomForestRegressor\n",
    "from sklearn.linear_model import LinearRegression\n",
    "\n",
    "# model eval\n",
    "from sklearn.metrics import mean_squared_error, r2_score\n",
    "from sklearn.model_selection import GridSearchCV\n",
    "\n",
    "# plotting\n",
    "import matplotlib.pyplot as plt"
   ]
  },
  {
   "cell_type": "markdown",
   "metadata": {
    "application/vnd.databricks.v1+cell": {
     "cellMetadata": {},
     "inputWidgets": {},
     "nuid": "d29a5070-0052-4b53-9e06-e0e35bd398d6",
     "showTitle": false,
     "title": ""
    }
   },
   "source": [
    "## Get data"
   ]
  },
  {
   "cell_type": "code",
   "execution_count": 0,
   "metadata": {
    "application/vnd.databricks.v1+cell": {
     "cellMetadata": {
      "byteLimit": 2048000,
      "rowLimit": 10000
     },
     "inputWidgets": {},
     "nuid": "f45a289f-2a97-495a-b15b-5984a5c670d7",
     "showTitle": false,
     "title": ""
    }
   },
   "outputs": [],
   "source": [
    "spark.sql(f\"\"\"use commercialprospecting;\"\"\")\n",
    "term_data1 = spark.sql(f\"\"\"\n",
    "  SELECT distinct m.*,d.*,YEAR(m.MORTGAGEMATURITYDATE) - YEAR(m.MORTGAGEDATE) as Term\n",
    "  FROM cremortgage m\n",
    "  JOIN crepropdetail d on d.CREPROPERTYID = m.CREPROPERTYID\n",
    "  WHERE m.MORTGAGEDATE > '2023-01-01'\n",
    "  AND m.MORTGAGEMATURITYDATE IS NOT NULL\n",
    "  AND d.LANDUSECATEGORY IN ('Commercial','Office','Multifamily','Retail')\n",
    "\"\"\")"
   ]
  },
  {
   "cell_type": "code",
   "execution_count": 0,
   "metadata": {
    "application/vnd.databricks.v1+cell": {
     "cellMetadata": {
      "byteLimit": 2048000,
      "rowLimit": 10000
     },
     "inputWidgets": {},
     "nuid": "fc976141-d5fc-48c3-9ea0-12a283779056",
     "showTitle": false,
     "title": ""
    }
   },
   "outputs": [],
   "source": [
    "spark.sql(f\"\"\"use commercialprospecting;\"\"\")\n",
    "term_data2 = spark.sql(f\"\"\"\n",
    "  SELECT distinct m.MORTGAGEID,CAST(MORTGAGEAMOUNT / 1000000 as Double) as MORTGAGEAMOUNTMILLIONS,CAST(m.MORTGAGEPOSITION as Int),CAST(m.MORTGAGEINTERESTRATE as Double),m.MORTGAGERATETYPE,m.MORTGAGETYPE,m.MORTGAGELOANTYPE,m.MORTGAGEPURPOSE,CAST(m.PRIVATEPARTYLOAN as Int),d.LANDUSECATEGORY,CAST(d.OWNEROCCUPIED as Int),CAST(d.ASSESSEDLANDVALUE as Float),YEAR(m.MORTGAGEMATURITYDATE) - YEAR(m.MORTGAGEDATE) as Term\n",
    "  FROM cremortgage m\n",
    "  JOIN crepropdetail d on d.CREPROPERTYID = m.CREPROPERTYID\n",
    "  WHERE m.MORTGAGEDATE > '2023-01-01'\n",
    "  AND m.MORTGAGEMATURITYDATE IS NOT NULL\n",
    "  AND d.LANDUSECATEGORY IN ('Commercial','Office','Multifamily','Retail')\n",
    "\"\"\")"
   ]
  },
  {
   "cell_type": "markdown",
   "metadata": {
    "application/vnd.databricks.v1+cell": {
     "cellMetadata": {
      "byteLimit": 2048000,
      "rowLimit": 10000
     },
     "inputWidgets": {},
     "nuid": "c42a450b-a8a9-4e6e-a364-3576d52c17f4",
     "showTitle": false,
     "title": ""
    }
   },
   "source": [
    "## Prep data"
   ]
  },
  {
   "cell_type": "code",
   "execution_count": 0,
   "metadata": {
    "application/vnd.databricks.v1+cell": {
     "cellMetadata": {
      "byteLimit": 2048000,
      "rowLimit": 10000
     },
     "inputWidgets": {},
     "nuid": "346cab65-5986-4174-80d4-c362357c335a",
     "showTitle": false,
     "title": ""
    }
   },
   "outputs": [],
   "source": [
    "# convert to Pandas dataframe\n",
    "term_data_pd2 = term_data2.toPandas()\n",
    "\n",
    "# remove identifier MORTGAGEID\n",
    "term_data_pd2 = term_data_pd2.drop(columns=['MORTGAGEID'])\n",
    "\n",
    "# create binary columns for categorical variables\n",
    "term_data_pd2 = pd.get_dummies(term_data_pd2,columns=['MORTGAGERATETYPE','MORTGAGETYPE','MORTGAGELOANTYPE','MORTGAGEPURPOSE','LANDUSECATEGORY'])\n",
    "\n",
    "# move our target variable, Term, to end of dataframe\n",
    "column = term_data_pd2.pop('Term')\n",
    "term_data_pd2.insert(len(term_data_pd2.columns), 'Term', column)"
   ]
  },
  {
   "cell_type": "markdown",
   "metadata": {
    "application/vnd.databricks.v1+cell": {
     "cellMetadata": {},
     "inputWidgets": {},
     "nuid": "1467af21-cf8d-45f0-bbb4-bb0e5a60bf2e",
     "showTitle": false,
     "title": ""
    }
   },
   "source": [
    "## Feature selection"
   ]
  },
  {
   "cell_type": "markdown",
   "metadata": {
    "application/vnd.databricks.v1+cell": {
     "cellMetadata": {},
     "inputWidgets": {},
     "nuid": "1628eec0-c5f6-4c57-9b99-d84e05fb3447",
     "showTitle": false,
     "title": ""
    }
   },
   "source": [
    "### Well-populated\n",
    "See which fields are well-populated fields, since we'll need to drop NAs for our regressions. We also want the model to see more training data so that it knows how to handle more test data."
   ]
  },
  {
   "cell_type": "code",
   "execution_count": 0,
   "metadata": {
    "application/vnd.databricks.v1+cell": {
     "cellMetadata": {
      "byteLimit": 2048000,
      "rowLimit": 10000
     },
     "inputWidgets": {},
     "nuid": "f2d0bbaf-c160-429a-89a3-22a05141f434",
     "showTitle": false,
     "title": ""
    },
    "jupyter": {
     "outputs_hidden": true
    }
   },
   "outputs": [
    {
     "output_type": "stream",
     "name": "stderr",
     "output_type": "stream",
     "text": [
      "/databricks/spark/python/pyspark/sql/pandas/utils.py:124: UserWarning: The conversion of DecimalType columns is inefficient and may take a long time. Column names: [MORTGAGEPOSITION, MORTGAGEAMOUNT, MORTGAGEPROPCOUNT, MORTGAGEPROPVALUEASSESSED, MORTGAGEMATURITYYEAR, MORTGAGEINTERESTRATE, MORTGAGESELLERCARRYBACK, PRIVATEPARTYLOAN, PROPERTYAPNSEQ, MSAPUBLISHID, LATITUDE, LONGITUDE, PROPERTYBUILTYEAR, PROPERTYINACRES, PROPERTYBUILDINGSIZEINSQFT, PROPERTYBUILDINGCOUNT, LIVINGSQFT, NUMBEROFUNITS, NUMBEROFBEDROOMS, POOLFLAG, BESTPROPERTYVALUE, PROPERTYASSESSMENTYEAR, PROPERTYVALUEIMPROVEMENT, ASSESSEDLANDVALUE, ANNUALPROPERTYTAX, CORPORATEOWNED, OWNEROCCUPIED, CRETRANSACTIONPRICE, MULTIPROPERTYINDICATOR, TRANSACTIONPROPCOUNT, TRANSACTIONPROPVALASSESSED, PRIORSALEPRICE, OPENMORTGAGELIENCOUNT, OPENMORTGAGELIENAMOUNT, LOANTOVALUERATIO] If those columns are not necessary, you may consider dropping them or converting to primitive types before the conversion.\n  warnings.warn(\n"
     ]
    },
    {
     "output_type": "display_data",
     "data": {
      "text/html": [
       "<style scoped>\n",
       "  .ansiout {\n",
       "    display: block;\n",
       "    unicode-bidi: embed;\n",
       "    white-space: pre-wrap;\n",
       "    word-wrap: break-word;\n",
       "    word-break: break-all;\n",
       "    font-family: \"Menlo\", \"Monaco\", \"Consolas\", \"Ubuntu Mono\", \"Source Code Pro\", monospace;\n",
       "    font-size: 13px;\n",
       "    color: #555;\n",
       "    margin-left: 4px;\n",
       "    line-height: 19px;\n",
       "  }\n",
       "</style>"
      ]
     },
     "metadata": {
      "application/vnd.databricks.v1+output": {
       "arguments": {},
       "data": "",
       "errorSummary": "Cancelled",
       "errorTraceType": "html",
       "metadata": {},
       "type": "ipynbError"
      }
     },
     "output_type": "display_data"
    }
   ],
   "source": [
    "# convert to Pandas dataframe\n",
    "term_data_pd1 = term_data1.toPandas()\n",
    "\n",
    "nas = pd.DataFrame(term_data_pd1.isna().sum(),columns=['nulls'])\n",
    "nas['ratio'] = nas['nulls'] / len(term_data_pd1)\n",
    "best_fields = nas.sort_values('ratio')"
   ]
  },
  {
   "cell_type": "code",
   "execution_count": 0,
   "metadata": {
    "application/vnd.databricks.v1+cell": {
     "cellMetadata": {
      "byteLimit": 2048000,
      "rowLimit": 10000
     },
     "inputWidgets": {},
     "nuid": "2502964e-4f57-4385-9f00-a3281a8374ca",
     "showTitle": false,
     "title": ""
    }
   },
   "outputs": [
    {
     "output_type": "display_data",
     "data": {
      "text/html": [
       "<div>\n",
       "<style scoped>\n",
       "    .dataframe tbody tr th:only-of-type {\n",
       "        vertical-align: middle;\n",
       "    }\n",
       "\n",
       "    .dataframe tbody tr th {\n",
       "        vertical-align: top;\n",
       "    }\n",
       "\n",
       "    .dataframe thead th {\n",
       "        text-align: right;\n",
       "    }\n",
       "</style>\n",
       "<table border=\"1\" class=\"dataframe\">\n",
       "  <thead>\n",
       "    <tr style=\"text-align: right;\">\n",
       "      <th></th>\n",
       "      <th>nulls</th>\n",
       "      <th>ratio</th>\n",
       "    </tr>\n",
       "  </thead>\n",
       "  <tbody>\n",
       "    <tr>\n",
       "      <th>PROPERTYMORTGAGEID</th>\n",
       "      <td>0</td>\n",
       "      <td>0.000000</td>\n",
       "    </tr>\n",
       "    <tr>\n",
       "      <th>MULTIPROPERTYINDICATOR</th>\n",
       "      <td>0</td>\n",
       "      <td>0.000000</td>\n",
       "    </tr>\n",
       "    <tr>\n",
       "      <th>OWNEROCCUPIED</th>\n",
       "      <td>0</td>\n",
       "      <td>0.000000</td>\n",
       "    </tr>\n",
       "    <tr>\n",
       "      <th>LANDUSEPROPERTYCATEGORY</th>\n",
       "      <td>0</td>\n",
       "      <td>0.000000</td>\n",
       "    </tr>\n",
       "    <tr>\n",
       "      <th>LANDUSECATEGORY</th>\n",
       "      <td>0</td>\n",
       "      <td>0.000000</td>\n",
       "    </tr>\n",
       "    <tr>\n",
       "      <th>COUNTYID</th>\n",
       "      <td>0</td>\n",
       "      <td>0.000000</td>\n",
       "    </tr>\n",
       "    <tr>\n",
       "      <th>PROPERTYSTATE</th>\n",
       "      <td>0</td>\n",
       "      <td>0.000000</td>\n",
       "    </tr>\n",
       "    <tr>\n",
       "      <th>PROPERTYAPNSEQ</th>\n",
       "      <td>0</td>\n",
       "      <td>0.000000</td>\n",
       "    </tr>\n",
       "    <tr>\n",
       "      <th>PROPERTYAPNFORMATTED</th>\n",
       "      <td>0</td>\n",
       "      <td>0.000000</td>\n",
       "    </tr>\n",
       "    <tr>\n",
       "      <th>CREPROPERTYID</th>\n",
       "      <td>0</td>\n",
       "      <td>0.000000</td>\n",
       "    </tr>\n",
       "    <tr>\n",
       "      <th>PRIVATEPARTYLOAN</th>\n",
       "      <td>0</td>\n",
       "      <td>0.000000</td>\n",
       "    </tr>\n",
       "    <tr>\n",
       "      <th>MORTGAGEPURPOSE</th>\n",
       "      <td>0</td>\n",
       "      <td>0.000000</td>\n",
       "    </tr>\n",
       "    <tr>\n",
       "      <th>MORTGAGETYPE</th>\n",
       "      <td>0</td>\n",
       "      <td>0.000000</td>\n",
       "    </tr>\n",
       "    <tr>\n",
       "      <th>Term</th>\n",
       "      <td>0</td>\n",
       "      <td>0.000000</td>\n",
       "    </tr>\n",
       "    <tr>\n",
       "      <th>MORTGAGEDATE</th>\n",
       "      <td>0</td>\n",
       "      <td>0.000000</td>\n",
       "    </tr>\n",
       "    <tr>\n",
       "      <th>LENDERNAME</th>\n",
       "      <td>0</td>\n",
       "      <td>0.000000</td>\n",
       "    </tr>\n",
       "    <tr>\n",
       "      <th>MORTGAGEPOSITION</th>\n",
       "      <td>0</td>\n",
       "      <td>0.000000</td>\n",
       "    </tr>\n",
       "    <tr>\n",
       "      <th>MORTGAGEAMOUNT</th>\n",
       "      <td>0</td>\n",
       "      <td>0.000000</td>\n",
       "    </tr>\n",
       "    <tr>\n",
       "      <th>MORTGAGEMATURITYDATE</th>\n",
       "      <td>0</td>\n",
       "      <td>0.000000</td>\n",
       "    </tr>\n",
       "    <tr>\n",
       "      <th>CREPROPERTYID</th>\n",
       "      <td>0</td>\n",
       "      <td>0.000000</td>\n",
       "    </tr>\n",
       "    <tr>\n",
       "      <th>MORTGAGEID</th>\n",
       "      <td>0</td>\n",
       "      <td>0.000000</td>\n",
       "    </tr>\n",
       "    <tr>\n",
       "      <th>MORTGAGERECDATE</th>\n",
       "      <td>0</td>\n",
       "      <td>0.000000</td>\n",
       "    </tr>\n",
       "    <tr>\n",
       "      <th>OPENMORTGAGELIENCOUNT</th>\n",
       "      <td>1</td>\n",
       "      <td>0.000008</td>\n",
       "    </tr>\n",
       "    <tr>\n",
       "      <th>OPENMORTGAGELIENAMOUNT</th>\n",
       "      <td>1</td>\n",
       "      <td>0.000008</td>\n",
       "    </tr>\n",
       "    <tr>\n",
       "      <th>COUNTYTYPE</th>\n",
       "      <td>5</td>\n",
       "      <td>0.000039</td>\n",
       "    </tr>\n",
       "    <tr>\n",
       "      <th>COUNTYNAME</th>\n",
       "      <td>5</td>\n",
       "      <td>0.000039</td>\n",
       "    </tr>\n",
       "    <tr>\n",
       "      <th>MAILINGZIP</th>\n",
       "      <td>238</td>\n",
       "      <td>0.001863</td>\n",
       "    </tr>\n",
       "    <tr>\n",
       "      <th>MAILINGSTATE</th>\n",
       "      <td>253</td>\n",
       "      <td>0.001981</td>\n",
       "    </tr>\n",
       "    <tr>\n",
       "      <th>MAILINGCITY</th>\n",
       "      <td>288</td>\n",
       "      <td>0.002255</td>\n",
       "    </tr>\n",
       "    <tr>\n",
       "      <th>PROPERTYASSESSMENTYEAR</th>\n",
       "      <td>1131</td>\n",
       "      <td>0.008854</td>\n",
       "    </tr>\n",
       "    <tr>\n",
       "      <th>MAILINGSTREET</th>\n",
       "      <td>1376</td>\n",
       "      <td>0.010772</td>\n",
       "    </tr>\n",
       "    <tr>\n",
       "      <th>BESTPROPERTYVALUE</th>\n",
       "      <td>2251</td>\n",
       "      <td>0.017622</td>\n",
       "    </tr>\n",
       "    <tr>\n",
       "      <th>PROPERTYINACRES</th>\n",
       "      <td>3925</td>\n",
       "      <td>0.030728</td>\n",
       "    </tr>\n",
       "    <tr>\n",
       "      <th>PROPERTYZIP</th>\n",
       "      <td>4087</td>\n",
       "      <td>0.031996</td>\n",
       "    </tr>\n",
       "    <tr>\n",
       "      <th>PROPERTYCITY</th>\n",
       "      <td>4585</td>\n",
       "      <td>0.035895</td>\n",
       "    </tr>\n",
       "    <tr>\n",
       "      <th>MORTGAGERATETYPE</th>\n",
       "      <td>5154</td>\n",
       "      <td>0.040349</td>\n",
       "    </tr>\n",
       "    <tr>\n",
       "      <th>ANNUALPROPERTYTAX</th>\n",
       "      <td>5806</td>\n",
       "      <td>0.045453</td>\n",
       "    </tr>\n",
       "    <tr>\n",
       "      <th>PROPERTYSTREET</th>\n",
       "      <td>6051</td>\n",
       "      <td>0.047372</td>\n",
       "    </tr>\n",
       "    <tr>\n",
       "      <th>CENSUSTRACT</th>\n",
       "      <td>7920</td>\n",
       "      <td>0.062003</td>\n",
       "    </tr>\n",
       "    <tr>\n",
       "      <th>ASSESSEDLANDVALUE</th>\n",
       "      <td>10906</td>\n",
       "      <td>0.085380</td>\n",
       "    </tr>\n",
       "    <tr>\n",
       "      <th>MSANAME</th>\n",
       "      <td>10983</td>\n",
       "      <td>0.085983</td>\n",
       "    </tr>\n",
       "    <tr>\n",
       "      <th>MSATYPE</th>\n",
       "      <td>10983</td>\n",
       "      <td>0.085983</td>\n",
       "    </tr>\n",
       "    <tr>\n",
       "      <th>MSAPUBLISHID</th>\n",
       "      <td>10983</td>\n",
       "      <td>0.085983</td>\n",
       "    </tr>\n",
       "    <tr>\n",
       "      <th>LONGITUDE</th>\n",
       "      <td>12642</td>\n",
       "      <td>0.098971</td>\n",
       "    </tr>\n",
       "    <tr>\n",
       "      <th>LATITUDE</th>\n",
       "      <td>12642</td>\n",
       "      <td>0.098971</td>\n",
       "    </tr>\n",
       "    <tr>\n",
       "      <th>MAILINGZIP4</th>\n",
       "      <td>15225</td>\n",
       "      <td>0.119192</td>\n",
       "    </tr>\n",
       "    <tr>\n",
       "      <th>MORTGAGELOANTYPE</th>\n",
       "      <td>15374</td>\n",
       "      <td>0.120359</td>\n",
       "    </tr>\n",
       "    <tr>\n",
       "      <th>DEEDTYPE</th>\n",
       "      <td>16876</td>\n",
       "      <td>0.132117</td>\n",
       "    </tr>\n",
       "    <tr>\n",
       "      <th>PROPERTYVALUEIMPROVEMENT</th>\n",
       "      <td>22561</td>\n",
       "      <td>0.176623</td>\n",
       "    </tr>\n",
       "    <tr>\n",
       "      <th>MORTGAGEINTERESTRATE</th>\n",
       "      <td>22996</td>\n",
       "      <td>0.180029</td>\n",
       "    </tr>\n",
       "    <tr>\n",
       "      <th>TRANSACTIONRECDATE</th>\n",
       "      <td>23070</td>\n",
       "      <td>0.180608</td>\n",
       "    </tr>\n",
       "    <tr>\n",
       "      <th>CRETRANSACTIONDATE</th>\n",
       "      <td>23487</td>\n",
       "      <td>0.183873</td>\n",
       "    </tr>\n",
       "    <tr>\n",
       "      <th>PROPERTYBUILDINGCOUNT</th>\n",
       "      <td>30429</td>\n",
       "      <td>0.238220</td>\n",
       "    </tr>\n",
       "    <tr>\n",
       "      <th>CRETRANSACTIONPRICE</th>\n",
       "      <td>30554</td>\n",
       "      <td>0.239198</td>\n",
       "    </tr>\n",
       "    <tr>\n",
       "      <th>PROPERTYZIP4</th>\n",
       "      <td>35749</td>\n",
       "      <td>0.279868</td>\n",
       "    </tr>\n",
       "    <tr>\n",
       "      <th>CORPORATEOWNED</th>\n",
       "      <td>43904</td>\n",
       "      <td>0.343712</td>\n",
       "    </tr>\n",
       "    <tr>\n",
       "      <th>PROPERTYBUILDINGSIZEINSQFT</th>\n",
       "      <td>45496</td>\n",
       "      <td>0.356175</td>\n",
       "    </tr>\n",
       "    <tr>\n",
       "      <th>PROPERTYBUILTYEAR</th>\n",
       "      <td>51312</td>\n",
       "      <td>0.401707</td>\n",
       "    </tr>\n",
       "    <tr>\n",
       "      <th>LOANTOVALUERATIO</th>\n",
       "      <td>54524</td>\n",
       "      <td>0.426852</td>\n",
       "    </tr>\n",
       "    <tr>\n",
       "      <th>PRIORSALEDATE</th>\n",
       "      <td>64513</td>\n",
       "      <td>0.505053</td>\n",
       "    </tr>\n",
       "    <tr>\n",
       "      <th>PRIORSALEPRICE</th>\n",
       "      <td>69613</td>\n",
       "      <td>0.544980</td>\n",
       "    </tr>\n",
       "    <tr>\n",
       "      <th>PROPERTYOWNERSHIPRIGHT</th>\n",
       "      <td>71915</td>\n",
       "      <td>0.563002</td>\n",
       "    </tr>\n",
       "    <tr>\n",
       "      <th>LIVINGSQFT</th>\n",
       "      <td>80696</td>\n",
       "      <td>0.631745</td>\n",
       "    </tr>\n",
       "    <tr>\n",
       "      <th>TRANSACTIONPROPCOUNT</th>\n",
       "      <td>109790</td>\n",
       "      <td>0.859514</td>\n",
       "    </tr>\n",
       "    <tr>\n",
       "      <th>TRANSACTIONPROPVALASSESSED</th>\n",
       "      <td>110014</td>\n",
       "      <td>0.861267</td>\n",
       "    </tr>\n",
       "    <tr>\n",
       "      <th>NUMBEROFBEDROOMS</th>\n",
       "      <td>111386</td>\n",
       "      <td>0.872008</td>\n",
       "    </tr>\n",
       "    <tr>\n",
       "      <th>NUMBEROFUNITS</th>\n",
       "      <td>111748</td>\n",
       "      <td>0.874842</td>\n",
       "    </tr>\n",
       "    <tr>\n",
       "      <th>POOLFLAG</th>\n",
       "      <td>125726</td>\n",
       "      <td>0.984272</td>\n",
       "    </tr>\n",
       "    <tr>\n",
       "      <th>MORTGAGEPROPVALUEASSESSED</th>\n",
       "      <td>127735</td>\n",
       "      <td>1.000000</td>\n",
       "    </tr>\n",
       "    <tr>\n",
       "      <th>MORTGAGEPROPCOUNT</th>\n",
       "      <td>127735</td>\n",
       "      <td>1.000000</td>\n",
       "    </tr>\n",
       "    <tr>\n",
       "      <th>MORTGAGESELLERCARRYBACK</th>\n",
       "      <td>127735</td>\n",
       "      <td>1.000000</td>\n",
       "    </tr>\n",
       "    <tr>\n",
       "      <th>MORTGAGEMATURITYYEAR</th>\n",
       "      <td>127735</td>\n",
       "      <td>1.000000</td>\n",
       "    </tr>\n",
       "  </tbody>\n",
       "</table>\n",
       "</div>"
      ]
     },
     "metadata": {
      "application/vnd.databricks.v1+output": {
       "addedWidgets": {},
       "arguments": {},
       "data": "<div>\n<style scoped>\n    .dataframe tbody tr th:only-of-type {\n        vertical-align: middle;\n    }\n\n    .dataframe tbody tr th {\n        vertical-align: top;\n    }\n\n    .dataframe thead th {\n        text-align: right;\n    }\n</style>\n<table border=\"1\" class=\"dataframe\">\n  <thead>\n    <tr style=\"text-align: right;\">\n      <th></th>\n      <th>nulls</th>\n      <th>ratio</th>\n    </tr>\n  </thead>\n  <tbody>\n    <tr>\n      <th>PROPERTYMORTGAGEID</th>\n      <td>0</td>\n      <td>0.000000</td>\n    </tr>\n    <tr>\n      <th>MULTIPROPERTYINDICATOR</th>\n      <td>0</td>\n      <td>0.000000</td>\n    </tr>\n    <tr>\n      <th>OWNEROCCUPIED</th>\n      <td>0</td>\n      <td>0.000000</td>\n    </tr>\n    <tr>\n      <th>LANDUSEPROPERTYCATEGORY</th>\n      <td>0</td>\n      <td>0.000000</td>\n    </tr>\n    <tr>\n      <th>LANDUSECATEGORY</th>\n      <td>0</td>\n      <td>0.000000</td>\n    </tr>\n    <tr>\n      <th>COUNTYID</th>\n      <td>0</td>\n      <td>0.000000</td>\n    </tr>\n    <tr>\n      <th>PROPERTYSTATE</th>\n      <td>0</td>\n      <td>0.000000</td>\n    </tr>\n    <tr>\n      <th>PROPERTYAPNSEQ</th>\n      <td>0</td>\n      <td>0.000000</td>\n    </tr>\n    <tr>\n      <th>PROPERTYAPNFORMATTED</th>\n      <td>0</td>\n      <td>0.000000</td>\n    </tr>\n    <tr>\n      <th>CREPROPERTYID</th>\n      <td>0</td>\n      <td>0.000000</td>\n    </tr>\n    <tr>\n      <th>PRIVATEPARTYLOAN</th>\n      <td>0</td>\n      <td>0.000000</td>\n    </tr>\n    <tr>\n      <th>MORTGAGEPURPOSE</th>\n      <td>0</td>\n      <td>0.000000</td>\n    </tr>\n    <tr>\n      <th>MORTGAGETYPE</th>\n      <td>0</td>\n      <td>0.000000</td>\n    </tr>\n    <tr>\n      <th>Term</th>\n      <td>0</td>\n      <td>0.000000</td>\n    </tr>\n    <tr>\n      <th>MORTGAGEDATE</th>\n      <td>0</td>\n      <td>0.000000</td>\n    </tr>\n    <tr>\n      <th>LENDERNAME</th>\n      <td>0</td>\n      <td>0.000000</td>\n    </tr>\n    <tr>\n      <th>MORTGAGEPOSITION</th>\n      <td>0</td>\n      <td>0.000000</td>\n    </tr>\n    <tr>\n      <th>MORTGAGEAMOUNT</th>\n      <td>0</td>\n      <td>0.000000</td>\n    </tr>\n    <tr>\n      <th>MORTGAGEMATURITYDATE</th>\n      <td>0</td>\n      <td>0.000000</td>\n    </tr>\n    <tr>\n      <th>CREPROPERTYID</th>\n      <td>0</td>\n      <td>0.000000</td>\n    </tr>\n    <tr>\n      <th>MORTGAGEID</th>\n      <td>0</td>\n      <td>0.000000</td>\n    </tr>\n    <tr>\n      <th>MORTGAGERECDATE</th>\n      <td>0</td>\n      <td>0.000000</td>\n    </tr>\n    <tr>\n      <th>OPENMORTGAGELIENCOUNT</th>\n      <td>1</td>\n      <td>0.000008</td>\n    </tr>\n    <tr>\n      <th>OPENMORTGAGELIENAMOUNT</th>\n      <td>1</td>\n      <td>0.000008</td>\n    </tr>\n    <tr>\n      <th>COUNTYTYPE</th>\n      <td>5</td>\n      <td>0.000039</td>\n    </tr>\n    <tr>\n      <th>COUNTYNAME</th>\n      <td>5</td>\n      <td>0.000039</td>\n    </tr>\n    <tr>\n      <th>MAILINGZIP</th>\n      <td>238</td>\n      <td>0.001863</td>\n    </tr>\n    <tr>\n      <th>MAILINGSTATE</th>\n      <td>253</td>\n      <td>0.001981</td>\n    </tr>\n    <tr>\n      <th>MAILINGCITY</th>\n      <td>288</td>\n      <td>0.002255</td>\n    </tr>\n    <tr>\n      <th>PROPERTYASSESSMENTYEAR</th>\n      <td>1131</td>\n      <td>0.008854</td>\n    </tr>\n    <tr>\n      <th>MAILINGSTREET</th>\n      <td>1376</td>\n      <td>0.010772</td>\n    </tr>\n    <tr>\n      <th>BESTPROPERTYVALUE</th>\n      <td>2251</td>\n      <td>0.017622</td>\n    </tr>\n    <tr>\n      <th>PROPERTYINACRES</th>\n      <td>3925</td>\n      <td>0.030728</td>\n    </tr>\n    <tr>\n      <th>PROPERTYZIP</th>\n      <td>4087</td>\n      <td>0.031996</td>\n    </tr>\n    <tr>\n      <th>PROPERTYCITY</th>\n      <td>4585</td>\n      <td>0.035895</td>\n    </tr>\n    <tr>\n      <th>MORTGAGERATETYPE</th>\n      <td>5154</td>\n      <td>0.040349</td>\n    </tr>\n    <tr>\n      <th>ANNUALPROPERTYTAX</th>\n      <td>5806</td>\n      <td>0.045453</td>\n    </tr>\n    <tr>\n      <th>PROPERTYSTREET</th>\n      <td>6051</td>\n      <td>0.047372</td>\n    </tr>\n    <tr>\n      <th>CENSUSTRACT</th>\n      <td>7920</td>\n      <td>0.062003</td>\n    </tr>\n    <tr>\n      <th>ASSESSEDLANDVALUE</th>\n      <td>10906</td>\n      <td>0.085380</td>\n    </tr>\n    <tr>\n      <th>MSANAME</th>\n      <td>10983</td>\n      <td>0.085983</td>\n    </tr>\n    <tr>\n      <th>MSATYPE</th>\n      <td>10983</td>\n      <td>0.085983</td>\n    </tr>\n    <tr>\n      <th>MSAPUBLISHID</th>\n      <td>10983</td>\n      <td>0.085983</td>\n    </tr>\n    <tr>\n      <th>LONGITUDE</th>\n      <td>12642</td>\n      <td>0.098971</td>\n    </tr>\n    <tr>\n      <th>LATITUDE</th>\n      <td>12642</td>\n      <td>0.098971</td>\n    </tr>\n    <tr>\n      <th>MAILINGZIP4</th>\n      <td>15225</td>\n      <td>0.119192</td>\n    </tr>\n    <tr>\n      <th>MORTGAGELOANTYPE</th>\n      <td>15374</td>\n      <td>0.120359</td>\n    </tr>\n    <tr>\n      <th>DEEDTYPE</th>\n      <td>16876</td>\n      <td>0.132117</td>\n    </tr>\n    <tr>\n      <th>PROPERTYVALUEIMPROVEMENT</th>\n      <td>22561</td>\n      <td>0.176623</td>\n    </tr>\n    <tr>\n      <th>MORTGAGEINTERESTRATE</th>\n      <td>22996</td>\n      <td>0.180029</td>\n    </tr>\n    <tr>\n      <th>TRANSACTIONRECDATE</th>\n      <td>23070</td>\n      <td>0.180608</td>\n    </tr>\n    <tr>\n      <th>CRETRANSACTIONDATE</th>\n      <td>23487</td>\n      <td>0.183873</td>\n    </tr>\n    <tr>\n      <th>PROPERTYBUILDINGCOUNT</th>\n      <td>30429</td>\n      <td>0.238220</td>\n    </tr>\n    <tr>\n      <th>CRETRANSACTIONPRICE</th>\n      <td>30554</td>\n      <td>0.239198</td>\n    </tr>\n    <tr>\n      <th>PROPERTYZIP4</th>\n      <td>35749</td>\n      <td>0.279868</td>\n    </tr>\n    <tr>\n      <th>CORPORATEOWNED</th>\n      <td>43904</td>\n      <td>0.343712</td>\n    </tr>\n    <tr>\n      <th>PROPERTYBUILDINGSIZEINSQFT</th>\n      <td>45496</td>\n      <td>0.356175</td>\n    </tr>\n    <tr>\n      <th>PROPERTYBUILTYEAR</th>\n      <td>51312</td>\n      <td>0.401707</td>\n    </tr>\n    <tr>\n      <th>LOANTOVALUERATIO</th>\n      <td>54524</td>\n      <td>0.426852</td>\n    </tr>\n    <tr>\n      <th>PRIORSALEDATE</th>\n      <td>64513</td>\n      <td>0.505053</td>\n    </tr>\n    <tr>\n      <th>PRIORSALEPRICE</th>\n      <td>69613</td>\n      <td>0.544980</td>\n    </tr>\n    <tr>\n      <th>PROPERTYOWNERSHIPRIGHT</th>\n      <td>71915</td>\n      <td>0.563002</td>\n    </tr>\n    <tr>\n      <th>LIVINGSQFT</th>\n      <td>80696</td>\n      <td>0.631745</td>\n    </tr>\n    <tr>\n      <th>TRANSACTIONPROPCOUNT</th>\n      <td>109790</td>\n      <td>0.859514</td>\n    </tr>\n    <tr>\n      <th>TRANSACTIONPROPVALASSESSED</th>\n      <td>110014</td>\n      <td>0.861267</td>\n    </tr>\n    <tr>\n      <th>NUMBEROFBEDROOMS</th>\n      <td>111386</td>\n      <td>0.872008</td>\n    </tr>\n    <tr>\n      <th>NUMBEROFUNITS</th>\n      <td>111748</td>\n      <td>0.874842</td>\n    </tr>\n    <tr>\n      <th>POOLFLAG</th>\n      <td>125726</td>\n      <td>0.984272</td>\n    </tr>\n    <tr>\n      <th>MORTGAGEPROPVALUEASSESSED</th>\n      <td>127735</td>\n      <td>1.000000</td>\n    </tr>\n    <tr>\n      <th>MORTGAGEPROPCOUNT</th>\n      <td>127735</td>\n      <td>1.000000</td>\n    </tr>\n    <tr>\n      <th>MORTGAGESELLERCARRYBACK</th>\n      <td>127735</td>\n      <td>1.000000</td>\n    </tr>\n    <tr>\n      <th>MORTGAGEMATURITYYEAR</th>\n      <td>127735</td>\n      <td>1.000000</td>\n    </tr>\n  </tbody>\n</table>\n</div>",
       "datasetInfos": [],
       "metadata": {},
       "removedWidgets": [],
       "textData": null,
       "type": "htmlSandbox"
      }
     },
     "output_type": "display_data"
    }
   ],
   "source": [
    "pd.set_option('display.max_rows', None)\n",
    "best_fields"
   ]
  },
  {
   "cell_type": "markdown",
   "metadata": {
    "application/vnd.databricks.v1+cell": {
     "cellMetadata": {},
     "inputWidgets": {},
     "nuid": "bebc5460-1674-45ba-96d0-9e5f229f8b16",
     "showTitle": false,
     "title": ""
    }
   },
   "source": [
    "### Correlation with target variable"
   ]
  },
  {
   "cell_type": "code",
   "execution_count": 0,
   "metadata": {
    "application/vnd.databricks.v1+cell": {
     "cellMetadata": {
      "byteLimit": 2048000,
      "rowLimit": 10000
     },
     "inputWidgets": {},
     "nuid": "902e8a4c-b42f-44d4-a3c2-13d1fcc769a4",
     "showTitle": false,
     "title": ""
    }
   },
   "outputs": [
    {
     "output_type": "stream",
     "name": "stdout",
     "output_type": "stream",
     "text": [
      "Out[172]: MORTGAGEAMOUNTMILLIONS                                           -0.011996\nMORTGAGEPOSITION                                                 -0.097868\nMORTGAGEINTERESTRATE                                              0.165146\nPRIVATEPARTYLOAN                                                 -0.160262\nOWNEROCCUPIED                                                     0.141623\nASSESSEDLANDVALUE                                                -0.062537\nMORTGAGERATETYPE_Adjustable                                       0.155839\nMORTGAGERATETYPE_Adjusted National Avg                           -0.001546\nMORTGAGERATETYPE_Fixed                                            0.064311\nMORTGAGERATETYPE_Fixed National Avg                              -0.043070\nMORTGAGETYPE_Junior                                              -0.199136\nMORTGAGETYPE_Purchase                                             0.221622\nMORTGAGETYPE_Refinancing                                         -0.020201\nMORTGAGELOANTYPE_Conventional                                     0.229941\nMORTGAGELOANTYPE_Federal Housing Administration                   0.265089\nMORTGAGELOANTYPE_Private Party Lender                            -0.160262\nMORTGAGELOANTYPE_Small Business Administration                    0.048189\nMORTGAGELOANTYPE_Veteran's Administration                         0.140322\nMORTGAGEPURPOSE_Cash Out First                                    0.008985\nMORTGAGEPURPOSE_Consolidation                                    -0.000461\nMORTGAGEPURPOSE_First with Subordinate                            0.028056\nMORTGAGEPURPOSE_HUD recording associated with Reverse Mortgage    0.015692\nMORTGAGEPURPOSE_New First Mortgage                                0.212382\nMORTGAGEPURPOSE_Piggyback on Purchase                            -0.035035\nMORTGAGEPURPOSE_Piggyback on Refinancing                         -0.035849\nMORTGAGEPURPOSE_Rate/ Term Reduction                             -0.025535\nMORTGAGEPURPOSE_Reverse Mortgage                                  0.092023\nMORTGAGEPURPOSE_Standalone Subordinate                           -0.123377\nMORTGAGEPURPOSE_Undetermined First Mortgage                      -0.023200\nMORTGAGEPURPOSE_Undetermined Standalone Subordinate              -0.103030\nLANDUSECATEGORY_Commercial                                       -0.071151\nLANDUSECATEGORY_Multifamily                                       0.195540\nLANDUSECATEGORY_Office                                           -0.074836\nLANDUSECATEGORY_Retail                                           -0.081581\nTerm                                                              1.000000\ndtype: float64"
     ]
    }
   ],
   "source": [
    "# Filter out non-numeric columns before applying the correlation function\n",
    "numeric_cols = term_data_pd2.select_dtypes(include=[np.number])\n",
    "corrs = numeric_cols.apply(lambda x: x.corr(numeric_cols['Term']))\n",
    "corrs"
   ]
  },
  {
   "cell_type": "code",
   "execution_count": 0,
   "metadata": {
    "application/vnd.databricks.v1+cell": {
     "cellMetadata": {
      "byteLimit": 2048000,
      "rowLimit": 10000
     },
     "inputWidgets": {},
     "nuid": "db5a003b-0d04-4e1b-9b74-8ed8bb7e4ae3",
     "showTitle": false,
     "title": ""
    }
   },
   "outputs": [
    {
     "output_type": "display_data",
     "data": {
      "text/html": [
       "<div>\n",
       "<style scoped>\n",
       "    .dataframe tbody tr th:only-of-type {\n",
       "        vertical-align: middle;\n",
       "    }\n",
       "\n",
       "    .dataframe tbody tr th {\n",
       "        vertical-align: top;\n",
       "    }\n",
       "\n",
       "    .dataframe thead th {\n",
       "        text-align: right;\n",
       "    }\n",
       "</style>\n",
       "<table border=\"1\" class=\"dataframe\">\n",
       "  <thead>\n",
       "    <tr style=\"text-align: right;\">\n",
       "      <th></th>\n",
       "      <th>MORTGAGEPOSITION</th>\n",
       "      <th>PRIVATEPARTYLOAN</th>\n",
       "      <th>OWNEROCCUPIED</th>\n",
       "      <th>ASSESSEDLANDVALUE</th>\n",
       "      <th>MORTGAGETYPE_Junior</th>\n",
       "      <th>MORTGAGETYPE_Purchase</th>\n",
       "      <th>MORTGAGETYPE_Refinancing</th>\n",
       "      <th>MORTGAGELOANTYPE_Conventional</th>\n",
       "      <th>MORTGAGELOANTYPE_Private Party Lender</th>\n",
       "      <th>MORTGAGEPURPOSE_New First Mortgage</th>\n",
       "      <th>MORTGAGEPURPOSE_Standalone Subordinate</th>\n",
       "      <th>MORTGAGEPURPOSE_Undetermined First Mortgage</th>\n",
       "      <th>MORTGAGEPURPOSE_Undetermined Standalone Subordinate</th>\n",
       "      <th>Term</th>\n",
       "    </tr>\n",
       "  </thead>\n",
       "  <tbody>\n",
       "    <tr>\n",
       "      <th>0</th>\n",
       "      <td>2</td>\n",
       "      <td>0</td>\n",
       "      <td>1</td>\n",
       "      <td>60017.0</td>\n",
       "      <td>1</td>\n",
       "      <td>0</td>\n",
       "      <td>0</td>\n",
       "      <td>1</td>\n",
       "      <td>0</td>\n",
       "      <td>0</td>\n",
       "      <td>1</td>\n",
       "      <td>0</td>\n",
       "      <td>0</td>\n",
       "      <td>0</td>\n",
       "    </tr>\n",
       "    <tr>\n",
       "      <th>1</th>\n",
       "      <td>2</td>\n",
       "      <td>0</td>\n",
       "      <td>0</td>\n",
       "      <td>858500.0</td>\n",
       "      <td>1</td>\n",
       "      <td>0</td>\n",
       "      <td>0</td>\n",
       "      <td>1</td>\n",
       "      <td>0</td>\n",
       "      <td>0</td>\n",
       "      <td>1</td>\n",
       "      <td>0</td>\n",
       "      <td>0</td>\n",
       "      <td>3</td>\n",
       "    </tr>\n",
       "    <tr>\n",
       "      <th>2</th>\n",
       "      <td>1</td>\n",
       "      <td>1</td>\n",
       "      <td>0</td>\n",
       "      <td>412950.0</td>\n",
       "      <td>0</td>\n",
       "      <td>1</td>\n",
       "      <td>0</td>\n",
       "      <td>0</td>\n",
       "      <td>1</td>\n",
       "      <td>1</td>\n",
       "      <td>0</td>\n",
       "      <td>0</td>\n",
       "      <td>0</td>\n",
       "      <td>4</td>\n",
       "    </tr>\n",
       "    <tr>\n",
       "      <th>3</th>\n",
       "      <td>1</td>\n",
       "      <td>1</td>\n",
       "      <td>1</td>\n",
       "      <td>47690.0</td>\n",
       "      <td>0</td>\n",
       "      <td>0</td>\n",
       "      <td>1</td>\n",
       "      <td>0</td>\n",
       "      <td>1</td>\n",
       "      <td>0</td>\n",
       "      <td>0</td>\n",
       "      <td>1</td>\n",
       "      <td>0</td>\n",
       "      <td>30</td>\n",
       "    </tr>\n",
       "    <tr>\n",
       "      <th>4</th>\n",
       "      <td>2</td>\n",
       "      <td>1</td>\n",
       "      <td>0</td>\n",
       "      <td>3700.0</td>\n",
       "      <td>1</td>\n",
       "      <td>0</td>\n",
       "      <td>0</td>\n",
       "      <td>0</td>\n",
       "      <td>1</td>\n",
       "      <td>0</td>\n",
       "      <td>1</td>\n",
       "      <td>0</td>\n",
       "      <td>0</td>\n",
       "      <td>5</td>\n",
       "    </tr>\n",
       "    <tr>\n",
       "      <th>...</th>\n",
       "      <td>...</td>\n",
       "      <td>...</td>\n",
       "      <td>...</td>\n",
       "      <td>...</td>\n",
       "      <td>...</td>\n",
       "      <td>...</td>\n",
       "      <td>...</td>\n",
       "      <td>...</td>\n",
       "      <td>...</td>\n",
       "      <td>...</td>\n",
       "      <td>...</td>\n",
       "      <td>...</td>\n",
       "      <td>...</td>\n",
       "      <td>...</td>\n",
       "    </tr>\n",
       "    <tr>\n",
       "      <th>76251</th>\n",
       "      <td>1</td>\n",
       "      <td>0</td>\n",
       "      <td>0</td>\n",
       "      <td>182952.0</td>\n",
       "      <td>0</td>\n",
       "      <td>0</td>\n",
       "      <td>1</td>\n",
       "      <td>0</td>\n",
       "      <td>0</td>\n",
       "      <td>0</td>\n",
       "      <td>0</td>\n",
       "      <td>0</td>\n",
       "      <td>0</td>\n",
       "      <td>30</td>\n",
       "    </tr>\n",
       "    <tr>\n",
       "      <th>76252</th>\n",
       "      <td>1</td>\n",
       "      <td>0</td>\n",
       "      <td>1</td>\n",
       "      <td>100000.0</td>\n",
       "      <td>1</td>\n",
       "      <td>0</td>\n",
       "      <td>0</td>\n",
       "      <td>1</td>\n",
       "      <td>0</td>\n",
       "      <td>0</td>\n",
       "      <td>1</td>\n",
       "      <td>0</td>\n",
       "      <td>0</td>\n",
       "      <td>2</td>\n",
       "    </tr>\n",
       "    <tr>\n",
       "      <th>76253</th>\n",
       "      <td>1</td>\n",
       "      <td>0</td>\n",
       "      <td>0</td>\n",
       "      <td>446900.0</td>\n",
       "      <td>1</td>\n",
       "      <td>0</td>\n",
       "      <td>0</td>\n",
       "      <td>1</td>\n",
       "      <td>0</td>\n",
       "      <td>0</td>\n",
       "      <td>1</td>\n",
       "      <td>0</td>\n",
       "      <td>0</td>\n",
       "      <td>5</td>\n",
       "    </tr>\n",
       "    <tr>\n",
       "      <th>76254</th>\n",
       "      <td>1</td>\n",
       "      <td>0</td>\n",
       "      <td>0</td>\n",
       "      <td>154202.0</td>\n",
       "      <td>0</td>\n",
       "      <td>1</td>\n",
       "      <td>0</td>\n",
       "      <td>1</td>\n",
       "      <td>0</td>\n",
       "      <td>1</td>\n",
       "      <td>0</td>\n",
       "      <td>0</td>\n",
       "      <td>0</td>\n",
       "      <td>19</td>\n",
       "    </tr>\n",
       "    <tr>\n",
       "      <th>76255</th>\n",
       "      <td>1</td>\n",
       "      <td>0</td>\n",
       "      <td>0</td>\n",
       "      <td>275100.0</td>\n",
       "      <td>1</td>\n",
       "      <td>0</td>\n",
       "      <td>0</td>\n",
       "      <td>1</td>\n",
       "      <td>0</td>\n",
       "      <td>0</td>\n",
       "      <td>1</td>\n",
       "      <td>0</td>\n",
       "      <td>0</td>\n",
       "      <td>10</td>\n",
       "    </tr>\n",
       "  </tbody>\n",
       "</table>\n",
       "<p>76256 rows × 14 columns</p>\n",
       "</div>"
      ]
     },
     "metadata": {
      "application/vnd.databricks.v1+output": {
       "addedWidgets": {},
       "arguments": {},
       "data": "<div>\n<style scoped>\n    .dataframe tbody tr th:only-of-type {\n        vertical-align: middle;\n    }\n\n    .dataframe tbody tr th {\n        vertical-align: top;\n    }\n\n    .dataframe thead th {\n        text-align: right;\n    }\n</style>\n<table border=\"1\" class=\"dataframe\">\n  <thead>\n    <tr style=\"text-align: right;\">\n      <th></th>\n      <th>MORTGAGEPOSITION</th>\n      <th>PRIVATEPARTYLOAN</th>\n      <th>OWNEROCCUPIED</th>\n      <th>ASSESSEDLANDVALUE</th>\n      <th>MORTGAGETYPE_Junior</th>\n      <th>MORTGAGETYPE_Purchase</th>\n      <th>MORTGAGETYPE_Refinancing</th>\n      <th>MORTGAGELOANTYPE_Conventional</th>\n      <th>MORTGAGELOANTYPE_Private Party Lender</th>\n      <th>MORTGAGEPURPOSE_New First Mortgage</th>\n      <th>MORTGAGEPURPOSE_Standalone Subordinate</th>\n      <th>MORTGAGEPURPOSE_Undetermined First Mortgage</th>\n      <th>MORTGAGEPURPOSE_Undetermined Standalone Subordinate</th>\n      <th>Term</th>\n    </tr>\n  </thead>\n  <tbody>\n    <tr>\n      <th>0</th>\n      <td>2</td>\n      <td>0</td>\n      <td>1</td>\n      <td>60017.0</td>\n      <td>1</td>\n      <td>0</td>\n      <td>0</td>\n      <td>1</td>\n      <td>0</td>\n      <td>0</td>\n      <td>1</td>\n      <td>0</td>\n      <td>0</td>\n      <td>0</td>\n    </tr>\n    <tr>\n      <th>1</th>\n      <td>2</td>\n      <td>0</td>\n      <td>0</td>\n      <td>858500.0</td>\n      <td>1</td>\n      <td>0</td>\n      <td>0</td>\n      <td>1</td>\n      <td>0</td>\n      <td>0</td>\n      <td>1</td>\n      <td>0</td>\n      <td>0</td>\n      <td>3</td>\n    </tr>\n    <tr>\n      <th>2</th>\n      <td>1</td>\n      <td>1</td>\n      <td>0</td>\n      <td>412950.0</td>\n      <td>0</td>\n      <td>1</td>\n      <td>0</td>\n      <td>0</td>\n      <td>1</td>\n      <td>1</td>\n      <td>0</td>\n      <td>0</td>\n      <td>0</td>\n      <td>4</td>\n    </tr>\n    <tr>\n      <th>3</th>\n      <td>1</td>\n      <td>1</td>\n      <td>1</td>\n      <td>47690.0</td>\n      <td>0</td>\n      <td>0</td>\n      <td>1</td>\n      <td>0</td>\n      <td>1</td>\n      <td>0</td>\n      <td>0</td>\n      <td>1</td>\n      <td>0</td>\n      <td>30</td>\n    </tr>\n    <tr>\n      <th>4</th>\n      <td>2</td>\n      <td>1</td>\n      <td>0</td>\n      <td>3700.0</td>\n      <td>1</td>\n      <td>0</td>\n      <td>0</td>\n      <td>0</td>\n      <td>1</td>\n      <td>0</td>\n      <td>1</td>\n      <td>0</td>\n      <td>0</td>\n      <td>5</td>\n    </tr>\n    <tr>\n      <th>...</th>\n      <td>...</td>\n      <td>...</td>\n      <td>...</td>\n      <td>...</td>\n      <td>...</td>\n      <td>...</td>\n      <td>...</td>\n      <td>...</td>\n      <td>...</td>\n      <td>...</td>\n      <td>...</td>\n      <td>...</td>\n      <td>...</td>\n      <td>...</td>\n    </tr>\n    <tr>\n      <th>76251</th>\n      <td>1</td>\n      <td>0</td>\n      <td>0</td>\n      <td>182952.0</td>\n      <td>0</td>\n      <td>0</td>\n      <td>1</td>\n      <td>0</td>\n      <td>0</td>\n      <td>0</td>\n      <td>0</td>\n      <td>0</td>\n      <td>0</td>\n      <td>30</td>\n    </tr>\n    <tr>\n      <th>76252</th>\n      <td>1</td>\n      <td>0</td>\n      <td>1</td>\n      <td>100000.0</td>\n      <td>1</td>\n      <td>0</td>\n      <td>0</td>\n      <td>1</td>\n      <td>0</td>\n      <td>0</td>\n      <td>1</td>\n      <td>0</td>\n      <td>0</td>\n      <td>2</td>\n    </tr>\n    <tr>\n      <th>76253</th>\n      <td>1</td>\n      <td>0</td>\n      <td>0</td>\n      <td>446900.0</td>\n      <td>1</td>\n      <td>0</td>\n      <td>0</td>\n      <td>1</td>\n      <td>0</td>\n      <td>0</td>\n      <td>1</td>\n      <td>0</td>\n      <td>0</td>\n      <td>5</td>\n    </tr>\n    <tr>\n      <th>76254</th>\n      <td>1</td>\n      <td>0</td>\n      <td>0</td>\n      <td>154202.0</td>\n      <td>0</td>\n      <td>1</td>\n      <td>0</td>\n      <td>1</td>\n      <td>0</td>\n      <td>1</td>\n      <td>0</td>\n      <td>0</td>\n      <td>0</td>\n      <td>19</td>\n    </tr>\n    <tr>\n      <th>76255</th>\n      <td>1</td>\n      <td>0</td>\n      <td>0</td>\n      <td>275100.0</td>\n      <td>1</td>\n      <td>0</td>\n      <td>0</td>\n      <td>1</td>\n      <td>0</td>\n      <td>0</td>\n      <td>1</td>\n      <td>0</td>\n      <td>0</td>\n      <td>10</td>\n    </tr>\n  </tbody>\n</table>\n<p>76256 rows × 14 columns</p>\n</div>",
       "datasetInfos": [],
       "metadata": {},
       "removedWidgets": [],
       "textData": null,
       "type": "htmlSandbox"
      }
     },
     "output_type": "display_data"
    }
   ],
   "source": [
    "threshold = 0.1\n",
    "selector = VarianceThreshold(threshold)\n",
    "selector.fit(term_data_pd2)\n",
    "high_var_indices = selector.get_support(indices=True)\n",
    "selected_data = term_data_pd2.iloc[:,high_var_indices]\n",
    "pd.set_option('display.max_rows', 100)\n",
    "selected_data"
   ]
  },
  {
   "cell_type": "markdown",
   "metadata": {
    "application/vnd.databricks.v1+cell": {
     "cellMetadata": {},
     "inputWidgets": {},
     "nuid": "40319b12-7b09-4c90-a4eb-90f5b562e89e",
     "showTitle": false,
     "title": ""
    }
   },
   "source": [
    "## Train and test models"
   ]
  },
  {
   "cell_type": "code",
   "execution_count": 0,
   "metadata": {
    "application/vnd.databricks.v1+cell": {
     "cellMetadata": {
      "byteLimit": 2048000,
      "rowLimit": 10000
     },
     "inputWidgets": {},
     "nuid": "fd9d4c77-76c7-44c0-afa6-123c2b05accf",
     "showTitle": false,
     "title": ""
    }
   },
   "outputs": [],
   "source": [
    "def test_model(model_name,X_train,y_train,X_test,y_test):\n",
    "  model_name.fit(X_train,y_train)\n",
    "  # make predictions on test data\n",
    "  y_pred = model_name.predict(X_test)\n",
    "  # evaluate model\n",
    "  mse = mean_squared_error(y_test, y_pred)\n",
    "  r2 = r2_score(y_test, y_pred)\n",
    "\n",
    "  print(f'Mean Squared Error: {mse}')\n",
    "  print(f'R-squared: {r2}')"
   ]
  },
  {
   "cell_type": "code",
   "execution_count": 0,
   "metadata": {
    "application/vnd.databricks.v1+cell": {
     "cellMetadata": {
      "byteLimit": 2048000,
      "rowLimit": 10000
     },
     "inputWidgets": {},
     "nuid": "d71dd66c-7062-4ebd-8e44-ac13d7fc0402",
     "showTitle": false,
     "title": ""
    }
   },
   "outputs": [],
   "source": [
    "data = term_data_pd2.dropna(how='any',axis=0).to_numpy()\n",
    "\n",
    "X = data[:,:-1]\n",
    "y = data[:,-1]\n",
    "# split data into training and testing sets\n",
    "X_train, X_test, y_train, y_test = train_test_split(X,y,random_state=1,train_size=0.8,shuffle=True)\n",
    "\n",
    "# Scale the features using StandardScaler\n",
    "scaler = StandardScaler()\n",
    "X_train = scaler.fit_transform(X_train)\n",
    "X_test = scaler.transform(X_test)"
   ]
  },
  {
   "cell_type": "code",
   "execution_count": 0,
   "metadata": {
    "application/vnd.databricks.v1+cell": {
     "cellMetadata": {
      "byteLimit": 2048000,
      "rowLimit": 10000
     },
     "inputWidgets": {},
     "nuid": "6ac48dd3-f1c3-49a3-bb79-dd394c148530",
     "showTitle": false,
     "title": ""
    }
   },
   "outputs": [
    {
     "output_type": "stream",
     "name": "stdout",
     "output_type": "stream",
     "text": [
      "Out[175]: 271.82163269320563"
     ]
    }
   ],
   "source": [
    "len(X_train) ** (1/2)"
   ]
  },
  {
   "cell_type": "code",
   "execution_count": 0,
   "metadata": {
    "application/vnd.databricks.v1+cell": {
     "cellMetadata": {
      "byteLimit": 2048000,
      "rowLimit": 10000
     },
     "inputWidgets": {},
     "nuid": "719e46d7-f4f9-4991-9bd8-51d677988cd5",
     "showTitle": false,
     "title": ""
    }
   },
   "outputs": [
    {
     "output_type": "stream",
     "name": "stdout",
     "output_type": "stream",
     "text": [
      "Mean Squared Error: 76.70958550248595\nR-squared: 0.41030634491873597\n"
     ]
    }
   ],
   "source": [
    "knn = KNeighborsRegressor(n_neighbors=270)\n",
    "test_model(knn,X_train,y_train,X_test,y_test)"
   ]
  },
  {
   "cell_type": "code",
   "execution_count": 0,
   "metadata": {
    "application/vnd.databricks.v1+cell": {
     "cellMetadata": {
      "byteLimit": 2048000,
      "rowLimit": 10000
     },
     "inputWidgets": {},
     "nuid": "73d810b6-3f4f-4bbc-a10e-8aa5a3588e83",
     "showTitle": false,
     "title": ""
    }
   },
   "outputs": [
    {
     "output_type": "stream",
     "name": "stdout",
     "output_type": "stream",
     "text": [
      "Mean Squared Error: 48.76485522452451\nR-squared: 0.6251273484468689\n"
     ]
    }
   ],
   "source": [
    "rf = RandomForestRegressor(random_state=0)\n",
    "test_model(rf,X_train,y_train,X_test,y_test)"
   ]
  },
  {
   "cell_type": "code",
   "execution_count": 0,
   "metadata": {
    "application/vnd.databricks.v1+cell": {
     "cellMetadata": {
      "byteLimit": 2048000,
      "rowLimit": 10000
     },
     "inputWidgets": {},
     "nuid": "c2fcb68d-24d5-4658-962a-e3c4ad78ff63",
     "showTitle": false,
     "title": ""
    }
   },
   "outputs": [
    {
     "output_type": "stream",
     "name": "stdout",
     "output_type": "stream",
     "text": [
      "Mean Squared Error: 84.41411725564333\nR-squared: 0.35107889035164275\n"
     ]
    }
   ],
   "source": [
    "lr = LinearRegression()\n",
    "test_model(lr,X_train,y_train,X_test,y_test)"
   ]
  },
  {
   "cell_type": "code",
   "execution_count": 0,
   "metadata": {
    "application/vnd.databricks.v1+cell": {
     "cellMetadata": {},
     "inputWidgets": {},
     "nuid": "fd92c087-0883-4caa-83ca-ae251f9fc533",
     "showTitle": false,
     "title": ""
    }
   },
   "outputs": [],
   "source": [
    "# TODO:\n",
    "# we could also try a k-means regression\n",
    "# replicate Chris' analyses\n",
    "# combine deduplication methods; dissect id values"
   ]
  },
  {
   "cell_type": "markdown",
   "metadata": {
    "application/vnd.databricks.v1+cell": {
     "cellMetadata": {},
     "inputWidgets": {},
     "nuid": "17e0b4e1-f2fe-40d7-a029-d326f2ff08ef",
     "showTitle": false,
     "title": ""
    }
   },
   "source": [
    "## Use model to fill in missing values"
   ]
  },
  {
   "cell_type": "code",
   "execution_count": 0,
   "metadata": {
    "application/vnd.databricks.v1+cell": {
     "cellMetadata": {
      "byteLimit": 2048000,
      "rowLimit": 10000
     },
     "inputWidgets": {},
     "nuid": "8aa08165-6299-4686-a151-c1fa9749bc67",
     "showTitle": false,
     "title": ""
    }
   },
   "outputs": [],
   "source": [
    "# split into rows that have a maturity date and those that don't\n",
    "# not_nulls = cre_data.filter(cre_data.MatureYear.isNotNull())\n",
    "# nulls = cre_data.filter(cre_data.MatureYear.isNull())"
   ]
  },
  {
   "cell_type": "code",
   "execution_count": 0,
   "metadata": {
    "application/vnd.databricks.v1+cell": {
     "cellMetadata": {},
     "inputWidgets": {},
     "nuid": "ac4a5ae7-1064-4139-9ae2-1dc61e29e1b2",
     "showTitle": false,
     "title": ""
    }
   },
   "outputs": [],
   "source": [
    "spark.sql(f\"\"\"use commercialprospecting;\"\"\")\n",
    "missing_data = spark.sql(f\"\"\"\n",
    "  SELECT distinct m.MORTGAGEID,d.LANDUSECATEGORY,CAST(m.MORTGAGEAMOUNT / 1000000 as Double) as MORTGAGEAMOUNTMILLIONS\n",
    "  FROM cremortgage m\n",
    "  JOIN crepropdetail d on d.CREPROPERTYID = m.CREPROPERTYID\n",
    "  WHERE m.MORTGAGEMATURITYDATE IS NULL\n",
    "  AND d.LANDUSECATEGORY IN ('Commercial','Office','Multifamily','Retail')\n",
    "\"\"\")\n",
    "\n",
    "missing_data_pd = missing_data.toPandas()\n",
    "\n",
    "# remove identifier MORTGAGEID\n",
    "missing_data_pd2 = missing_data_pd.drop(columns=['MORTGAGEID'])\n",
    "\n",
    "# create binary columns for categorical variable\n",
    "missing_data_pd2 = pd.get_dummies(missing_data_pd2,columns=['LANDUSECATEGORY'])\n",
    "\n",
    "missing_test = missing_data_pd2.to_numpy()\n",
    "imputer = SimpleImputer(strategy='mean')\n",
    "missing_test = imputer.fit_transform(missing_test)\n",
    "\n",
    "y_pred = knn_regressor.predict(missing_test)"
   ]
  },
  {
   "cell_type": "markdown",
   "metadata": {
    "application/vnd.databricks.v1+cell": {
     "cellMetadata": {},
     "inputWidgets": {},
     "nuid": "05875e45-0ff7-43eb-a453-f12d85bcb7ec",
     "showTitle": false,
     "title": ""
    }
   },
   "source": [
    "## Evaluate model"
   ]
  },
  {
   "cell_type": "code",
   "execution_count": 0,
   "metadata": {
    "application/vnd.databricks.v1+cell": {
     "cellMetadata": {
      "byteLimit": 2048000,
      "rowLimit": 10000
     },
     "inputWidgets": {},
     "nuid": "91c36662-e782-4158-ade5-80cd3b18da9d",
     "showTitle": false,
     "title": ""
    }
   },
   "outputs": [
    {
     "output_type": "display_data",
     "data": {
      "image/png": "[encoded data removed]"
     },
     "metadata": {
      "application/vnd.databricks.v1+output": {
       "addedWidgets": {},
       "arguments": {},
       "data": "data:image/png;base64,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\n",
       "datasetInfos": [],
       "metadata": {},
       "removedWidgets": [],
       "type": "image"
      }
     },
     "output_type": "display_data"
    },
    {
     "output_type": "display_data",
     "data": {
      "text/plain": [
       "\u001B[0;31m---------------------------------------------------------------------------\u001B[0m\n",
       "\u001B[0;31mValueError\u001B[0m                                Traceback (most recent call last)\n",
       "File \u001B[0;32m<command-4336958134104935>:2\u001B[0m\n",
       "\u001B[1;32m      1\u001B[0m \u001B[38;5;66;03m# visualize the results\u001B[39;00m\n",
       "\u001B[0;32m----> 2\u001B[0m plt\u001B[38;5;241m.\u001B[39mscatter(X_test, y_test, color\u001B[38;5;241m=\u001B[39m\u001B[38;5;124m'\u001B[39m\u001B[38;5;124mblue\u001B[39m\u001B[38;5;124m'\u001B[39m, label\u001B[38;5;241m=\u001B[39m\u001B[38;5;124m'\u001B[39m\u001B[38;5;124mActual\u001B[39m\u001B[38;5;124m'\u001B[39m)\n",
       "\u001B[1;32m      3\u001B[0m plt\u001B[38;5;241m.\u001B[39mscatter(y_test, y_pred, color\u001B[38;5;241m=\u001B[39m\u001B[38;5;124m'\u001B[39m\u001B[38;5;124mred\u001B[39m\u001B[38;5;124m'\u001B[39m, label\u001B[38;5;241m=\u001B[39m\u001B[38;5;124m'\u001B[39m\u001B[38;5;124mPredicted\u001B[39m\u001B[38;5;124m'\u001B[39m)\n",
       "\u001B[1;32m      4\u001B[0m plt\u001B[38;5;241m.\u001B[39mtitle(\u001B[38;5;124m'\u001B[39m\u001B[38;5;124mKNN Regression\u001B[39m\u001B[38;5;124m'\u001B[39m)\n",
       "\n",
       "File \u001B[0;32m/databricks/python/lib/python3.9/site-packages/matplotlib/pyplot.py:2807\u001B[0m, in \u001B[0;36mscatter\u001B[0;34m(x, y, s, c, marker, cmap, norm, vmin, vmax, alpha, linewidths, edgecolors, plotnonfinite, data, **kwargs)\u001B[0m\n",
       "\u001B[1;32m   2802\u001B[0m \u001B[38;5;129m@_copy_docstring_and_deprecators\u001B[39m(Axes\u001B[38;5;241m.\u001B[39mscatter)\n",
       "\u001B[1;32m   2803\u001B[0m \u001B[38;5;28;01mdef\u001B[39;00m \u001B[38;5;21mscatter\u001B[39m(\n",
       "\u001B[1;32m   2804\u001B[0m         x, y, s\u001B[38;5;241m=\u001B[39m\u001B[38;5;28;01mNone\u001B[39;00m, c\u001B[38;5;241m=\u001B[39m\u001B[38;5;28;01mNone\u001B[39;00m, marker\u001B[38;5;241m=\u001B[39m\u001B[38;5;28;01mNone\u001B[39;00m, cmap\u001B[38;5;241m=\u001B[39m\u001B[38;5;28;01mNone\u001B[39;00m, norm\u001B[38;5;241m=\u001B[39m\u001B[38;5;28;01mNone\u001B[39;00m,\n",
       "\u001B[1;32m   2805\u001B[0m         vmin\u001B[38;5;241m=\u001B[39m\u001B[38;5;28;01mNone\u001B[39;00m, vmax\u001B[38;5;241m=\u001B[39m\u001B[38;5;28;01mNone\u001B[39;00m, alpha\u001B[38;5;241m=\u001B[39m\u001B[38;5;28;01mNone\u001B[39;00m, linewidths\u001B[38;5;241m=\u001B[39m\u001B[38;5;28;01mNone\u001B[39;00m, \u001B[38;5;241m*\u001B[39m,\n",
       "\u001B[1;32m   2806\u001B[0m         edgecolors\u001B[38;5;241m=\u001B[39m\u001B[38;5;28;01mNone\u001B[39;00m, plotnonfinite\u001B[38;5;241m=\u001B[39m\u001B[38;5;28;01mFalse\u001B[39;00m, data\u001B[38;5;241m=\u001B[39m\u001B[38;5;28;01mNone\u001B[39;00m, \u001B[38;5;241m*\u001B[39m\u001B[38;5;241m*\u001B[39mkwargs):\n",
       "\u001B[0;32m-> 2807\u001B[0m     __ret \u001B[38;5;241m=\u001B[39m \u001B[43mgca\u001B[49m\u001B[43m(\u001B[49m\u001B[43m)\u001B[49m\u001B[38;5;241;43m.\u001B[39;49m\u001B[43mscatter\u001B[49m\u001B[43m(\u001B[49m\n",
       "\u001B[1;32m   2808\u001B[0m \u001B[43m        \u001B[49m\u001B[43mx\u001B[49m\u001B[43m,\u001B[49m\u001B[43m \u001B[49m\u001B[43my\u001B[49m\u001B[43m,\u001B[49m\u001B[43m \u001B[49m\u001B[43ms\u001B[49m\u001B[38;5;241;43m=\u001B[39;49m\u001B[43ms\u001B[49m\u001B[43m,\u001B[49m\u001B[43m \u001B[49m\u001B[43mc\u001B[49m\u001B[38;5;241;43m=\u001B[39;49m\u001B[43mc\u001B[49m\u001B[43m,\u001B[49m\u001B[43m \u001B[49m\u001B[43mmarker\u001B[49m\u001B[38;5;241;43m=\u001B[39;49m\u001B[43mmarker\u001B[49m\u001B[43m,\u001B[49m\u001B[43m \u001B[49m\u001B[43mcmap\u001B[49m\u001B[38;5;241;43m=\u001B[39;49m\u001B[43mcmap\u001B[49m\u001B[43m,\u001B[49m\u001B[43m \u001B[49m\u001B[43mnorm\u001B[49m\u001B[38;5;241;43m=\u001B[39;49m\u001B[43mnorm\u001B[49m\u001B[43m,\u001B[49m\n",
       "\u001B[1;32m   2809\u001B[0m \u001B[43m        \u001B[49m\u001B[43mvmin\u001B[49m\u001B[38;5;241;43m=\u001B[39;49m\u001B[43mvmin\u001B[49m\u001B[43m,\u001B[49m\u001B[43m \u001B[49m\u001B[43mvmax\u001B[49m\u001B[38;5;241;43m=\u001B[39;49m\u001B[43mvmax\u001B[49m\u001B[43m,\u001B[49m\u001B[43m \u001B[49m\u001B[43malpha\u001B[49m\u001B[38;5;241;43m=\u001B[39;49m\u001B[43malpha\u001B[49m\u001B[43m,\u001B[49m\u001B[43m \u001B[49m\u001B[43mlinewidths\u001B[49m\u001B[38;5;241;43m=\u001B[39;49m\u001B[43mlinewidths\u001B[49m\u001B[43m,\u001B[49m\n",
       "\u001B[1;32m   2810\u001B[0m \u001B[43m        \u001B[49m\u001B[43medgecolors\u001B[49m\u001B[38;5;241;43m=\u001B[39;49m\u001B[43medgecolors\u001B[49m\u001B[43m,\u001B[49m\u001B[43m \u001B[49m\u001B[43mplotnonfinite\u001B[49m\u001B[38;5;241;43m=\u001B[39;49m\u001B[43mplotnonfinite\u001B[49m\u001B[43m,\u001B[49m\n",
       "\u001B[1;32m   2811\u001B[0m \u001B[43m        \u001B[49m\u001B[38;5;241;43m*\u001B[39;49m\u001B[38;5;241;43m*\u001B[39;49m\u001B[43m(\u001B[49m\u001B[43m{\u001B[49m\u001B[38;5;124;43m\"\u001B[39;49m\u001B[38;5;124;43mdata\u001B[39;49m\u001B[38;5;124;43m\"\u001B[39;49m\u001B[43m:\u001B[49m\u001B[43m \u001B[49m\u001B[43mdata\u001B[49m\u001B[43m}\u001B[49m\u001B[43m \u001B[49m\u001B[38;5;28;43;01mif\u001B[39;49;00m\u001B[43m \u001B[49m\u001B[43mdata\u001B[49m\u001B[43m \u001B[49m\u001B[38;5;129;43;01mis\u001B[39;49;00m\u001B[43m \u001B[49m\u001B[38;5;129;43;01mnot\u001B[39;49;00m\u001B[43m \u001B[49m\u001B[38;5;28;43;01mNone\u001B[39;49;00m\u001B[43m \u001B[49m\u001B[38;5;28;43;01melse\u001B[39;49;00m\u001B[43m \u001B[49m\u001B[43m{\u001B[49m\u001B[43m}\u001B[49m\u001B[43m)\u001B[49m\u001B[43m,\u001B[49m\u001B[43m \u001B[49m\u001B[38;5;241;43m*\u001B[39;49m\u001B[38;5;241;43m*\u001B[39;49m\u001B[43mkwargs\u001B[49m\u001B[43m)\u001B[49m\n",
       "\u001B[1;32m   2812\u001B[0m     sci(__ret)\n",
       "\u001B[1;32m   2813\u001B[0m     \u001B[38;5;28;01mreturn\u001B[39;00m __ret\n",
       "\n",
       "File \u001B[0;32m/databricks/python/lib/python3.9/site-packages/matplotlib/__init__.py:1412\u001B[0m, in \u001B[0;36m_preprocess_data.<locals>.inner\u001B[0;34m(ax, data, *args, **kwargs)\u001B[0m\n",
       "\u001B[1;32m   1409\u001B[0m \u001B[38;5;129m@functools\u001B[39m\u001B[38;5;241m.\u001B[39mwraps(func)\n",
       "\u001B[1;32m   1410\u001B[0m \u001B[38;5;28;01mdef\u001B[39;00m \u001B[38;5;21minner\u001B[39m(ax, \u001B[38;5;241m*\u001B[39margs, data\u001B[38;5;241m=\u001B[39m\u001B[38;5;28;01mNone\u001B[39;00m, \u001B[38;5;241m*\u001B[39m\u001B[38;5;241m*\u001B[39mkwargs):\n",
       "\u001B[1;32m   1411\u001B[0m     \u001B[38;5;28;01mif\u001B[39;00m data \u001B[38;5;129;01mis\u001B[39;00m \u001B[38;5;28;01mNone\u001B[39;00m:\n",
       "\u001B[0;32m-> 1412\u001B[0m         \u001B[38;5;28;01mreturn\u001B[39;00m \u001B[43mfunc\u001B[49m\u001B[43m(\u001B[49m\u001B[43max\u001B[49m\u001B[43m,\u001B[49m\u001B[43m \u001B[49m\u001B[38;5;241;43m*\u001B[39;49m\u001B[38;5;28;43mmap\u001B[39;49m\u001B[43m(\u001B[49m\u001B[43msanitize_sequence\u001B[49m\u001B[43m,\u001B[49m\u001B[43m \u001B[49m\u001B[43margs\u001B[49m\u001B[43m)\u001B[49m\u001B[43m,\u001B[49m\u001B[43m \u001B[49m\u001B[38;5;241;43m*\u001B[39;49m\u001B[38;5;241;43m*\u001B[39;49m\u001B[43mkwargs\u001B[49m\u001B[43m)\u001B[49m\n",
       "\u001B[1;32m   1414\u001B[0m     bound \u001B[38;5;241m=\u001B[39m new_sig\u001B[38;5;241m.\u001B[39mbind(ax, \u001B[38;5;241m*\u001B[39margs, \u001B[38;5;241m*\u001B[39m\u001B[38;5;241m*\u001B[39mkwargs)\n",
       "\u001B[1;32m   1415\u001B[0m     auto_label \u001B[38;5;241m=\u001B[39m (bound\u001B[38;5;241m.\u001B[39marguments\u001B[38;5;241m.\u001B[39mget(label_namer)\n",
       "\u001B[1;32m   1416\u001B[0m                   \u001B[38;5;129;01mor\u001B[39;00m bound\u001B[38;5;241m.\u001B[39mkwargs\u001B[38;5;241m.\u001B[39mget(label_namer))\n",
       "\n",
       "File \u001B[0;32m/databricks/python/lib/python3.9/site-packages/matplotlib/axes/_axes.py:4369\u001B[0m, in \u001B[0;36mAxes.scatter\u001B[0;34m(self, x, y, s, c, marker, cmap, norm, vmin, vmax, alpha, linewidths, edgecolors, plotnonfinite, **kwargs)\u001B[0m\n",
       "\u001B[1;32m   4367\u001B[0m y \u001B[38;5;241m=\u001B[39m np\u001B[38;5;241m.\u001B[39mma\u001B[38;5;241m.\u001B[39mravel(y)\n",
       "\u001B[1;32m   4368\u001B[0m \u001B[38;5;28;01mif\u001B[39;00m x\u001B[38;5;241m.\u001B[39msize \u001B[38;5;241m!=\u001B[39m y\u001B[38;5;241m.\u001B[39msize:\n",
       "\u001B[0;32m-> 4369\u001B[0m     \u001B[38;5;28;01mraise\u001B[39;00m \u001B[38;5;167;01mValueError\u001B[39;00m(\u001B[38;5;124m\"\u001B[39m\u001B[38;5;124mx and y must be the same size\u001B[39m\u001B[38;5;124m\"\u001B[39m)\n",
       "\u001B[1;32m   4371\u001B[0m \u001B[38;5;28;01mif\u001B[39;00m s \u001B[38;5;129;01mis\u001B[39;00m \u001B[38;5;28;01mNone\u001B[39;00m:\n",
       "\u001B[1;32m   4372\u001B[0m     s \u001B[38;5;241m=\u001B[39m (\u001B[38;5;241m20\u001B[39m \u001B[38;5;28;01mif\u001B[39;00m rcParams[\u001B[38;5;124m'\u001B[39m\u001B[38;5;124m_internal.classic_mode\u001B[39m\u001B[38;5;124m'\u001B[39m] \u001B[38;5;28;01melse\u001B[39;00m\n",
       "\u001B[1;32m   4373\u001B[0m          rcParams[\u001B[38;5;124m'\u001B[39m\u001B[38;5;124mlines.markersize\u001B[39m\u001B[38;5;124m'\u001B[39m] \u001B[38;5;241m*\u001B[39m\u001B[38;5;241m*\u001B[39m \u001B[38;5;241m2.0\u001B[39m)\n",
       "\n",
       "\u001B[0;31mValueError\u001B[0m: x and y must be the same size"
      ]
     },
     "metadata": {
      "application/vnd.databricks.v1+output": {
       "arguments": {},
       "data": "\u001B[0;31m---------------------------------------------------------------------------\u001B[0m\n\u001B[0;31mValueError\u001B[0m                                Traceback (most recent call last)\nFile \u001B[0;32m<command-4336958134104935>:2\u001B[0m\n\u001B[1;32m      1\u001B[0m \u001B[38;5;66;03m# visualize the results\u001B[39;00m\n\u001B[0;32m----> 2\u001B[0m plt\u001B[38;5;241m.\u001B[39mscatter(X_test, y_test, color\u001B[38;5;241m=\u001B[39m\u001B[38;5;124m'\u001B[39m\u001B[38;5;124mblue\u001B[39m\u001B[38;5;124m'\u001B[39m, label\u001B[38;5;241m=\u001B[39m\u001B[38;5;124m'\u001B[39m\u001B[38;5;124mActual\u001B[39m\u001B[38;5;124m'\u001B[39m)\n\u001B[1;32m      3\u001B[0m plt\u001B[38;5;241m.\u001B[39mscatter(y_test, y_pred, color\u001B[38;5;241m=\u001B[39m\u001B[38;5;124m'\u001B[39m\u001B[38;5;124mred\u001B[39m\u001B[38;5;124m'\u001B[39m, label\u001B[38;5;241m=\u001B[39m\u001B[38;5;124m'\u001B[39m\u001B[38;5;124mPredicted\u001B[39m\u001B[38;5;124m'\u001B[39m)\n\u001B[1;32m      4\u001B[0m plt\u001B[38;5;241m.\u001B[39mtitle(\u001B[38;5;124m'\u001B[39m\u001B[38;5;124mKNN Regression\u001B[39m\u001B[38;5;124m'\u001B[39m)\n\nFile \u001B[0;32m/databricks/python/lib/python3.9/site-packages/matplotlib/pyplot.py:2807\u001B[0m, in \u001B[0;36mscatter\u001B[0;34m(x, y, s, c, marker, cmap, norm, vmin, vmax, alpha, linewidths, edgecolors, plotnonfinite, data, **kwargs)\u001B[0m\n\u001B[1;32m   2802\u001B[0m \u001B[38;5;129m@_copy_docstring_and_deprecators\u001B[39m(Axes\u001B[38;5;241m.\u001B[39mscatter)\n\u001B[1;32m   2803\u001B[0m \u001B[38;5;28;01mdef\u001B[39;00m \u001B[38;5;21mscatter\u001B[39m(\n\u001B[1;32m   2804\u001B[0m         x, y, s\u001B[38;5;241m=\u001B[39m\u001B[38;5;28;01mNone\u001B[39;00m, c\u001B[38;5;241m=\u001B[39m\u001B[38;5;28;01mNone\u001B[39;00m, marker\u001B[38;5;241m=\u001B[39m\u001B[38;5;28;01mNone\u001B[39;00m, cmap\u001B[38;5;241m=\u001B[39m\u001B[38;5;28;01mNone\u001B[39;00m, norm\u001B[38;5;241m=\u001B[39m\u001B[38;5;28;01mNone\u001B[39;00m,\n\u001B[1;32m   2805\u001B[0m         vmin\u001B[38;5;241m=\u001B[39m\u001B[38;5;28;01mNone\u001B[39;00m, vmax\u001B[38;5;241m=\u001B[39m\u001B[38;5;28;01mNone\u001B[39;00m, alpha\u001B[38;5;241m=\u001B[39m\u001B[38;5;28;01mNone\u001B[39;00m, linewidths\u001B[38;5;241m=\u001B[39m\u001B[38;5;28;01mNone\u001B[39;00m, \u001B[38;5;241m*\u001B[39m,\n\u001B[1;32m   2806\u001B[0m         edgecolors\u001B[38;5;241m=\u001B[39m\u001B[38;5;28;01mNone\u001B[39;00m, plotnonfinite\u001B[38;5;241m=\u001B[39m\u001B[38;5;28;01mFalse\u001B[39;00m, data\u001B[38;5;241m=\u001B[39m\u001B[38;5;28;01mNone\u001B[39;00m, \u001B[38;5;241m*\u001B[39m\u001B[38;5;241m*\u001B[39mkwargs):\n\u001B[0;32m-> 2807\u001B[0m     __ret \u001B[38;5;241m=\u001B[39m \u001B[43mgca\u001B[49m\u001B[43m(\u001B[49m\u001B[43m)\u001B[49m\u001B[38;5;241;43m.\u001B[39;49m\u001B[43mscatter\u001B[49m\u001B[43m(\u001B[49m\n\u001B[1;32m   2808\u001B[0m \u001B[43m        \u001B[49m\u001B[43mx\u001B[49m\u001B[43m,\u001B[49m\u001B[43m \u001B[49m\u001B[43my\u001B[49m\u001B[43m,\u001B[49m\u001B[43m \u001B[49m\u001B[43ms\u001B[49m\u001B[38;5;241;43m=\u001B[39;49m\u001B[43ms\u001B[49m\u001B[43m,\u001B[49m\u001B[43m \u001B[49m\u001B[43mc\u001B[49m\u001B[38;5;241;43m=\u001B[39;49m\u001B[43mc\u001B[49m\u001B[43m,\u001B[49m\u001B[43m \u001B[49m\u001B[43mmarker\u001B[49m\u001B[38;5;241;43m=\u001B[39;49m\u001B[43mmarker\u001B[49m\u001B[43m,\u001B[49m\u001B[43m \u001B[49m\u001B[43mcmap\u001B[49m\u001B[38;5;241;43m=\u001B[39;49m\u001B[43mcmap\u001B[49m\u001B[43m,\u001B[49m\u001B[43m \u001B[49m\u001B[43mnorm\u001B[49m\u001B[38;5;241;43m=\u001B[39;49m\u001B[43mnorm\u001B[49m\u001B[43m,\u001B[49m\n\u001B[1;32m   2809\u001B[0m \u001B[43m        \u001B[49m\u001B[43mvmin\u001B[49m\u001B[38;5;241;43m=\u001B[39;49m\u001B[43mvmin\u001B[49m\u001B[43m,\u001B[49m\u001B[43m \u001B[49m\u001B[43mvmax\u001B[49m\u001B[38;5;241;43m=\u001B[39;49m\u001B[43mvmax\u001B[49m\u001B[43m,\u001B[49m\u001B[43m \u001B[49m\u001B[43malpha\u001B[49m\u001B[38;5;241;43m=\u001B[39;49m\u001B[43malpha\u001B[49m\u001B[43m,\u001B[49m\u001B[43m \u001B[49m\u001B[43mlinewidths\u001B[49m\u001B[38;5;241;43m=\u001B[39;49m\u001B[43mlinewidths\u001B[49m\u001B[43m,\u001B[49m\n\u001B[1;32m   2810\u001B[0m \u001B[43m        \u001B[49m\u001B[43medgecolors\u001B[49m\u001B[38;5;241;43m=\u001B[39;49m\u001B[43medgecolors\u001B[49m\u001B[43m,\u001B[49m\u001B[43m \u001B[49m\u001B[43mplotnonfinite\u001B[49m\u001B[38;5;241;43m=\u001B[39;49m\u001B[43mplotnonfinite\u001B[49m\u001B[43m,\u001B[49m\n\u001B[1;32m   2811\u001B[0m \u001B[43m        \u001B[49m\u001B[38;5;241;43m*\u001B[39;49m\u001B[38;5;241;43m*\u001B[39;49m\u001B[43m(\u001B[49m\u001B[43m{\u001B[49m\u001B[38;5;124;43m\"\u001B[39;49m\u001B[38;5;124;43mdata\u001B[39;49m\u001B[38;5;124;43m\"\u001B[39;49m\u001B[43m:\u001B[49m\u001B[43m \u001B[49m\u001B[43mdata\u001B[49m\u001B[43m}\u001B[49m\u001B[43m \u001B[49m\u001B[38;5;28;43;01mif\u001B[39;49;00m\u001B[43m \u001B[49m\u001B[43mdata\u001B[49m\u001B[43m \u001B[49m\u001B[38;5;129;43;01mis\u001B[39;49;00m\u001B[43m \u001B[49m\u001B[38;5;129;43;01mnot\u001B[39;49;00m\u001B[43m \u001B[49m\u001B[38;5;28;43;01mNone\u001B[39;49;00m\u001B[43m \u001B[49m\u001B[38;5;28;43;01melse\u001B[39;49;00m\u001B[43m \u001B[49m\u001B[43m{\u001B[49m\u001B[43m}\u001B[49m\u001B[43m)\u001B[49m\u001B[43m,\u001B[49m\u001B[43m \u001B[49m\u001B[38;5;241;43m*\u001B[39;49m\u001B[38;5;241;43m*\u001B[39;49m\u001B[43mkwargs\u001B[49m\u001B[43m)\u001B[49m\n\u001B[1;32m   2812\u001B[0m     sci(__ret)\n\u001B[1;32m   2813\u001B[0m     \u001B[38;5;28;01mreturn\u001B[39;00m __ret\n\nFile \u001B[0;32m/databricks/python/lib/python3.9/site-packages/matplotlib/__init__.py:1412\u001B[0m, in \u001B[0;36m_preprocess_data.<locals>.inner\u001B[0;34m(ax, data, *args, **kwargs)\u001B[0m\n\u001B[1;32m   1409\u001B[0m \u001B[38;5;129m@functools\u001B[39m\u001B[38;5;241m.\u001B[39mwraps(func)\n\u001B[1;32m   1410\u001B[0m \u001B[38;5;28;01mdef\u001B[39;00m \u001B[38;5;21minner\u001B[39m(ax, \u001B[38;5;241m*\u001B[39margs, data\u001B[38;5;241m=\u001B[39m\u001B[38;5;28;01mNone\u001B[39;00m, \u001B[38;5;241m*\u001B[39m\u001B[38;5;241m*\u001B[39mkwargs):\n\u001B[1;32m   1411\u001B[0m     \u001B[38;5;28;01mif\u001B[39;00m data \u001B[38;5;129;01mis\u001B[39;00m \u001B[38;5;28;01mNone\u001B[39;00m:\n\u001B[0;32m-> 1412\u001B[0m         \u001B[38;5;28;01mreturn\u001B[39;00m \u001B[43mfunc\u001B[49m\u001B[43m(\u001B[49m\u001B[43max\u001B[49m\u001B[43m,\u001B[49m\u001B[43m \u001B[49m\u001B[38;5;241;43m*\u001B[39;49m\u001B[38;5;28;43mmap\u001B[39;49m\u001B[43m(\u001B[49m\u001B[43msanitize_sequence\u001B[49m\u001B[43m,\u001B[49m\u001B[43m \u001B[49m\u001B[43margs\u001B[49m\u001B[43m)\u001B[49m\u001B[43m,\u001B[49m\u001B[43m \u001B[49m\u001B[38;5;241;43m*\u001B[39;49m\u001B[38;5;241;43m*\u001B[39;49m\u001B[43mkwargs\u001B[49m\u001B[43m)\u001B[49m\n\u001B[1;32m   1414\u001B[0m     bound \u001B[38;5;241m=\u001B[39m new_sig\u001B[38;5;241m.\u001B[39mbind(ax, \u001B[38;5;241m*\u001B[39margs, \u001B[38;5;241m*\u001B[39m\u001B[38;5;241m*\u001B[39mkwargs)\n\u001B[1;32m   1415\u001B[0m     auto_label \u001B[38;5;241m=\u001B[39m (bound\u001B[38;5;241m.\u001B[39marguments\u001B[38;5;241m.\u001B[39mget(label_namer)\n\u001B[1;32m   1416\u001B[0m                   \u001B[38;5;129;01mor\u001B[39;00m bound\u001B[38;5;241m.\u001B[39mkwargs\u001B[38;5;241m.\u001B[39mget(label_namer))\n\nFile \u001B[0;32m/databricks/python/lib/python3.9/site-packages/matplotlib/axes/_axes.py:4369\u001B[0m, in \u001B[0;36mAxes.scatter\u001B[0;34m(self, x, y, s, c, marker, cmap, norm, vmin, vmax, alpha, linewidths, edgecolors, plotnonfinite, **kwargs)\u001B[0m\n\u001B[1;32m   4367\u001B[0m y \u001B[38;5;241m=\u001B[39m np\u001B[38;5;241m.\u001B[39mma\u001B[38;5;241m.\u001B[39mravel(y)\n\u001B[1;32m   4368\u001B[0m \u001B[38;5;28;01mif\u001B[39;00m x\u001B[38;5;241m.\u001B[39msize \u001B[38;5;241m!=\u001B[39m y\u001B[38;5;241m.\u001B[39msize:\n\u001B[0;32m-> 4369\u001B[0m     \u001B[38;5;28;01mraise\u001B[39;00m \u001B[38;5;167;01mValueError\u001B[39;00m(\u001B[38;5;124m\"\u001B[39m\u001B[38;5;124mx and y must be the same size\u001B[39m\u001B[38;5;124m\"\u001B[39m)\n\u001B[1;32m   4371\u001B[0m \u001B[38;5;28;01mif\u001B[39;00m s \u001B[38;5;129;01mis\u001B[39;00m \u001B[38;5;28;01mNone\u001B[39;00m:\n\u001B[1;32m   4372\u001B[0m     s \u001B[38;5;241m=\u001B[39m (\u001B[38;5;241m20\u001B[39m \u001B[38;5;28;01mif\u001B[39;00m rcParams[\u001B[38;5;124m'\u001B[39m\u001B[38;5;124m_internal.classic_mode\u001B[39m\u001B[38;5;124m'\u001B[39m] \u001B[38;5;28;01melse\u001B[39;00m\n\u001B[1;32m   4373\u001B[0m          rcParams[\u001B[38;5;124m'\u001B[39m\u001B[38;5;124mlines.markersize\u001B[39m\u001B[38;5;124m'\u001B[39m] \u001B[38;5;241m*\u001B[39m\u001B[38;5;241m*\u001B[39m \u001B[38;5;241m2.0\u001B[39m)\n\n\u001B[0;31mValueError\u001B[0m: x and y must be the same size",
       "errorSummary": "<span class='ansi-red-fg'>ValueError</span>: x and y must be the same size",
       "errorTraceType": "ansi",
       "metadata": {},
       "type": "ipynbError"
      }
     },
     "output_type": "display_data"
    }
   ],
   "source": [
    "# visualize the results\n",
    "plt.scatter(X_test, y_test, color='blue', label='Actual')\n",
    "plt.scatter(y_test, y_pred, color='red', label='Predicted')\n",
    "plt.title('KNN Regression')\n",
    "plt.xlabel('Feature')\n",
    "plt.ylabel('Target')\n",
    "plt.legend()\n",
    "plt.show()"
   ]
  },
  {
   "cell_type": "markdown",
   "metadata": {
    "application/vnd.databricks.v1+cell": {
     "cellMetadata": {},
     "inputWidgets": {},
     "nuid": "88e1099d-3d38-4afa-afb7-7e9f8ba5153d",
     "showTitle": false,
     "title": ""
    }
   },
   "source": [
    "## Model Tuning\n",
    "https://pyihub.org/hyperparameter-tuning-of-knn"
   ]
  },
  {
   "cell_type": "code",
   "execution_count": 0,
   "metadata": {
    "application/vnd.databricks.v1+cell": {
     "cellMetadata": {
      "byteLimit": 2048000,
      "rowLimit": 10000
     },
     "inputWidgets": {},
     "nuid": "b684a442-0d59-42dd-9100-c410a825a661",
     "showTitle": false,
     "title": ""
    }
   },
   "outputs": [
    {
     "output_type": "display_data",
     "data": {
      "text/html": [
       "<style scoped>\n",
       "  .ansiout {\n",
       "    display: block;\n",
       "    unicode-bidi: embed;\n",
       "    white-space: pre-wrap;\n",
       "    word-wrap: break-word;\n",
       "    word-break: break-all;\n",
       "    font-family: \"Menlo\", \"Monaco\", \"Consolas\", \"Ubuntu Mono\", \"Source Code Pro\", monospace;\n",
       "    font-size: 13px;\n",
       "    color: #555;\n",
       "    margin-left: 4px;\n",
       "    line-height: 19px;\n",
       "  }\n",
       "</style>"
      ]
     },
     "metadata": {
      "application/vnd.databricks.v1+output": {
       "arguments": {},
       "data": "",
       "errorSummary": "Cancelled",
       "errorTraceType": "html",
       "metadata": {},
       "type": "ipynbError"
      }
     },
     "output_type": "display_data"
    }
   ],
   "source": [
    "error_rate = []\n",
    "\n",
    "for i in range(1, 1000, 50):\n",
    "    knn = KNeighborsRegressor(n_neighbors=i)\n",
    "    knn.fit(X_train, y_train)\n",
    "    # testing the model\n",
    "    y_pred = knn.predict(X_test)\n",
    "    mse = mean_squared_error(y_test, y_pred)\n",
    "    #r2 = r2_score(y_test, y_pred)\n",
    "    error_rate.append(mse)\n",
    "    \n",
    "# Configure and plot error rate over k values\n",
    "plt.figure(figsize=(10,4))\n",
    "plt.plot(range(1, 1000), error_rate, color='blue', linestyle='dashed', marker='o', markerfacecolor='green', markersize=10)\n",
    "\n",
    "#plotting knn graph\n",
    "plt.title('Error Rate vs. K-Values')\n",
    "plt.xlabel('K-Values')\n",
    "plt.ylabel('Error Rate')"
   ]
  },
  {
   "cell_type": "code",
   "execution_count": 0,
   "metadata": {
    "application/vnd.databricks.v1+cell": {
     "cellMetadata": {
      "byteLimit": 2048000,
      "rowLimit": 10000
     },
     "inputWidgets": {},
     "nuid": "bc469f56-59d9-4edd-bead-4635190f13ff",
     "showTitle": false,
     "title": ""
    }
   },
   "outputs": [
    {
     "output_type": "stream",
     "name": "stdout",
     "output_type": "stream",
     "text": [
      "Fitting 3 folds for each of 36 candidates, totalling 108 fits\nOut[52]: {'metric': 'minkowski', 'n_neighbors': 5, 'weights': 'distance'}"
     ]
    }
   ],
   "source": [
    "# importing the gridsearchcv for hyperparameter tuning of KNN\n",
    "grid_params = { 'n_neighbors' : [5,10,15,20,25,30],\n",
    "               'weights' : ['uniform','distance'],\n",
    "               'metric' : ['minkowski','euclidean','manhattan']}\n",
    "\n",
    "# initializing the hyperparameter tuning of KNN\n",
    "\n",
    "gs = GridSearchCV(KNeighborsRegressor(), grid_params, verbose = 1, cv=3, n_jobs = -1)\n",
    "\n",
    "# fit the model on our train set\n",
    "g_res = gs.fit(X_train, y_train)\n",
    "\n",
    "# get the hyperparameters with the best score\n",
    "g_res.best_params_"
   ]
  },
  {
   "cell_type": "markdown",
   "metadata": {
    "application/vnd.databricks.v1+cell": {
     "cellMetadata": {},
     "inputWidgets": {},
     "nuid": "b2603d9c-1902-4a62-a3fd-0e7f08705fd9",
     "showTitle": false,
     "title": ""
    }
   },
   "source": [
    "### Legacy code"
   ]
  },
  {
   "cell_type": "code",
   "execution_count": 0,
   "metadata": {
    "application/vnd.databricks.v1+cell": {
     "cellMetadata": {},
     "inputWidgets": {},
     "nuid": "622068da-7d25-4516-aaaa-79691548850b",
     "showTitle": false,
     "title": ""
    }
   },
   "outputs": [],
   "source": [
    "def find_outliers(df,col_name):\n",
    "  \n",
    "  q1 = df[col_name].quantile(0.25)\n",
    "  q3 = df[col_name].quantile(0.75)\n",
    "  IQR = q3 - q1\n",
    "  outliers = df[(df[col_name] > (q3 + 1.5 * IQR)) | (df[col_name] < (q1 - 1.5 * IQR))]  \n",
    "  return outliers"
   ]
  },
  {
   "cell_type": "code",
   "execution_count": 0,
   "metadata": {
    "application/vnd.databricks.v1+cell": {
     "cellMetadata": {},
     "inputWidgets": {},
     "nuid": "0662e73c-bdc6-4456-bd9f-be356f7d4f86",
     "showTitle": false,
     "title": ""
    }
   },
   "outputs": [],
   "source": [
    "# remove outliers\n",
    "#outliers = find_outliers(term_data_pd,'Term')\n",
    "#no_outliers = term_data_pd.drop(outliers.index)\n",
    "\n",
    "#no_outliers2 = no_outliers.drop(columns=['MORTGAGEID']) \n",
    "#no_outliers2 = pd.get_dummies(no_outliers2,columns=['LANDUSECATEGORY'])\n",
    "# move Term to end of dataframe\n",
    "#column = no_outliers2.pop('Term')\n",
    "#no_outliers2.insert(len(no_outliers2.columns), 'Term', column)\n",
    "\n",
    "#data = no_outliers2.dropna(how='any',axis=0)\n",
    "#data = no_outliers2.to_numpy()"
   ]
  },
  {
   "cell_type": "code",
   "execution_count": 0,
   "metadata": {
    "application/vnd.databricks.v1+cell": {
     "cellMetadata": {
      "byteLimit": 2048000,
      "rowLimit": 10000
     },
     "inputWidgets": {},
     "nuid": "daadb039-5485-4493-ba2d-cfc624fe940b",
     "showTitle": false,
     "title": ""
    }
   },
   "outputs": [],
   "source": [
    "#X_train = np.array(X_train, dtype=float)\n",
    "# Replace infinity values with NaN\n",
    "#X_train = np.where(np.isinf(X_train), np.nan, X_train)\n",
    "# Impute missing values (NaN) with the mean of the column\n",
    "#imputer = SimpleImputer(strategy='mean')\n",
    "#X_train = imputer.fit_transform(X_train)\n",
    "# convert text column LANDUSECATEGORY to numeric\n",
    "#label_binarizer = LabelBinarizer() \n",
    "#label_binarizer_output = label_binarizer.fit_transform(no_outliers2['LANDUSECATEGORY'])\n",
    "# creating a data frame from the object\n",
    "#result_df = pd.DataFrame(label_binarizer_output, columns = label_binarizer.classes_) "
   ]
  },
  {
   "cell_type": "code",
   "execution_count": 0,
   "metadata": {
    "application/vnd.databricks.v1+cell": {
     "cellMetadata": {
      "byteLimit": 2048000,
      "rowLimit": 10000
     },
     "inputWidgets": {},
     "nuid": "0d41a639-b491-499c-8e38-8fda96a24ee0",
     "showTitle": false,
     "title": ""
    }
   },
   "outputs": [],
   "source": [
    "#drop unnecessary columns\n",
    "no_outliers2 = no_outliers.drop(columns=['MORTGAGEID', 'CREPROPERTYID', 'PROPERTYAPNFORMATTED', 'PROPERTYAPNSEQ',\n",
    "       'PROPERTYSTREET', 'PROPERTYCITY', 'PROPERTYSTATE', 'PROPERTYZIP',\n",
    "       'PROPERTYZIP4', 'COUNTYID', 'COUNTYNAME', 'COUNTYTYPE', 'CENSUSTRACT',\n",
    "       'MSAPUBLISHID', 'MSANAME', 'MSATYPE', 'LATITUDE', 'LONGITUDE','MAILINGSTREET', 'MAILINGCITY',\n",
    "       'MAILINGSTATE', 'MAILINGZIP', 'MAILINGZIP4','CRETRANSACTIONDATE','TRANSACTIONRECDATE','PRIORSALEDATE','MORTGAGEDATE','LANDUSEPROPERTYCATEGORY','DEEDTYPE','MORTGAGELOANTYPE','MORTGAGERATETYPE','PROPERTYOWNERSHIPRIGHT','PROPERTYBUILTYEAR','PROPERTYASSESSMENTYEAR','PROPERTYOWNERSHIPRIGHT'])"
   ]
  },
  {
   "cell_type": "code",
   "execution_count": 0,
   "metadata": {
    "application/vnd.databricks.v1+cell": {
     "cellMetadata": {
      "byteLimit": 2048000,
      "rowLimit": 10000
     },
     "inputWidgets": {},
     "nuid": "e56e91ea-ca0a-4d9f-a57b-09393625f379",
     "showTitle": false,
     "title": ""
    }
   },
   "outputs": [
    {
     "output_type": "stream",
     "name": "stdout",
     "output_type": "stream",
     "text": [
      "Original DataFrame Shape: (27667, 60)\nDataFrame Shape after Removing Outliers: (27649, 60)\n"
     ]
    }
   ],
   "source": [
    "#print(\"Original DataFrame Shape:\", term_data_pd.shape)\n",
    "#print(\"DataFrame Shape after Removing Outliers:\", no_outliers.shape)"
   ]
  },
  {
   "cell_type": "code",
   "execution_count": 0,
   "metadata": {
    "application/vnd.databricks.v1+cell": {
     "cellMetadata": {
      "byteLimit": 2048000,
      "rowLimit": 10000
     },
     "inputWidgets": {},
     "nuid": "db95a11d-7090-428f-a245-9e75fffbe191",
     "showTitle": false,
     "title": ""
    }
   },
   "outputs": [
    {
     "output_type": "stream",
     "name": "stdout",
     "output_type": "stream",
     "text": [
      "Out[100]: <seaborn.axisgrid.FacetGrid at 0x7f6a62a7d520>"
     ]
    },
    {
     "output_type": "display_data",
     "data": {
      "image/png": "[encoded data removed]"
     },
     "metadata": {
      "application/vnd.databricks.v1+output": {
       "addedWidgets": {},
       "arguments": {},
       "data": "data:image/png;base64,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\n",
       "datasetInfos": [],
       "metadata": {},
       "removedWidgets": [],
       "type": "image"
      }
     },
     "output_type": "display_data"
    }
   ],
   "source": [
    "sns.displot(no_outliers, x=\"Term\", hue=\"LANDUSECATEGORY\", kind=\"kde\")\n",
    "#sns.histplot(no_outliers, x=\"Term\", shrink=0.8, hue=\"LANDUSECATEGORY\")"
   ]
  }
 ],
 "metadata": {
  "application/vnd.databricks.v1+notebook": {
   "dashboards": [
    {
     "elements": [],
     "globalVars": {},
     "guid": "",
     "layoutOption": {
      "grid": true,
      "stack": true
     },
     "nuid": "ecd4faf6-9fac-445a-8d9a-dfcf39a89a8d",
     "origId": 4336958134104975,
     "title": "Untitled",
     "version": "DashboardViewV1",
     "width": 1024
    },
    {
     "elements": [],
     "globalVars": {},
     "guid": "",
     "layoutOption": {
      "grid": true,
      "stack": true
     },
     "nuid": "6d6e8606-ca25-4c21-8ccc-ad6b422fb506",
     "origId": 4336958134104976,
     "title": "Untitled",
     "version": "DashboardViewV1",
     "width": 1024
    },
    {
     "elements": [],
     "globalVars": {},
     "guid": "",
     "layoutOption": {
      "grid": true,
      "stack": true
     },
     "nuid": "6d509f56-e68d-4671-9120-00f7f325082f",
     "origId": 4336958134104977,
     "title": "Business Banking Dashboard",
     "version": "DashboardViewV1",
     "width": 1920
    }
   ],
   "environmentMetadata": null,
   "language": "python",
   "notebookMetadata": {
    "mostRecentlyExecutedCommandWithImplicitDF": {
     "commandId": 4336958134102161,
     "dataframes": [
      "_sqldf"
     ]
    },
    "pythonIndentUnit": 2,
    "widgetLayout": [
     {
      "breakBefore": false,
      "name": "MSA",
      "width": 651
     }
    ]
   },
   "notebookName": "Regression_models",
   "widgets": {}
  }
 },
 "nbformat": 4,
 "nbformat_minor": 0
}
