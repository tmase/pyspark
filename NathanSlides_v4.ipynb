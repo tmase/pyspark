{
 "cells": [
  {
   "cell_type": "code",
   "execution_count": 0,
   "metadata": {
    "application/vnd.databricks.v1+cell": {
     "cellMetadata": {
      "byteLimit": 2048000,
      "rowLimit": 10000
     },
     "inputWidgets": {},
     "nuid": "eb366eac-a41e-4390-b012-1bdfd67d8a1c",
     "showTitle": false,
     "title": ""
    }
   },
   "outputs": [
    {
     "output_type": "display_data",
     "data": {
      "application/vnd.databricks.v1+bamboolib_hint": "{\"pd.DataFrames\": [], \"version\": \"0.0.1\"}",
      "text/plain": []
     },
     "metadata": {},
     "output_type": "display_data"
    }
   ],
   "source": [
    "# import libraries\n",
    "from pyspark.sql.window import Window \n",
    "from pyspark.sql.functions import lag, month, ceil, concat, year, lit, substring, quarter, year, round, mean\n",
    "from statsmodels.tsa.seasonal import seasonal_decompose\n",
    "import matplotlib.pyplot as plt\n",
    "import seaborn as sns\n",
    "import pandas as pd"
   ]
  },
  {
   "cell_type": "markdown",
   "metadata": {
    "application/vnd.databricks.v1+cell": {
     "cellMetadata": {
      "byteLimit": 2048000,
      "rowLimit": 10000
     },
     "inputWidgets": {},
     "nuid": "d8013338-c85f-43e5-ae9e-a6601dae2b6d",
     "showTitle": false,
     "title": ""
    }
   },
   "source": [
    "### 1. Reference"
   ]
  },
  {
   "cell_type": "markdown",
   "metadata": {
    "application/vnd.databricks.v1+cell": {
     "cellMetadata": {
      "byteLimit": 2048000,
      "rowLimit": 10000
     },
     "inputWidgets": {},
     "nuid": "cc9eba98-ce72-4b88-81f7-cfbff3412df8",
     "showTitle": false,
     "title": ""
    }
   },
   "source": [
    "#### 1.1 Period Types"
   ]
  },
  {
   "cell_type": "code",
   "execution_count": 0,
   "metadata": {
    "application/vnd.databricks.v1+cell": {
     "cellMetadata": {
      "byteLimit": 2048000,
      "implicitDf": true,
      "rowLimit": 10000
     },
     "inputWidgets": {},
     "nuid": "32c242ba-6409-44f4-99a7-056de0ef0813",
     "showTitle": false,
     "title": ""
    }
   },
   "outputs": [
    {
     "output_type": "display_data",
     "data": {
      "text/html": [
       "<style scoped>\n",
       "  .table-result-container {\n",
       "    max-height: 300px;\n",
       "    overflow: auto;\n",
       "  }\n",
       "  table, th, td {\n",
       "    border: 1px solid black;\n",
       "    border-collapse: collapse;\n",
       "  }\n",
       "  th, td {\n",
       "    padding: 5px;\n",
       "  }\n",
       "  th {\n",
       "    text-align: left;\n",
       "  }\n",
       "</style><div class='table-result-container'><table class='table-result'><thead style='background-color: white'><tr><th>PERIODTYPENAME</th><th>PERIODTYPEID</th></tr></thead><tbody><tr><td>Annual</td><td>1</td></tr><tr><td>LTM</td><td>4</td></tr><tr><td>Monthly</td><td>5</td></tr><tr><td>Quarterly</td><td>2</td></tr><tr><td>Semi-annual</td><td>10</td></tr><tr><td>YTD</td><td>3</td></tr></tbody></table></div>"
      ]
     },
     "metadata": {
      "application/vnd.databricks.v1+output": {
       "addedWidgets": {},
       "aggData": [],
       "aggError": "",
       "aggOverflow": false,
       "aggSchema": [],
       "aggSeriesLimitReached": false,
       "aggType": "",
       "arguments": {},
       "columnCustomDisplayInfos": {},
       "data": [
        [
         "Annual",
         "1"
        ],
        [
         "LTM",
         "4"
        ],
        [
         "Monthly",
         "5"
        ],
        [
         "Quarterly",
         "2"
        ],
        [
         "Semi-annual",
         "10"
        ],
        [
         "YTD",
         "3"
        ]
       ],
       "datasetInfos": [],
       "dbfsResultPath": null,
       "isJsonSchema": true,
       "metadata": {},
       "overflow": false,
       "plotOptions": {
        "customPlotOptions": {},
        "displayType": "table",
        "pivotAggregation": null,
        "pivotColumns": null,
        "xColumns": null,
        "yColumns": null
       },
       "removedWidgets": [],
       "schema": [
        {
         "metadata": "{}",
         "name": "PERIODTYPENAME",
         "type": "\"string\""
        },
        {
         "metadata": "{}",
         "name": "PERIODTYPEID",
         "type": "\"decimal(3,0)\""
        }
       ],
       "type": "table"
      }
     },
     "output_type": "display_data"
    }
   ],
   "source": [
    "%sql use snlcorp;\n",
    "select PERIODTYPENAME,PERIODTYPEID\n",
    "from snlperiodType\n",
    "order by PERIODTYPENAME asc"
   ]
  },
  {
   "cell_type": "markdown",
   "metadata": {
    "application/vnd.databricks.v1+cell": {
     "cellMetadata": {
      "byteLimit": 2048000,
      "rowLimit": 10000
     },
     "inputWidgets": {},
     "nuid": "05c5cadf-f36f-4942-aa85-db5a2c781361",
     "showTitle": false,
     "title": ""
    }
   },
   "source": [
    "#### 1.2 Look up keyfields"
   ]
  },
  {
   "cell_type": "code",
   "execution_count": 0,
   "metadata": {
    "application/vnd.databricks.v1+cell": {
     "cellMetadata": {
      "byteLimit": 2048000,
      "implicitDf": true,
      "rowLimit": 10000
     },
     "inputWidgets": {},
     "nuid": "78fb6d86-35ae-4a46-a006-1054779b2b04",
     "showTitle": false,
     "title": ""
    }
   },
   "outputs": [
    {
     "output_type": "display_data",
     "data": {
      "text/html": [
       "<style scoped>\n",
       "  .table-result-container {\n",
       "    max-height: 300px;\n",
       "    overflow: auto;\n",
       "  }\n",
       "  table, th, td {\n",
       "    border: 1px solid black;\n",
       "    border-collapse: collapse;\n",
       "  }\n",
       "  th, td {\n",
       "    padding: 5px;\n",
       "  }\n",
       "  th {\n",
       "    text-align: left;\n",
       "  }\n",
       "</style><div class='table-result-container'><table class='table-result'><thead style='background-color: white'><tr><th>DATAITEMID</th><th>DATAITEMNAME</th><th>DATAITEMDEFINITION</th><th>MAGNITUDE</th><th>DATACOLLECTIONTYPEID</th><th>ISTEXT</th><th>NMRANGEHIGH</th><th>NMRANGELOW</th><th>KPQI</th><th>SNLINDUSTRYID</th><th>DATAITEMID</th><th>PERSPECTIVE</th><th>CATEGORY</th><th>SUBCATEGORY</th><th>CATEGORYORDER</th><th>SUBCATEGORYORDER</th><th>DATAITEMORDER</th></tr></thead><tbody><tr><td>215736</td><td>Total Securities</td><td>Total book value of all securities. Includes U.S. Treasury securities, U.S. government agency and corporation obligations, securities issued by states and political subdivisions in the U.S., mortgaged-backed securities, other U.S. and non-U.S. debt securities, and all equity securities.</td><td>$000</td><td>1</td><td>0</td><td>null</td><td>null</td><td>205724</td><td>2</td><td>215736</td><td>Regulated Depositories (U.S.)</td><td>Bank Reg Financials Summary</td><td>Summary Balance Sheet</td><td>15000</td><td>18000</td><td>18002</td></tr><tr><td>215736</td><td>Total Securities</td><td>Total book value of all securities. Includes U.S. Treasury securities, U.S. government agency and corporation obligations, securities issued by states and political subdivisions in the U.S., mortgaged-backed securities, other U.S. and non-U.S. debt securities, and all equity securities.</td><td>$000</td><td>1</td><td>0</td><td>null</td><td>null</td><td>205724</td><td>3</td><td>215736</td><td>Regulated Depositories (U.S.)</td><td>Bank Reg Financials Summary</td><td>Summary Balance Sheet</td><td>15000</td><td>18000</td><td>18002</td></tr><tr><td>215736</td><td>Total Securities</td><td>Total book value of all securities. Includes U.S. Treasury securities, U.S. government agency and corporation obligations, securities issued by states and political subdivisions in the U.S., mortgaged-backed securities, other U.S. and non-U.S. debt securities, and all equity securities.</td><td>$000</td><td>1</td><td>0</td><td>null</td><td>null</td><td>205724</td><td>4</td><td>215736</td><td>Regulated Depositories (U.S.)</td><td>Bank Reg Financials Summary</td><td>Summary Balance Sheet</td><td>15000</td><td>18000</td><td>18002</td></tr><tr><td>215825</td><td>Total Loans & Leases (Incl HFI & HFS)</td><td>Total of loans and lease financing receivables, held for investment & held for sale. Includes loans secured by real estate; loans to depository institutions; loans to finance agricultural production and other loans to farmers; commercial and industrial loans; acceptances of other banks (both U.S. and Non U.S.); loans to individuals for household, family, and other personal expenditures; loans to Non U.S. governments and official institutions; obligations of states and political subdivisions in the U.S.; other loans (e.g., for purchasing or carrying securities, and not including consumer loans); lease financing receivables (held for investment & held for sale); and less any unearned income on loans reflected in items above. Consolidated Banks only (Call Report Line Item: RCFD2122/RCON2122/RCON2122)</td><td>$000</td><td>1</td><td>0</td><td>null</td><td>null</td><td>205655</td><td>2</td><td>215825</td><td>Regulated Depositories (U.S.)</td><td>Bank Reg Financials Summary</td><td>Financial Highlights</td><td>15000</td><td>16000</td><td>16003</td></tr><tr><td>215825</td><td>Total Loans & Leases (Incl HFI & HFS)</td><td>Total of loans and lease financing receivables, held for investment & held for sale. Includes loans secured by real estate; loans to depository institutions; loans to finance agricultural production and other loans to farmers; commercial and industrial loans; acceptances of other banks (both U.S. and Non U.S.); loans to individuals for household, family, and other personal expenditures; loans to Non U.S. governments and official institutions; obligations of states and political subdivisions in the U.S.; other loans (e.g., for purchasing or carrying securities, and not including consumer loans); lease financing receivables (held for investment & held for sale); and less any unearned income on loans reflected in items above. Consolidated Banks only (Call Report Line Item: RCFD2122/RCON2122/RCON2122)</td><td>$000</td><td>1</td><td>0</td><td>null</td><td>null</td><td>205655</td><td>3</td><td>215825</td><td>Regulated Depositories (U.S.)</td><td>Bank Reg Financials Summary</td><td>Financial Highlights</td><td>15000</td><td>16000</td><td>16003</td></tr><tr><td>215825</td><td>Total Loans & Leases (Incl HFI & HFS)</td><td>Total of loans and lease financing receivables, held for investment & held for sale. Includes loans secured by real estate; loans to depository institutions; loans to finance agricultural production and other loans to farmers; commercial and industrial loans; acceptances of other banks (both U.S. and Non U.S.); loans to individuals for household, family, and other personal expenditures; loans to Non U.S. governments and official institutions; obligations of states and political subdivisions in the U.S.; other loans (e.g., for purchasing or carrying securities, and not including consumer loans); lease financing receivables (held for investment & held for sale); and less any unearned income on loans reflected in items above. Consolidated Banks only (Call Report Line Item: RCFD2122/RCON2122/RCON2122)</td><td>$000</td><td>1</td><td>0</td><td>null</td><td>null</td><td>205655</td><td>4</td><td>215825</td><td>Regulated Depositories (U.S.)</td><td>Bank Reg Financials Summary</td><td>Financial Highlights</td><td>15000</td><td>16000</td><td>16003</td></tr></tbody></table></div>"
      ]
     },
     "metadata": {
      "application/vnd.databricks.v1+output": {
       "addedWidgets": {},
       "aggData": [],
       "aggError": "",
       "aggOverflow": false,
       "aggSchema": [],
       "aggSeriesLimitReached": false,
       "aggType": "",
       "arguments": {},
       "columnCustomDisplayInfos": {},
       "data": [
        [
         "215736",
         "Total Securities",
         "Total book value of all securities. Includes U.S. Treasury securities, U.S. government agency and corporation obligations, securities issued by states and political subdivisions in the U.S., mortgaged-backed securities, other U.S. and non-U.S. debt securities, and all equity securities.",
         "$000",
         "1",
         "0",
         null,
         null,
         "205724",
         "2",
         "215736",
         "Regulated Depositories (U.S.)",
         "Bank Reg Financials Summary",
         "Summary Balance Sheet",
         "15000",
         "18000",
         "18002"
        ],
        [
         "215736",
         "Total Securities",
         "Total book value of all securities. Includes U.S. Treasury securities, U.S. government agency and corporation obligations, securities issued by states and political subdivisions in the U.S., mortgaged-backed securities, other U.S. and non-U.S. debt securities, and all equity securities.",
         "$000",
         "1",
         "0",
         null,
         null,
         "205724",
         "3",
         "215736",
         "Regulated Depositories (U.S.)",
         "Bank Reg Financials Summary",
         "Summary Balance Sheet",
         "15000",
         "18000",
         "18002"
        ],
        [
         "215736",
         "Total Securities",
         "Total book value of all securities. Includes U.S. Treasury securities, U.S. government agency and corporation obligations, securities issued by states and political subdivisions in the U.S., mortgaged-backed securities, other U.S. and non-U.S. debt securities, and all equity securities.",
         "$000",
         "1",
         "0",
         null,
         null,
         "205724",
         "4",
         "215736",
         "Regulated Depositories (U.S.)",
         "Bank Reg Financials Summary",
         "Summary Balance Sheet",
         "15000",
         "18000",
         "18002"
        ],
        [
         "215825",
         "Total Loans & Leases (Incl HFI & HFS)",
         "Total of loans and lease financing receivables, held for investment & held for sale. Includes loans secured by real estate; loans to depository institutions; loans to finance agricultural production and other loans to farmers; commercial and industrial loans; acceptances of other banks (both U.S. and Non U.S.); loans to individuals for household, family, and other personal expenditures; loans to Non U.S. governments and official institutions; obligations of states and political subdivisions in the U.S.; other loans (e.g., for purchasing or carrying securities, and not including consumer loans); lease financing receivables (held for investment & held for sale); and less any unearned income on loans reflected in items above. Consolidated Banks only (Call Report Line Item: RCFD2122/RCON2122/RCON2122)",
         "$000",
         "1",
         "0",
         null,
         null,
         "205655",
         "2",
         "215825",
         "Regulated Depositories (U.S.)",
         "Bank Reg Financials Summary",
         "Financial Highlights",
         "15000",
         "16000",
         "16003"
        ],
        [
         "215825",
         "Total Loans & Leases (Incl HFI & HFS)",
         "Total of loans and lease financing receivables, held for investment & held for sale. Includes loans secured by real estate; loans to depository institutions; loans to finance agricultural production and other loans to farmers; commercial and industrial loans; acceptances of other banks (both U.S. and Non U.S.); loans to individuals for household, family, and other personal expenditures; loans to Non U.S. governments and official institutions; obligations of states and political subdivisions in the U.S.; other loans (e.g., for purchasing or carrying securities, and not including consumer loans); lease financing receivables (held for investment & held for sale); and less any unearned income on loans reflected in items above. Consolidated Banks only (Call Report Line Item: RCFD2122/RCON2122/RCON2122)",
         "$000",
         "1",
         "0",
         null,
         null,
         "205655",
         "3",
         "215825",
         "Regulated Depositories (U.S.)",
         "Bank Reg Financials Summary",
         "Financial Highlights",
         "15000",
         "16000",
         "16003"
        ],
        [
         "215825",
         "Total Loans & Leases (Incl HFI & HFS)",
         "Total of loans and lease financing receivables, held for investment & held for sale. Includes loans secured by real estate; loans to depository institutions; loans to finance agricultural production and other loans to farmers; commercial and industrial loans; acceptances of other banks (both U.S. and Non U.S.); loans to individuals for household, family, and other personal expenditures; loans to Non U.S. governments and official institutions; obligations of states and political subdivisions in the U.S.; other loans (e.g., for purchasing or carrying securities, and not including consumer loans); lease financing receivables (held for investment & held for sale); and less any unearned income on loans reflected in items above. Consolidated Banks only (Call Report Line Item: RCFD2122/RCON2122/RCON2122)",
         "$000",
         "1",
         "0",
         null,
         null,
         "205655",
         "4",
         "215825",
         "Regulated Depositories (U.S.)",
         "Bank Reg Financials Summary",
         "Financial Highlights",
         "15000",
         "16000",
         "16003"
        ]
       ],
       "datasetInfos": [],
       "dbfsResultPath": null,
       "isJsonSchema": true,
       "metadata": {},
       "overflow": false,
       "plotOptions": {
        "customPlotOptions": {},
        "displayType": "table",
        "pivotAggregation": null,
        "pivotColumns": null,
        "xColumns": null,
        "yColumns": null
       },
       "removedWidgets": [],
       "schema": [
        {
         "metadata": "{}",
         "name": "DATAITEMID",
         "type": "\"decimal(10,0)\""
        },
        {
         "metadata": "{}",
         "name": "DATAITEMNAME",
         "type": "\"string\""
        },
        {
         "metadata": "{}",
         "name": "DATAITEMDEFINITION",
         "type": "\"string\""
        },
        {
         "metadata": "{}",
         "name": "MAGNITUDE",
         "type": "\"string\""
        },
        {
         "metadata": "{}",
         "name": "DATACOLLECTIONTYPEID",
         "type": "\"decimal(3,0)\""
        },
        {
         "metadata": "{}",
         "name": "ISTEXT",
         "type": "\"decimal(1,0)\""
        },
        {
         "metadata": "{}",
         "name": "NMRANGEHIGH",
         "type": "\"double\""
        },
        {
         "metadata": "{}",
         "name": "NMRANGELOW",
         "type": "\"double\""
        },
        {
         "metadata": "{}",
         "name": "KPQI",
         "type": "\"decimal(10,0)\""
        },
        {
         "metadata": "{}",
         "name": "SNLINDUSTRYID",
         "type": "\"decimal(10,0)\""
        },
        {
         "metadata": "{}",
         "name": "DATAITEMID",
         "type": "\"decimal(10,0)\""
        },
        {
         "metadata": "{}",
         "name": "PERSPECTIVE",
         "type": "\"string\""
        },
        {
         "metadata": "{}",
         "name": "CATEGORY",
         "type": "\"string\""
        },
        {
         "metadata": "{}",
         "name": "SUBCATEGORY",
         "type": "\"string\""
        },
        {
         "metadata": "{}",
         "name": "CATEGORYORDER",
         "type": "\"decimal(10,0)\""
        },
        {
         "metadata": "{}",
         "name": "SUBCATEGORYORDER",
         "type": "\"decimal(10,0)\""
        },
        {
         "metadata": "{}",
         "name": "DATAITEMORDER",
         "type": "\"decimal(10,0)\""
        }
       ],
       "type": "table"
      }
     },
     "output_type": "display_data"
    }
   ],
   "source": [
    "%sql use snlCorp;\n",
    "select *\n",
    "from snlDataItem i\n",
    "join snlDataItemDisplay d on d.DATAITEMID = i.DATAITEMID\n",
    "--where i.DATAITEMDEFINITION LIKE '%securities%'\n",
    "--where i.DATAITEMNAME like '%Securities%'\n",
    "and d.PERSPECTIVE = 'Regulated Depositories (U.S.)'\n",
    "and d.CATEGORY = 'Bank Reg Financials Summary'\n",
    "where i.DATAITEMID in (215825,215363,215736)\n",
    "limit 100;"
   ]
  },
  {
   "cell_type": "markdown",
   "metadata": {
    "application/vnd.databricks.v1+cell": {
     "cellMetadata": {
      "byteLimit": 2048000,
      "rowLimit": 10000
     },
     "inputWidgets": {},
     "nuid": "19d4fca3-ab07-4974-b664-ffe348addee1",
     "showTitle": false,
     "title": ""
    }
   },
   "source": [
    "### 2. Utility functions"
   ]
  },
  {
   "cell_type": "markdown",
   "metadata": {
    "application/vnd.databricks.v1+cell": {
     "cellMetadata": {
      "byteLimit": 2048000,
      "rowLimit": 10000
     },
     "inputWidgets": {},
     "nuid": "5176d8a2-1439-4f46-b7d0-0dedcc522a0e",
     "showTitle": false,
     "title": ""
    }
   },
   "source": [
    "#### 2.1 Create lookup for data items (keyfields)"
   ]
  },
  {
   "cell_type": "code",
   "execution_count": 0,
   "metadata": {
    "application/vnd.databricks.v1+cell": {
     "cellMetadata": {
      "byteLimit": 2048000,
      "implicitDf": true,
      "rowLimit": 10000
     },
     "inputWidgets": {},
     "nuid": "61962402-ac50-4a6f-aa02-bc3ce2ced62b",
     "showTitle": false,
     "title": ""
    }
   },
   "outputs": [
    {
     "output_type": "display_data",
     "data": {
      "text/html": [
       "<style scoped>\n",
       "  .table-result-container {\n",
       "    max-height: 300px;\n",
       "    overflow: auto;\n",
       "  }\n",
       "  table, th, td {\n",
       "    border: 1px solid black;\n",
       "    border-collapse: collapse;\n",
       "  }\n",
       "  th, td {\n",
       "    padding: 5px;\n",
       "  }\n",
       "  th {\n",
       "    text-align: left;\n",
       "  }\n",
       "</style><div class='table-result-container'><table class='table-result'><thead style='background-color: white'><tr></tr></thead><tbody></tbody></table></div>"
      ]
     },
     "metadata": {
      "application/vnd.databricks.v1+output": {
       "addedWidgets": {},
       "aggData": [],
       "aggError": "",
       "aggOverflow": false,
       "aggSchema": [],
       "aggSeriesLimitReached": false,
       "aggType": "",
       "arguments": {},
       "columnCustomDisplayInfos": {},
       "data": [],
       "datasetInfos": [],
       "dbfsResultPath": null,
       "isJsonSchema": true,
       "metadata": {},
       "overflow": false,
       "plotOptions": {
        "customPlotOptions": {},
        "displayType": "table",
        "pivotAggregation": null,
        "pivotColumns": null,
        "xColumns": null,
        "yColumns": null
       },
       "removedWidgets": [],
       "schema": [],
       "type": "table"
      }
     },
     "output_type": "display_data"
    }
   ],
   "source": [
    "%sql use snlbankregulatory;\n",
    "create or replace temporary view fieldLookup as (\n",
    "  select distinct dataitemid,'snlregflowperioddata' as tablename\n",
    "  from snlregflowperioddata\n",
    "  union\n",
    "  select distinct dataitemid,'snlregflowperiodtextdata'\n",
    "  from snlregflowperiodtextdata\n",
    "  union \n",
    "  select distinct dataitemid,'snlregstockperioddata'\n",
    "  from snlregstockperioddata\n",
    "  union\n",
    "  select distinct dataitemid,'snlregstockperiodtextdata'\n",
    "  from snlregstockperiodtextdata\n",
    "  union\n",
    "  select distinct dataitemid,'snlcorpdata'\n",
    "  from snlcorp.snlcorpdata\n",
    "  union\n",
    "  select distinct dataitemid,'snlcorptextdata'\n",
    "  from snlcorp.snlcorptextdata\n",
    ");"
   ]
  },
  {
   "cell_type": "markdown",
   "metadata": {
    "application/vnd.databricks.v1+cell": {
     "cellMetadata": {
      "byteLimit": 2048000,
      "rowLimit": 10000
     },
     "inputWidgets": {},
     "nuid": "76154c27-b50b-4178-853d-836232e7d0f3",
     "showTitle": false,
     "title": ""
    }
   },
   "source": [
    "#### 2.2 Functions for getting data"
   ]
  },
  {
   "cell_type": "code",
   "execution_count": 0,
   "metadata": {
    "application/vnd.databricks.v1+cell": {
     "cellMetadata": {
      "byteLimit": 2048000,
      "rowLimit": 10000
     },
     "inputWidgets": {},
     "nuid": "560a9167-0117-4f04-a378-5fee7757d34c",
     "showTitle": false,
     "title": ""
    }
   },
   "outputs": [],
   "source": [
    "def get_data(keyfield,keyinstn,start_date,end_date,period_type):\n",
    "\n",
    "  # select database\n",
    "  spark.sql(f\"\"\"use snlbankregulatory;\"\"\")\n",
    "\n",
    "  # find table\n",
    "  table_name = spark.sql(f\"\"\"\n",
    "    select tablename\n",
    "    from fieldLookup\n",
    "    where dataitemid = {keyfield}\n",
    "  \"\"\").collect()[0][0]\n",
    "  \n",
    "  if table_name == 'snlregflowperioddata':\n",
    "    join_table1 = 'tn.REGFLOWPERIODID'\n",
    "    join_table2 = 'fp.REGFLOWPERIODID'\n",
    "  else:\n",
    "    join_table1 = 'tn.REGSTOCKPERIODID'\n",
    "    join_table2 = 'sp.REGSTOCKPERIODID'\n",
    "\n",
    "  data = spark.sql(f\"\"\"\n",
    "    select e.INSTITUTIONID,tn.DATAITEMID,i.DATAITEMNAME,sp.PERIODENDDATE,tn.DATAITEMVALUE\n",
    "    from snlRegEntity e\n",
    "    join snlRegStockPeriod sp on sp.INSTITUTIONID = e.INSTITUTIONID\n",
    "    join snlRegFlowPeriod fp on fp.REGSTOCKPERIODID = sp.REGSTOCKPERIODID\n",
    "    join {table_name} tn on {join_table1} = {join_table2}\n",
    "    join snlCorp.snlDataItem i on i.DATAITEMID = tn.DATAITEMID\n",
    "    where e.INSTITUTIONID = {keyinstn}\n",
    "    and sp.ISCURRENT = 1\n",
    "    and sp.PERIODENDDATE BETWEEN '{start_date}' and '{end_date}'\n",
    "    and fp.PERIODTYPEID = {period_type}\n",
    "    and tn.DATAITEMID = {keyfield}\n",
    "    order by sp.PERIODENDDATE asc\n",
    "  \"\"\")\n",
    "\n",
    "  return data"
   ]
  },
  {
   "cell_type": "code",
   "execution_count": 0,
   "metadata": {
    "application/vnd.databricks.v1+cell": {
     "cellMetadata": {
      "byteLimit": 2048000,
      "rowLimit": 10000
     },
     "inputWidgets": {},
     "nuid": "d0741c59-a124-49b0-a291-d22bc736561e",
     "showTitle": false,
     "title": ""
    }
   },
   "outputs": [],
   "source": [
    "def get_effr_monthly(start_date,end_date):\n",
    "\n",
    "  '''returns the average monthly effective Federal funds rate for a given period.''' \n",
    "\n",
    "  # select database\n",
    "  spark.sql(f\"\"\"use economicdata;\"\"\")\n",
    "\n",
    "  data = spark.sql(f\"\"\"\n",
    "    select p.TIMESERIESID,p.ASOF,p.VALUE as avg_effr_pct\n",
    "    from ecrobservationproduct p\n",
    "    where p.TIMESERIESID = '014585329'\n",
    "    and p.PRODUCTNUMBER = '2000031815'\n",
    "    and p.ASOF between '{start_date}' and '{end_date}'\n",
    "    order by p.ASOF asc\n",
    "  \"\"\")\n",
    "\n",
    "  return data"
   ]
  },
  {
   "cell_type": "markdown",
   "metadata": {
    "application/vnd.databricks.v1+cell": {
     "cellMetadata": {
      "byteLimit": 2048000,
      "rowLimit": 10000
     },
     "inputWidgets": {},
     "nuid": "4b1c5c65-c05c-4ac1-a83d-e53b39bedfb3",
     "showTitle": false,
     "title": ""
    }
   },
   "source": [
    "#### 2.3 Function for calculating percentage changes"
   ]
  },
  {
   "cell_type": "code",
   "execution_count": 0,
   "metadata": {
    "application/vnd.databricks.v1+cell": {
     "cellMetadata": {
      "byteLimit": 2048000,
      "rowLimit": 10000
     },
     "inputWidgets": {},
     "nuid": "30a1cc6f-bbb4-4cb9-b011-b0553bad64e4",
     "showTitle": false,
     "title": ""
    }
   },
   "outputs": [],
   "source": [
    "def get_percentage_changes(df,col_name):\n",
    "  end_date = Window.orderBy(\"PERIODENDDATE\")\n",
    "  df = df.withColumn(\"prior_value\",lag(df[col_name],1).over(end_date))\n",
    "  df = df.withColumn(\"percentage_change\",((df[col_name] / df[\"prior_value\"])-1)*100)\n",
    "  df = df.drop(\"prior_value\")\n",
    "  return df"
   ]
  },
  {
   "cell_type": "markdown",
   "metadata": {
    "application/vnd.databricks.v1+cell": {
     "cellMetadata": {
      "byteLimit": 2048000,
      "rowLimit": 10000
     },
     "inputWidgets": {},
     "nuid": "72c3e3be-6e2c-4bb1-9194-6f576f93757d",
     "showTitle": false,
     "title": ""
    }
   },
   "source": [
    "#### 2.4 Function for adding quarterly labels"
   ]
  },
  {
   "cell_type": "code",
   "execution_count": 0,
   "metadata": {
    "application/vnd.databricks.v1+cell": {
     "cellMetadata": {
      "byteLimit": 2048000,
      "rowLimit": 10000
     },
     "inputWidgets": {},
     "nuid": "68c7aad7-9e0e-4279-85d3-1899018b5e26",
     "showTitle": false,
     "title": ""
    }
   },
   "outputs": [],
   "source": [
    "def add_quarter_labels(df,field_name):\n",
    "  df = df.withColumn(\"Quarter\",concat(lit(\"Q\"),quarter(field_name),lit(\"'\"),substring(year(df[field_name]),3,2))).orderBy(df[field_name].asc())\n",
    "  return df"
   ]
  },
  {
   "cell_type": "markdown",
   "metadata": {
    "application/vnd.databricks.v1+cell": {
     "cellMetadata": {
      "byteLimit": 2048000,
      "rowLimit": 10000
     },
     "inputWidgets": {},
     "nuid": "9bdf891d-3f5a-4a58-9aa0-a774ad458e2a",
     "showTitle": false,
     "title": ""
    }
   },
   "source": [
    "#### 2.5 Function for decomposing a time series and plotting it"
   ]
  },
  {
   "cell_type": "code",
   "execution_count": 0,
   "metadata": {
    "application/vnd.databricks.v1+cell": {
     "cellMetadata": {
      "byteLimit": 2048000,
      "rowLimit": 10000
     },
     "inputWidgets": {},
     "nuid": "dc51c80c-fc45-4003-8435-ca8cc8e8a029",
     "showTitle": false,
     "title": ""
    }
   },
   "outputs": [],
   "source": [
    "def plot_add_decomp(df):\n",
    "  col_name = df.select(\"DATAITEMNAME\").collect()[0][0]\n",
    "  df = df.withColumn(\"DATAITEMVALUE\",df.DATAITEMVALUE.cast(\"float\")).withColumnRenamed(\"DATAITEMVALUE\",col_name).withColumn(\"INSTITUTIONID\",df.INSTITUTIONID.cast(\"int\")).withColumn(\"DATAITEMID\",df.DATAITEMID.cast(\"int\"))\n",
    "  df_pd = df.toPandas().set_index('PERIODENDDATE')\n",
    "  df_add = seasonal_decompose(df_pd[col_name], model = 'additive', extrapolate_trend='freq')\n",
    "  df_plot = df_add.plot(observed=True, seasonal=False, trend=True, resid=False, weights=False)\n",
    "  df_plot.show()"
   ]
  },
  {
   "cell_type": "markdown",
   "metadata": {
    "application/vnd.databricks.v1+cell": {
     "cellMetadata": {
      "byteLimit": 2048000,
      "rowLimit": 10000
     },
     "inputWidgets": {},
     "nuid": "da4a09f2-5489-41c8-95e0-c8e7d406c0af",
     "showTitle": false,
     "title": ""
    }
   },
   "source": [
    "### 3. Data and visualizations"
   ]
  },
  {
   "cell_type": "markdown",
   "metadata": {
    "application/vnd.databricks.v1+cell": {
     "cellMetadata": {
      "byteLimit": 2048000,
      "rowLimit": 10000
     },
     "inputWidgets": {},
     "nuid": "1a35b41f-5f71-487f-a1aa-1cb93aa71f9c",
     "showTitle": false,
     "title": ""
    }
   },
   "source": [
    "#### 3.1 Uninsured deposits\n",
    "Limited to U.S. commercial banks, savings banks and savings & loan associations"
   ]
  },
  {
   "cell_type": "code",
   "execution_count": 0,
   "metadata": {
    "application/vnd.databricks.v1+cell": {
     "cellMetadata": {
      "byteLimit": 2048000,
      "rowLimit": 10000
     },
     "inputWidgets": {},
     "nuid": "fb308829-9304-4bdc-9954-f994105040f4",
     "showTitle": false,
     "title": ""
    }
   },
   "outputs": [
    {
     "output_type": "display_data",
     "data": {
      "text/html": [
       "<style scoped>\n",
       "  .table-result-container {\n",
       "    max-height: 300px;\n",
       "    overflow: auto;\n",
       "  }\n",
       "  table, th, td {\n",
       "    border: 1px solid black;\n",
       "    border-collapse: collapse;\n",
       "  }\n",
       "  th, td {\n",
       "    padding: 5px;\n",
       "  }\n",
       "  th {\n",
       "    text-align: left;\n",
       "  }\n",
       "</style><div class='table-result-container'><table class='table-result'><thead style='background-color: white'><tr><th>Quarter</th><th>Uninsured Deposits ($T)</th></tr></thead><tbody><tr><td>Q4'20</td><td>7.3651124450000000</td></tr><tr><td>Q1'21</td><td>7.6009221000000000</td></tr><tr><td>Q2'21</td><td>7.8516912730000000</td></tr><tr><td>Q3'21</td><td>8.0264800820000000</td></tr><tr><td>Q4'21</td><td>8.3835317690000000</td></tr><tr><td>Q1'22</td><td>8.3915404580000000</td></tr><tr><td>Q2'22</td><td>8.1251873320000000</td></tr><tr><td>Q3'22</td><td>7.9161507210000000</td></tr><tr><td>Q4'22</td><td>7.6539794040000000</td></tr><tr><td>Q1'23</td><td>7.0518428800000000</td></tr><tr><td>Q2'23</td><td>6.8795264940000000</td></tr><tr><td>Q3'23</td><td>6.8709197120000000</td></tr><tr><td>Q4'23</td><td>6.8205117190000000</td></tr></tbody></table></div>"
      ]
     },
     "metadata": {
      "application/vnd.databricks.v1+output": {
       "addedWidgets": {},
       "aggData": [],
       "aggError": "",
       "aggOverflow": false,
       "aggSchema": [],
       "aggSeriesLimitReached": false,
       "aggType": "",
       "arguments": {},
       "columnCustomDisplayInfos": {},
       "data": [
        [
         "Q4'20",
         "7.3651124450000000"
        ],
        [
         "Q1'21",
         "7.6009221000000000"
        ],
        [
         "Q2'21",
         "7.8516912730000000"
        ],
        [
         "Q3'21",
         "8.0264800820000000"
        ],
        [
         "Q4'21",
         "8.3835317690000000"
        ],
        [
         "Q1'22",
         "8.3915404580000000"
        ],
        [
         "Q2'22",
         "8.1251873320000000"
        ],
        [
         "Q3'22",
         "7.9161507210000000"
        ],
        [
         "Q4'22",
         "7.6539794040000000"
        ],
        [
         "Q1'23",
         "7.0518428800000000"
        ],
        [
         "Q2'23",
         "6.8795264940000000"
        ],
        [
         "Q3'23",
         "6.8709197120000000"
        ],
        [
         "Q4'23",
         "6.8205117190000000"
        ]
       ],
       "datasetInfos": [],
       "dbfsResultPath": null,
       "isJsonSchema": true,
       "metadata": {},
       "overflow": false,
       "plotOptions": {
        "customPlotOptions": {},
        "displayType": "table",
        "pivotAggregation": null,
        "pivotColumns": null,
        "xColumns": null,
        "yColumns": null
       },
       "removedWidgets": [],
       "schema": [
        {
         "metadata": "{}",
         "name": "Quarter",
         "type": "\"string\""
        },
        {
         "metadata": "{}",
         "name": "Uninsured Deposits ($T)",
         "type": "\"decimal(38,16)\""
        }
       ],
       "type": "table"
      }
     },
     "output_type": "display_data"
    },
    {
     "output_type": "display_data",
     "data": {
      "text/plain": [
       "Databricks visualization. Run in Databricks to view."
      ]
     },
     "metadata": {
      "application/vnd.databricks.v1.subcommand+json": {
       "baseErrorDetails": null,
       "bindings": {},
       "collapsed": false,
       "command": "%python\n__backend_agg_display_orig = display\n__backend_agg_dfs = []\ndef __backend_agg_display_new(df):\n    __backend_agg_df_modules = [\"pandas.core.frame\", \"databricks.koalas.frame\", \"pyspark.sql.dataframe\", \"pyspark.pandas.frame\", \"pyspark.sql.connect.dataframe\"]\n    if (type(df).__module__ in __backend_agg_df_modules and type(df).__name__ == 'DataFrame') or isinstance(df, list):\n        __backend_agg_dfs.append(df)\n\ndisplay = __backend_agg_display_new\n\ndef __backend_agg_user_code_fn():\n    import base64\n    exec(base64.standard_b64decode(\"dW5pbnN1cmVkID0gZ2V0X2RhdGEoMjA3NTU1LDMxMDAxMjIsJzIwMjAtMTItMzEnLCcyMDIzLTEyLTMxJywyKQojIGFkZCBxdWFydGVyIGxhYmVscwp1bmluc3VyZWQgPSBhZGRfcXVhcnRlcl9sYWJlbHModW5pbnN1cmVkLCJQRVJJT0RFTkREQVRFIikKIyBjb252ZXJ0IHRvIHRyaWxsaW9ucyBhbmQgcmVuYW1lIGNvbHVtbgp1bmluc3VyZWQgPSB1bmluc3VyZWQud2l0aENvbHVtbigiZGF0YWl0ZW12YWx1ZSIsdW5pbnN1cmVkWydkYXRhaXRlbXZhbHVlJ10gLyAxMDAwMDAwMDAwKS53aXRoQ29sdW1uUmVuYW1lZCgiZGF0YWl0ZW12YWx1ZSIsIlVuaW5zdXJlZCBEZXBvc2l0cyAoJFQpIikKdW5pbnN1cmVkID0gdW5pbnN1cmVkLnNlbGVjdCgiUXVhcnRlciIsIlVuaW5zdXJlZCBEZXBvc2l0cyAoJFQpIikKZGlzcGxheSh1bmluc3VyZWQp\").decode())\n\ntry:\n    # run user code\n    __backend_agg_user_code_fn()\n\n    #reset display function\n    display = __backend_agg_display_orig\n\n    if len(__backend_agg_dfs) > 0:\n        # create a temp view\n        if type(__backend_agg_dfs[0]).__module__ == \"databricks.koalas.frame\":\n            # koalas dataframe\n            __backend_agg_dfs[0].to_spark().createOrReplaceTempView(\"DatabricksView375915e\")\n        elif type(__backend_agg_dfs[0]).__module__ == \"pandas.core.frame\" or isinstance(__backend_agg_dfs[0], list):\n            # pandas dataframe\n            spark.createDataFrame(__backend_agg_dfs[0]).createOrReplaceTempView(\"DatabricksView375915e\")\n        else:\n            __backend_agg_dfs[0].createOrReplaceTempView(\"DatabricksView375915e\")\n        #run backend agg\n        display(spark.sql(\"\"\"WITH q AS (select * from DatabricksView375915e) SELECT `Quarter`,SUM(`Uninsured Deposits ($T)`) `column_ff11b9c49` FROM q GROUP BY `Quarter`\"\"\"))\n    else:\n        displayHTML(\"dataframe no longer exists. If you're using dataframe.display(), use display(dataframe) instead.\")\n\n\nfinally:\n    spark.sql(\"drop view if exists DatabricksView375915e\")\n    display = __backend_agg_display_orig\n    del __backend_agg_display_new\n    del __backend_agg_display_orig\n    del __backend_agg_dfs\n    del __backend_agg_user_code_fn\n\n",
       "commandTitle": "Chart",
       "commandType": "auto",
       "commandVersion": 0,
       "commentThread": [],
       "commentsVisible": false,
       "contentSha256Hex": null,
       "customPlotOptions": {
        "redashChart": [
         {
          "key": "type",
          "value": "CHART"
         },
         {
          "key": "options",
          "value": {
           "alignYAxesAtZero": false,
           "coefficient": 1,
           "columnConfigurationMap": {
            "x": {
             "column": "Quarter",
             "id": "column_b45bba4a2"
            },
            "y": [
             {
              "column": "Uninsured Deposits ($T)",
              "id": "column_ff11b9c49",
              "transform": "SUM"
             }
            ]
           },
           "dateTimeFormat": "DD/MM/YYYY",
           "direction": {
            "type": "counterclockwise"
           },
           "error_y": {
            "type": "data",
            "visible": true
           },
           "globalSeriesType": "column",
           "isAggregationOn": true,
           "legend": {
            "traceorder": "normal"
           },
           "missingValuesAsZero": true,
           "numberFormat": "0,0.[00000]",
           "percentFormat": "0[.]00%",
           "series": {
            "error_y": {
             "type": "data",
             "visible": true
            },
            "stacking": null
           },
           "seriesOptions": {
            "column_ff11b9c49": {
             "type": "column",
             "yAxis": 0
            }
           },
           "showDataLabels": false,
           "sizemode": "diameter",
           "sortX": false,
           "sortY": true,
           "swappedAxes": false,
           "textFormat": "",
           "useAggregationsUi": true,
           "valuesOptions": {},
           "version": 2,
           "xAxis": {
            "labels": {
             "enabled": true
            },
            "title": {
             "text": "Date"
            },
            "type": "-"
           },
           "yAxis": [
            {
             "rangeMax": 20,
             "title": {
              "text": "Uninsured deposits ($ trillion)"
             },
             "type": "-"
            },
            {
             "opposite": true,
             "type": "-"
            }
           ]
          }
         }
        ]
       },
       "datasetPreviewNameToCmdIdMap": {},
       "diffDeletes": [],
       "diffInserts": [],
       "displayType": "redashChart",
       "error": null,
       "errorDetails": null,
       "errorSummary": null,
       "errorTraceType": null,
       "finishTime": 0,
       "globalVars": {},
       "guid": "",
       "height": "auto",
       "hideCommandCode": false,
       "hideCommandResult": false,
       "iPythonMetadata": null,
       "inputWidgets": {},
       "isLockedInExamMode": false,
       "latestUser": "a user",
       "latestUserId": null,
       "listResultMetadata": null,
       "metadata": {
        "byteLimit": 2048000,
        "rowLimit": 10000
       },
       "nuid": "daf92a9e-6e77-4500-8e96-a503e5be17b0",
       "origId": 0,
       "parentHierarchy": [],
       "pivotAggregation": null,
       "pivotColumns": null,
       "position": 3.875,
       "resultDbfsErrorMessage": null,
       "resultDbfsStatus": "INLINED_IN_TREE",
       "results": null,
       "showCommandTitle": false,
       "startTime": 0,
       "state": "finished",
       "streamStates": {},
       "subcommandOptions": {
        "queryPlan": {
         "groups": [
          {
           "column": "Quarter",
           "type": "column"
          }
         ],
         "selects": [
          {
           "column": "Quarter",
           "type": "column"
          },
          {
           "alias": "column_ff11b9c49",
           "args": [
            {
             "column": "Uninsured Deposits ($T)",
             "type": "column"
            }
           ],
           "function": "SUM",
           "type": "function"
          }
         ]
        }
       },
       "submitTime": 0,
       "subtype": "tableResultSubCmd.visualization",
       "tableResultIndex": 0,
       "useConsistentColors": false,
       "version": "CommandV1",
       "width": "auto",
       "workflows": [],
       "xColumns": null,
       "yColumns": null
      }
     },
     "output_type": "display_data"
    }
   ],
   "source": [
    "uninsured = get_data(207555,3100122,'2020-12-31','2023-12-31',2)\n",
    "# add quarter labels\n",
    "uninsured = add_quarter_labels(uninsured,\"PERIODENDDATE\")\n",
    "# convert to trillions and rename column\n",
    "uninsured = uninsured.withColumn(\"dataitemvalue\",uninsured['dataitemvalue'] / 1000000000).withColumnRenamed(\"dataitemvalue\",\"Uninsured Deposits ($T)\")\n",
    "uninsured = uninsured.select(\"Quarter\",\"Uninsured Deposits ($T)\")\n",
    "display(uninsured)"
   ]
  },
  {
   "cell_type": "markdown",
   "metadata": {
    "application/vnd.databricks.v1+cell": {
     "cellMetadata": {
      "byteLimit": 2048000,
      "rowLimit": 10000
     },
     "inputWidgets": {},
     "nuid": "8fba4532-ecde-4046-8e55-5299825a1e7b",
     "showTitle": false,
     "title": ""
    }
   },
   "source": [
    "#### 3.2 Total deposits  \n",
    "Includes domestic and foreign deposits"
   ]
  },
  {
   "cell_type": "code",
   "execution_count": 0,
   "metadata": {
    "application/vnd.databricks.v1+cell": {
     "cellMetadata": {
      "byteLimit": 2048000,
      "rowLimit": 10000
     },
     "inputWidgets": {},
     "nuid": "11008908-b8ac-4d16-b822-d3715ec526fa",
     "showTitle": false,
     "title": ""
    }
   },
   "outputs": [
    {
     "output_type": "display_data",
     "data": {
      "text/html": [
       "<style scoped>\n",
       "  .table-result-container {\n",
       "    max-height: 300px;\n",
       "    overflow: auto;\n",
       "  }\n",
       "  table, th, td {\n",
       "    border: 1px solid black;\n",
       "    border-collapse: collapse;\n",
       "  }\n",
       "  th, td {\n",
       "    padding: 5px;\n",
       "  }\n",
       "  th {\n",
       "    text-align: left;\n",
       "  }\n",
       "</style><div class='table-result-container'><table class='table-result'><thead style='background-color: white'><tr><th>Quarter</th><th>Total Deposits ($T)</th></tr></thead><tbody><tr><td>Q4'20</td><td>17.8232715320000000</td></tr><tr><td>Q1'21</td><td>18.4587026280000000</td></tr><tr><td>Q2'21</td><td>18.7305718460000000</td></tr><tr><td>Q3'21</td><td>19.1666722220000000</td></tr><tr><td>Q4'21</td><td>19.7004400130000000</td></tr><tr><td>Q1'22</td><td>19.9318996750000000</td></tr><tr><td>Q2'22</td><td>19.5623846040000000</td></tr><tr><td>Q3'22</td><td>19.3567363540000000</td></tr><tr><td>Q4'22</td><td>19.2145469490000000</td></tr><tr><td>Q1'23</td><td>18.7424893500000000</td></tr><tr><td>Q2'23</td><td>18.6439277030000000</td></tr><tr><td>Q3'23</td><td>18.5535199160000000</td></tr><tr><td>Q4'23</td><td>18.8132974240000000</td></tr></tbody></table></div>"
      ]
     },
     "metadata": {
      "application/vnd.databricks.v1+output": {
       "addedWidgets": {},
       "aggData": [],
       "aggError": "",
       "aggOverflow": false,
       "aggSchema": [],
       "aggSeriesLimitReached": false,
       "aggType": "",
       "arguments": {},
       "columnCustomDisplayInfos": {},
       "data": [
        [
         "Q4'20",
         "17.8232715320000000"
        ],
        [
         "Q1'21",
         "18.4587026280000000"
        ],
        [
         "Q2'21",
         "18.7305718460000000"
        ],
        [
         "Q3'21",
         "19.1666722220000000"
        ],
        [
         "Q4'21",
         "19.7004400130000000"
        ],
        [
         "Q1'22",
         "19.9318996750000000"
        ],
        [
         "Q2'22",
         "19.5623846040000000"
        ],
        [
         "Q3'22",
         "19.3567363540000000"
        ],
        [
         "Q4'22",
         "19.2145469490000000"
        ],
        [
         "Q1'23",
         "18.7424893500000000"
        ],
        [
         "Q2'23",
         "18.6439277030000000"
        ],
        [
         "Q3'23",
         "18.5535199160000000"
        ],
        [
         "Q4'23",
         "18.8132974240000000"
        ]
       ],
       "datasetInfos": [],
       "dbfsResultPath": null,
       "isJsonSchema": true,
       "metadata": {},
       "overflow": false,
       "plotOptions": {
        "customPlotOptions": {},
        "displayType": "table",
        "pivotAggregation": null,
        "pivotColumns": null,
        "xColumns": null,
        "yColumns": null
       },
       "removedWidgets": [],
       "schema": [
        {
         "metadata": "{}",
         "name": "Quarter",
         "type": "\"string\""
        },
        {
         "metadata": "{}",
         "name": "Total Deposits ($T)",
         "type": "\"decimal(38,16)\""
        }
       ],
       "type": "table"
      }
     },
     "output_type": "display_data"
    },
    {
     "output_type": "display_data",
     "data": {
      "text/plain": [
       "Databricks visualization. Run in Databricks to view."
      ]
     },
     "metadata": {
      "application/vnd.databricks.v1.subcommand+json": {
       "baseErrorDetails": null,
       "bindings": {},
       "collapsed": false,
       "command": "%python\n__backend_agg_display_orig = display\n__backend_agg_dfs = []\ndef __backend_agg_display_new(df):\n    __backend_agg_df_modules = [\"pandas.core.frame\", \"databricks.koalas.frame\", \"pyspark.sql.dataframe\", \"pyspark.pandas.frame\", \"pyspark.sql.connect.dataframe\"]\n    if (type(df).__module__ in __backend_agg_df_modules and type(df).__name__ == 'DataFrame') or isinstance(df, list):\n        __backend_agg_dfs.append(df)\n\ndisplay = __backend_agg_display_new\n\ndef __backend_agg_user_code_fn():\n    import base64\n    exec(base64.standard_b64decode(\"dG90YWxfZGVwb3NpdHMgPSBnZXRfZGF0YSgyMDYxMjcsMzEwMDEyMiwnMjAyMC0xMi0zMScsJzIwMjMtMTItMzEnLDIpCiMgYWRkIHF1YXJ0ZXIgbGFiZWxzCnRvdGFsX2RlcG9zaXRzID0gYWRkX3F1YXJ0ZXJfbGFiZWxzKHRvdGFsX2RlcG9zaXRzLCJQRVJJT0RFTkREQVRFIikKIyBjb252ZXJ0IHRvIHRyaWxsaW9ucyBhbmQgcmVuYW1lIGNvbHVtbgp0b3RhbF9kZXBvc2l0cyA9IHRvdGFsX2RlcG9zaXRzLndpdGhDb2x1bW4oImRhdGFpdGVtdmFsdWUiLHRvdGFsX2RlcG9zaXRzWydkYXRhaXRlbXZhbHVlJ10gLyAxMDAwMDAwMDAwKS53aXRoQ29sdW1uUmVuYW1lZCgiZGF0YWl0ZW12YWx1ZSIsIlRvdGFsIERlcG9zaXRzICgkVCkiKQp0b3RhbF9kZXBvc2l0cyA9IHRvdGFsX2RlcG9zaXRzLnNlbGVjdCgiUXVhcnRlciIsIlRvdGFsIERlcG9zaXRzICgkVCkiKQpkaXNwbGF5KHRvdGFsX2RlcG9zaXRzKQ==\").decode())\n\ntry:\n    # run user code\n    __backend_agg_user_code_fn()\n\n    #reset display function\n    display = __backend_agg_display_orig\n\n    if len(__backend_agg_dfs) > 0:\n        # create a temp view\n        if type(__backend_agg_dfs[0]).__module__ == \"databricks.koalas.frame\":\n            # koalas dataframe\n            __backend_agg_dfs[0].to_spark().createOrReplaceTempView(\"DatabricksView27acb8f\")\n        elif type(__backend_agg_dfs[0]).__module__ == \"pandas.core.frame\" or isinstance(__backend_agg_dfs[0], list):\n            # pandas dataframe\n            spark.createDataFrame(__backend_agg_dfs[0]).createOrReplaceTempView(\"DatabricksView27acb8f\")\n        else:\n            __backend_agg_dfs[0].createOrReplaceTempView(\"DatabricksView27acb8f\")\n        #run backend agg\n        display(spark.sql(\"\"\"WITH q AS (select * from DatabricksView27acb8f) SELECT `Quarter`,SUM(`Total Deposits ($T)`) `column_ff11b9c427` FROM q GROUP BY `Quarter`\"\"\"))\n    else:\n        displayHTML(\"dataframe no longer exists. If you're using dataframe.display(), use display(dataframe) instead.\")\n\n\nfinally:\n    spark.sql(\"drop view if exists DatabricksView27acb8f\")\n    display = __backend_agg_display_orig\n    del __backend_agg_display_new\n    del __backend_agg_display_orig\n    del __backend_agg_dfs\n    del __backend_agg_user_code_fn\n\n",
       "commandTitle": "Chart",
       "commandType": "auto",
       "commandVersion": 0,
       "commentThread": [],
       "commentsVisible": false,
       "contentSha256Hex": null,
       "customPlotOptions": {
        "redashChart": [
         {
          "key": "type",
          "value": "CHART"
         },
         {
          "key": "options",
          "value": {
           "alignYAxesAtZero": true,
           "coefficient": 1,
           "columnConfigurationMap": {
            "x": {
             "column": "Quarter",
             "id": "column_b45bba4a14"
            },
            "y": [
             {
              "column": "Total Deposits ($T)",
              "id": "column_ff11b9c427",
              "transform": "SUM"
             }
            ]
           },
           "dateTimeFormat": "DD/MM/YYYY HH:mm",
           "direction": {
            "type": "counterclockwise"
           },
           "error_y": {
            "type": "data",
            "visible": true
           },
           "globalSeriesType": "column",
           "isAggregationOn": true,
           "legend": {
            "traceorder": "normal"
           },
           "missingValuesAsZero": true,
           "numberFormat": "0,0.[00000]",
           "percentFormat": "0[.]00%",
           "series": {
            "error_y": {
             "type": "data",
             "visible": true
            },
            "stacking": null
           },
           "seriesOptions": {
            "column_ff11b9c427": {
             "name": "Total Deposits ($T)",
             "yAxis": 0
            }
           },
           "showDataLabels": false,
           "sizemode": "diameter",
           "sortX": true,
           "sortY": true,
           "swappedAxes": false,
           "textFormat": "",
           "useAggregationsUi": true,
           "valuesOptions": {},
           "version": 2,
           "xAxis": {
            "labels": {
             "enabled": true
            },
            "type": "-"
           },
           "yAxis": [
            {
             "type": "-"
            },
            {
             "opposite": true,
             "type": "-"
            }
           ]
          }
         }
        ]
       },
       "datasetPreviewNameToCmdIdMap": {},
       "diffDeletes": [],
       "diffInserts": [],
       "displayType": "redashChart",
       "error": null,
       "errorDetails": null,
       "errorSummary": null,
       "errorTraceType": null,
       "finishTime": 0,
       "globalVars": {},
       "guid": "",
       "height": "auto",
       "hideCommandCode": false,
       "hideCommandResult": false,
       "iPythonMetadata": null,
       "inputWidgets": {},
       "isLockedInExamMode": false,
       "latestUser": "a user",
       "latestUserId": null,
       "listResultMetadata": null,
       "metadata": {
        "byteLimit": 2048000,
        "rowLimit": 10000
       },
       "nuid": "c11283c8-2cd1-4145-87bf-d6f357612f84",
       "origId": 0,
       "parentHierarchy": [],
       "pivotAggregation": null,
       "pivotColumns": null,
       "position": 5.0,
       "resultDbfsErrorMessage": null,
       "resultDbfsStatus": "INLINED_IN_TREE",
       "results": null,
       "showCommandTitle": false,
       "startTime": 0,
       "state": "finished",
       "streamStates": {},
       "subcommandOptions": {
        "queryPlan": {
         "groups": [
          {
           "column": "Quarter",
           "type": "column"
          }
         ],
         "selects": [
          {
           "column": "Quarter",
           "type": "column"
          },
          {
           "alias": "column_ff11b9c427",
           "args": [
            {
             "column": "Total Deposits ($T)",
             "type": "column"
            }
           ],
           "function": "SUM",
           "type": "function"
          }
         ]
        }
       },
       "submitTime": 0,
       "subtype": "tableResultSubCmd.visualization",
       "tableResultIndex": 0,
       "useConsistentColors": false,
       "version": "CommandV1",
       "width": "auto",
       "workflows": [],
       "xColumns": null,
       "yColumns": null
      }
     },
     "output_type": "display_data"
    }
   ],
   "source": [
    "total_deposits = get_data(206127,3100122,'2020-12-31','2023-12-31',2)\n",
    "# add quarter labels\n",
    "total_deposits = add_quarter_labels(total_deposits,\"PERIODENDDATE\")\n",
    "# convert to trillions and rename column\n",
    "total_deposits = total_deposits.withColumn(\"dataitemvalue\",total_deposits['dataitemvalue'] / 1000000000).withColumnRenamed(\"dataitemvalue\",\"Total Deposits ($T)\")\n",
    "total_deposits = total_deposits.select(\"Quarter\",\"Total Deposits ($T)\")\n",
    "display(total_deposits)"
   ]
  },
  {
   "cell_type": "markdown",
   "metadata": {
    "application/vnd.databricks.v1+cell": {
     "cellMetadata": {
      "byteLimit": 2048000,
      "rowLimit": 10000
     },
     "inputWidgets": {},
     "nuid": "987c76cc-bea1-4760-b90b-5015f771ca56",
     "showTitle": false,
     "title": ""
    }
   },
   "source": [
    "#### 3.3 Changes in loans, securities and cash"
   ]
  },
  {
   "cell_type": "code",
   "execution_count": 0,
   "metadata": {
    "application/vnd.databricks.v1+cell": {
     "cellMetadata": {
      "byteLimit": 2048000,
      "rowLimit": 10000
     },
     "inputWidgets": {},
     "nuid": "fcecff68-7d50-402c-adfc-631b979f136e",
     "showTitle": false,
     "title": ""
    }
   },
   "outputs": [
    {
     "output_type": "display_data",
     "data": {
      "text/html": [
       "<style scoped>\n",
       "  .table-result-container {\n",
       "    max-height: 300px;\n",
       "    overflow: auto;\n",
       "  }\n",
       "  table, th, td {\n",
       "    border: 1px solid black;\n",
       "    border-collapse: collapse;\n",
       "  }\n",
       "  th, td {\n",
       "    padding: 5px;\n",
       "  }\n",
       "  th {\n",
       "    text-align: left;\n",
       "  }\n",
       "</style><div class='table-result-container'><table class='table-result'><thead style='background-color: white'><tr><th>PERIODENDDATE</th><th>Total Loans & Leases (Incl HFI & HFS)</th><th>Cash & Equivalents</th><th>Total Securities</th></tr></thead><tbody><tr><td>2015-12-31T00:00:00.000+0000</td><td>6.399000</td><td>-6.889400</td><td>4.187300</td></tr><tr><td>2016-12-31T00:00:00.000+0000</td><td>5.267300</td><td>4.150000</td><td>6.148800</td></tr><tr><td>2017-12-31T00:00:00.000+0000</td><td>4.471700</td><td>6.154800</td><td>2.024000</td></tr><tr><td>2018-12-31T00:00:00.000+0000</td><td>4.432500</td><td>-1.301400</td><td>2.513400</td></tr><tr><td>2019-12-31T00:00:00.000+0000</td><td>3.607500</td><td>-3.712100</td><td>6.944300</td></tr><tr><td>2020-12-31T00:00:00.000+0000</td><td>3.284400</td><td>78.070800</td><td>28.394700</td></tr><tr><td>2021-12-31T00:00:00.000+0000</td><td>3.521800</td><td>4.711400</td><td>22.164900</td></tr><tr><td>2022-12-31T00:00:00.000+0000</td><td>8.718800</td><td>-22.566000</td><td>-5.787700</td></tr><tr><td>2023-12-31T00:00:00.000+0000</td><td>1.841200</td><td>7.683000</td><td>-7.629800</td></tr></tbody></table></div>"
      ]
     },
     "metadata": {
      "application/vnd.databricks.v1+output": {
       "addedWidgets": {},
       "aggData": [],
       "aggError": "",
       "aggOverflow": false,
       "aggSchema": [],
       "aggSeriesLimitReached": false,
       "aggType": "",
       "arguments": {},
       "columnCustomDisplayInfos": {},
       "data": [
        [
         "2015-12-31T00:00:00.000+0000",
         "6.399000",
         "-6.889400",
         "4.187300"
        ],
        [
         "2016-12-31T00:00:00.000+0000",
         "5.267300",
         "4.150000",
         "6.148800"
        ],
        [
         "2017-12-31T00:00:00.000+0000",
         "4.471700",
         "6.154800",
         "2.024000"
        ],
        [
         "2018-12-31T00:00:00.000+0000",
         "4.432500",
         "-1.301400",
         "2.513400"
        ],
        [
         "2019-12-31T00:00:00.000+0000",
         "3.607500",
         "-3.712100",
         "6.944300"
        ],
        [
         "2020-12-31T00:00:00.000+0000",
         "3.284400",
         "78.070800",
         "28.394700"
        ],
        [
         "2021-12-31T00:00:00.000+0000",
         "3.521800",
         "4.711400",
         "22.164900"
        ],
        [
         "2022-12-31T00:00:00.000+0000",
         "8.718800",
         "-22.566000",
         "-5.787700"
        ],
        [
         "2023-12-31T00:00:00.000+0000",
         "1.841200",
         "7.683000",
         "-7.629800"
        ]
       ],
       "datasetInfos": [],
       "dbfsResultPath": null,
       "isJsonSchema": true,
       "metadata": {},
       "overflow": false,
       "plotOptions": {
        "customPlotOptions": {},
        "displayType": "table",
        "pivotAggregation": null,
        "pivotColumns": null,
        "xColumns": null,
        "yColumns": null
       },
       "removedWidgets": [],
       "schema": [
        {
         "metadata": "{}",
         "name": "PERIODENDDATE",
         "type": "\"timestamp\""
        },
        {
         "metadata": "{}",
         "name": "Total Loans & Leases (Incl HFI & HFS)",
         "type": "\"decimal(38,6)\""
        },
        {
         "metadata": "{}",
         "name": "Cash & Equivalents",
         "type": "\"decimal(38,6)\""
        },
        {
         "metadata": "{}",
         "name": "Total Securities",
         "type": "\"decimal(38,6)\""
        }
       ],
       "type": "table"
      }
     },
     "output_type": "display_data"
    },
    {
     "output_type": "display_data",
     "data": {
      "text/plain": [
       "Databricks visualization. Run in Databricks to view."
      ]
     },
     "metadata": {
      "application/vnd.databricks.v1.subcommand+json": {
       "baseErrorDetails": null,
       "bindings": {},
       "collapsed": false,
       "command": "%python\n__backend_agg_display_orig = display\n__backend_agg_dfs = []\ndef __backend_agg_display_new(df):\n    __backend_agg_df_modules = [\"pandas.core.frame\", \"databricks.koalas.frame\", \"pyspark.sql.dataframe\", \"pyspark.pandas.frame\", \"pyspark.sql.connect.dataframe\"]\n    if (type(df).__module__ in __backend_agg_df_modules and type(df).__name__ == 'DataFrame') or isinstance(df, list):\n        __backend_agg_dfs.append(df)\n\ndisplay = __backend_agg_display_new\n\ndef __backend_agg_user_code_fn():\n    import base64\n    exec(base64.standard_b64decode(\"IyBwaWNrIHN0YXJ0IGFuZCBlbmQgZGF0ZQojIHN0YXJ0IHdpdGggcHJpb3IgcXVhcnRlciBmb3IgUU9RIGNhbGN1bGF0aW9ucwpzdGFydF9kYXRlID0gJzIwMTQtMTItMzEnCmVuZF9kYXRlID0gJzIwMjMtMTItMzEnCgojIHBpY2sga2V5ZmllbGRzCmtleWZpZWxkcyA9IFsyMTU4MjUsMjE1MzYzLDIxNTczNl0KCiMgcGljayBrZXlpbnN0bgprZXlpbnN0biA9IDMxMDAxMjIgIyBhbGwgVS5TLiBjb21tZXJjaWFsIGJhbmtzLCBzYXZpbmdzIGJhbmtzIGFuZCBzYXZpbmdzICYgbG9hbiBhc3NvY2lhdGlvbnMKCiMgcGljayBwZXJpb2QgdHlwZQojcGVyaW9kX3R5cGUgPSAyICMgcXVhcnRlcmx5CnBlcmlvZF90eXBlID0gMSAjIGFubnVhbAoKIyBjcmVhdGUgaW5pdGlhbCBkYXRhZnJhbWUgdXNpbmcgZmlyc3Qga2V5ZmllbGQKZGYxID0gZ2V0X2RhdGEoa2V5ZmllbGRzWzBdLGtleWluc3RuLHN0YXJ0X2RhdGUsZW5kX2RhdGUscGVyaW9kX3R5cGUpCmZpZWxkX25hbWUxID0gZGYxLnNlbGVjdCgiREFUQUlURU1OQU1FIikuY29sbGVjdCgpWzBdWzBdCmRmMSA9IGdldF9wZXJjZW50YWdlX2NoYW5nZXMoZGYxLCJEQVRBSVRFTVZBTFVFIikud2l0aENvbHVtblJlbmFtZWQoInBlcmNlbnRhZ2VfY2hhbmdlIixmaWVsZF9uYW1lMSkKIyBjcmVhdGUgcGVyY2VudGFnZSBjaGFuZ2VzIHRhYmxlCmRmMSA9IGRmMS5maWx0ZXIoZGYxW2ZpZWxkX25hbWUxXS5pc05vdE51bGwoKSkuc2VsZWN0KGRmMS5QRVJJT0RFTkREQVRFLGRmMVtmaWVsZF9uYW1lMV0pCgojIGFkZCBhZGRpdGlvbmFsIGZpZWxkcwpmb3IgaSBpbiByYW5nZSgxLGxlbihrZXlmaWVsZHMpKToKICBkZjIgPSBnZXRfZGF0YShrZXlmaWVsZHNbaV0sa2V5aW5zdG4sc3RhcnRfZGF0ZSxlbmRfZGF0ZSxwZXJpb2RfdHlwZSkKICBmaWVsZF9uYW1lMiA9IGRmMi5zZWxlY3QoIkRBVEFJVEVNTkFNRSIpLmNvbGxlY3QoKVswXVswXQogIGRmMiA9IGdldF9wZXJjZW50YWdlX2NoYW5nZXMoZGYyLCJEQVRBSVRFTVZBTFVFIikud2l0aENvbHVtblJlbmFtZWQoInBlcmNlbnRhZ2VfY2hhbmdlIixmaWVsZF9uYW1lMikKICBkZjIgPSBkZjIuZmlsdGVyKGRmMltmaWVsZF9uYW1lMl0uaXNOb3ROdWxsKCkpLnNlbGVjdChkZjIuUEVSSU9ERU5EREFURSxkZjJbZmllbGRfbmFtZTJdKQogIGRmMSA9IGRmMS5qb2luKGRmMixbJ1BFUklPREVORERBVEUnXSwnaW5uZXInKQoKIyBjb252ZXJ0IHBlcmlvZGVuZGRhdGUgdG8gcXVhcnRlcnMKI2RmX2xhYmVscyA9IGFkZF9xdWFydGVyX2xhYmVscyhkZjEsIlBFUklPREVORERBVEUiKQojZGlzcGxheShkZl9sYWJlbHMpCgpkZl9sb2FucyA9IGRmMQpkaXNwbGF5KGRmX2xvYW5zKQ==\").decode())\n\ntry:\n    # run user code\n    __backend_agg_user_code_fn()\n\n    #reset display function\n    display = __backend_agg_display_orig\n\n    if len(__backend_agg_dfs) > 0:\n        # create a temp view\n        if type(__backend_agg_dfs[0]).__module__ == \"databricks.koalas.frame\":\n            # koalas dataframe\n            __backend_agg_dfs[0].to_spark().createOrReplaceTempView(\"DatabricksVieweccc010\")\n        elif type(__backend_agg_dfs[0]).__module__ == \"pandas.core.frame\" or isinstance(__backend_agg_dfs[0], list):\n            # pandas dataframe\n            spark.createDataFrame(__backend_agg_dfs[0]).createOrReplaceTempView(\"DatabricksVieweccc010\")\n        else:\n            __backend_agg_dfs[0].createOrReplaceTempView(\"DatabricksVieweccc010\")\n        #run backend agg\n        display(spark.sql(\"\"\"WITH q AS (select * from DatabricksVieweccc010) SELECT `PERIODENDDATE`,SUM(`Total Loans & Leases (Incl HFI & HFS)`) `column_b45bba4a17`,SUM(`Cash & Equivalents`) `column_b45bba4a20`,SUM(`Total Securities`) `column_b45bba4a23` FROM q GROUP BY `PERIODENDDATE`\"\"\"))\n    else:\n        displayHTML(\"dataframe no longer exists. If you're using dataframe.display(), use display(dataframe) instead.\")\n\n\nfinally:\n    spark.sql(\"drop view if exists DatabricksVieweccc010\")\n    display = __backend_agg_display_orig\n    del __backend_agg_display_new\n    del __backend_agg_display_orig\n    del __backend_agg_dfs\n    del __backend_agg_user_code_fn\n\n",
       "commandTitle": "Asset Composition Chart",
       "commandType": "auto",
       "commandVersion": 0,
       "commentThread": [],
       "commentsVisible": false,
       "contentSha256Hex": null,
       "customPlotOptions": {
        "redashChart": [
         {
          "key": "type",
          "value": "CHART"
         },
         {
          "key": "options",
          "value": {
           "alignYAxesAtZero": true,
           "coefficient": 1,
           "columnConfigurationMap": {
            "x": {
             "column": "PERIODENDDATE",
             "id": "column_4ddc37d913"
            },
            "y": [
             {
              "column": "Total Loans & Leases (Incl HFI & HFS)",
              "id": "column_b45bba4a17",
              "transform": "SUM"
             },
             {
              "column": "Cash & Equivalents",
              "id": "column_b45bba4a20",
              "transform": "SUM"
             },
             {
              "column": "Total Securities",
              "id": "column_b45bba4a23",
              "transform": "SUM"
             }
            ]
           },
           "dateTimeFormat": "DD/MM/YYYY HH:mm",
           "direction": {
            "type": "counterclockwise"
           },
           "error_y": {
            "type": "data",
            "visible": true
           },
           "globalSeriesType": "column",
           "isAggregationOn": true,
           "legend": {
            "traceorder": "normal"
           },
           "missingValuesAsZero": true,
           "numberFormat": "0,0.[00000]",
           "percentFormat": "0[.]00%",
           "series": {
            "error_y": {
             "type": "data",
             "visible": true
            },
            "stacking": null
           },
           "seriesOptions": {
            "column_b45bba4a17": {
             "name": "Total loans and leases",
             "type": "column",
             "yAxis": 0
            },
            "column_b45bba4a20": {
             "name": "Cash and equivalents",
             "type": "column",
             "yAxis": 0
            },
            "column_b45bba4a23": {
             "name": "Total securities",
             "type": "column",
             "yAxis": 0
            }
           },
           "showDataLabels": false,
           "sizemode": "diameter",
           "sortX": true,
           "sortY": true,
           "swappedAxes": false,
           "textFormat": "",
           "useAggregationsUi": true,
           "valuesOptions": {},
           "version": 2,
           "xAxis": {
            "labels": {
             "enabled": true
            },
            "type": "-"
           },
           "yAxis": [
            {
             "title": {
              "text": "QOQ Change (%)"
             },
             "type": "-"
            },
            {
             "opposite": true,
             "type": "-"
            }
           ]
          }
         }
        ]
       },
       "datasetPreviewNameToCmdIdMap": {},
       "diffDeletes": [],
       "diffInserts": [],
       "displayType": "redashChart",
       "error": null,
       "errorDetails": null,
       "errorSummary": null,
       "errorTraceType": null,
       "finishTime": 0,
       "globalVars": {},
       "guid": "",
       "height": "auto",
       "hideCommandCode": false,
       "hideCommandResult": false,
       "iPythonMetadata": null,
       "inputWidgets": {},
       "isLockedInExamMode": false,
       "latestUser": "a user",
       "latestUserId": null,
       "listResultMetadata": null,
       "metadata": {
        "byteLimit": 2048000,
        "rowLimit": 10000
       },
       "nuid": "78403659-a577-48e3-903c-03133b34d78c",
       "origId": 0,
       "parentHierarchy": [],
       "pivotAggregation": null,
       "pivotColumns": null,
       "position": 6.25,
       "resultDbfsErrorMessage": null,
       "resultDbfsStatus": "INLINED_IN_TREE",
       "results": null,
       "showCommandTitle": false,
       "startTime": 0,
       "state": "finished",
       "streamStates": {},
       "subcommandOptions": {
        "queryPlan": {
         "groups": [
          {
           "column": "PERIODENDDATE",
           "type": "column"
          }
         ],
         "selects": [
          {
           "column": "PERIODENDDATE",
           "type": "column"
          },
          {
           "alias": "column_b45bba4a17",
           "args": [
            {
             "column": "Total Loans & Leases (Incl HFI & HFS)",
             "type": "column"
            }
           ],
           "function": "SUM",
           "type": "function"
          },
          {
           "alias": "column_b45bba4a20",
           "args": [
            {
             "column": "Cash & Equivalents",
             "type": "column"
            }
           ],
           "function": "SUM",
           "type": "function"
          },
          {
           "alias": "column_b45bba4a23",
           "args": [
            {
             "column": "Total Securities",
             "type": "column"
            }
           ],
           "function": "SUM",
           "type": "function"
          }
         ]
        }
       },
       "submitTime": 0,
       "subtype": "tableResultSubCmd.visualization",
       "tableResultIndex": 0,
       "useConsistentColors": false,
       "version": "CommandV1",
       "width": "auto",
       "workflows": [],
       "xColumns": null,
       "yColumns": null
      }
     },
     "output_type": "display_data"
    }
   ],
   "source": [
    "# pick start and end date\n",
    "# start with prior quarter for QOQ calculations\n",
    "start_date = '2014-12-31'\n",
    "end_date = '2023-12-31'\n",
    "\n",
    "# pick keyfields\n",
    "keyfields = [215825,215363,215736]\n",
    "\n",
    "# pick keyinstn\n",
    "keyinstn = 3100122 # all U.S. commercial banks, savings banks and savings & loan associations\n",
    "\n",
    "# pick period type\n",
    "#period_type = 2 # quarterly\n",
    "period_type = 1 # annual\n",
    "\n",
    "# create initial dataframe using first keyfield\n",
    "df1 = get_data(keyfields[0],keyinstn,start_date,end_date,period_type)\n",
    "field_name1 = df1.select(\"DATAITEMNAME\").collect()[0][0]\n",
    "df1 = get_percentage_changes(df1,\"DATAITEMVALUE\").withColumnRenamed(\"percentage_change\",field_name1)\n",
    "# create percentage changes table\n",
    "df1 = df1.filter(df1[field_name1].isNotNull()).select(df1.PERIODENDDATE,df1[field_name1])\n",
    "\n",
    "# add additional fields\n",
    "for i in range(1,len(keyfields)):\n",
    "  df2 = get_data(keyfields[i],keyinstn,start_date,end_date,period_type)\n",
    "  field_name2 = df2.select(\"DATAITEMNAME\").collect()[0][0]\n",
    "  df2 = get_percentage_changes(df2,\"DATAITEMVALUE\").withColumnRenamed(\"percentage_change\",field_name2)\n",
    "  df2 = df2.filter(df2[field_name2].isNotNull()).select(df2.PERIODENDDATE,df2[field_name2])\n",
    "  df1 = df1.join(df2,['PERIODENDDATE'],'inner')\n",
    "\n",
    "# convert periodenddate to quarters\n",
    "#df_labels = add_quarter_labels(df1,\"PERIODENDDATE\")\n",
    "#display(df_labels)\n",
    "\n",
    "df_loans = df1\n",
    "display(df_loans)"
   ]
  },
  {
   "cell_type": "markdown",
   "metadata": {
    "application/vnd.databricks.v1+cell": {
     "cellMetadata": {
      "byteLimit": 2048000,
      "rowLimit": 10000
     },
     "inputWidgets": {},
     "nuid": "e090fcb7-c55e-4aba-9ca9-c089ffb8c367",
     "showTitle": false,
     "title": ""
    }
   },
   "source": [
    "#### 3.4 Focus on bank core funding"
   ]
  },
  {
   "cell_type": "code",
   "execution_count": 0,
   "metadata": {
    "application/vnd.databricks.v1+cell": {
     "cellMetadata": {
      "byteLimit": 2048000,
      "rowLimit": 10000
     },
     "inputWidgets": {},
     "nuid": "89c8f9a0-4d65-497c-9ed0-df6a202be3f7",
     "showTitle": false,
     "title": ""
    }
   },
   "outputs": [
    {
     "output_type": "display_data",
     "data": {
      "text/html": [
       "<style scoped>\n",
       "  .table-result-container {\n",
       "    max-height: 300px;\n",
       "    overflow: auto;\n",
       "  }\n",
       "  table, th, td {\n",
       "    border: 1px solid black;\n",
       "    border-collapse: collapse;\n",
       "  }\n",
       "  th, td {\n",
       "    padding: 5px;\n",
       "  }\n",
       "  th {\n",
       "    text-align: left;\n",
       "  }\n",
       "</style><div class='table-result-container'><table class='table-result'><thead style='background-color: white'><tr><th>PERIODENDDATE</th><th>Change in Brokered Deposits(%)</th><th>Change in non-brokered deposits (%)</th><th>Change in total borrowings (%)</th></tr></thead><tbody><tr><td>2019-12-31T00:00:00.000+0000</td><td>2.945000</td><td>-21.500600</td><td>-5.803900</td></tr><tr><td>2020-12-31T00:00:00.000+0000</td><td>2.821100</td><td>-57.883500</td><td>-15.284400</td></tr><tr><td>2021-12-31T00:00:00.000+0000</td><td>-46.988900</td><td>180.969700</td><td>-13.187700</td></tr><tr><td>2022-12-31T00:00:00.000+0000</td><td>48.276200</td><td>29.357700</td><td>39.197100</td></tr><tr><td>2023-12-31T00:00:00.000+0000</td><td>50.714200</td><td>-17.643100</td><td>20.228100</td></tr></tbody></table></div>"
      ]
     },
     "metadata": {
      "application/vnd.databricks.v1+output": {
       "addedWidgets": {},
       "aggData": [],
       "aggError": "",
       "aggOverflow": false,
       "aggSchema": [],
       "aggSeriesLimitReached": false,
       "aggType": "",
       "arguments": {},
       "columnCustomDisplayInfos": {},
       "data": [
        [
         "2019-12-31T00:00:00.000+0000",
         "2.945000",
         "-21.500600",
         "-5.803900"
        ],
        [
         "2020-12-31T00:00:00.000+0000",
         "2.821100",
         "-57.883500",
         "-15.284400"
        ],
        [
         "2021-12-31T00:00:00.000+0000",
         "-46.988900",
         "180.969700",
         "-13.187700"
        ],
        [
         "2022-12-31T00:00:00.000+0000",
         "48.276200",
         "29.357700",
         "39.197100"
        ],
        [
         "2023-12-31T00:00:00.000+0000",
         "50.714200",
         "-17.643100",
         "20.228100"
        ]
       ],
       "datasetInfos": [],
       "dbfsResultPath": null,
       "isJsonSchema": true,
       "metadata": {},
       "overflow": false,
       "plotOptions": {
        "customPlotOptions": {},
        "displayType": "table",
        "pivotAggregation": null,
        "pivotColumns": null,
        "xColumns": null,
        "yColumns": null
       },
       "removedWidgets": [],
       "schema": [
        {
         "metadata": "{}",
         "name": "PERIODENDDATE",
         "type": "\"timestamp\""
        },
        {
         "metadata": "{}",
         "name": "Change in Brokered Deposits(%)",
         "type": "\"decimal(38,6)\""
        },
        {
         "metadata": "{}",
         "name": "Change in non-brokered deposits (%)",
         "type": "\"decimal(38,6)\""
        },
        {
         "metadata": "{}",
         "name": "Change in total borrowings (%)",
         "type": "\"decimal(38,6)\""
        }
       ],
       "type": "table"
      }
     },
     "output_type": "display_data"
    },
    {
     "output_type": "display_data",
     "data": {
      "text/plain": [
       "Databricks visualization. Run in Databricks to view."
      ]
     },
     "metadata": {
      "application/vnd.databricks.v1.subcommand+json": {
       "baseErrorDetails": null,
       "bindings": {},
       "collapsed": false,
       "command": "%python\n__backend_agg_display_orig = display\n__backend_agg_dfs = []\ndef __backend_agg_display_new(df):\n    __backend_agg_df_modules = [\"pandas.core.frame\", \"databricks.koalas.frame\", \"pyspark.sql.dataframe\", \"pyspark.pandas.frame\", \"pyspark.sql.connect.dataframe\"]\n    if (type(df).__module__ in __backend_agg_df_modules and type(df).__name__ == 'DataFrame') or isinstance(df, list):\n        __backend_agg_dfs.append(df)\n\ndisplay = __backend_agg_display_new\n\ndef __backend_agg_user_code_fn():\n    import base64\n    exec(base64.standard_b64decode(\"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\").decode())\n\ntry:\n    # run user code\n    __backend_agg_user_code_fn()\n\n    #reset display function\n    display = __backend_agg_display_orig\n\n    if len(__backend_agg_dfs) > 0:\n        # create a temp view\n        if type(__backend_agg_dfs[0]).__module__ == \"databricks.koalas.frame\":\n            # koalas dataframe\n            __backend_agg_dfs[0].to_spark().createOrReplaceTempView(\"DatabricksViewfdc0088\")\n        elif type(__backend_agg_dfs[0]).__module__ == \"pandas.core.frame\" or isinstance(__backend_agg_dfs[0], list):\n            # pandas dataframe\n            spark.createDataFrame(__backend_agg_dfs[0]).createOrReplaceTempView(\"DatabricksViewfdc0088\")\n        else:\n            __backend_agg_dfs[0].createOrReplaceTempView(\"DatabricksViewfdc0088\")\n        #run backend agg\n        display(spark.sql(\"\"\"WITH q AS (select * from DatabricksViewfdc0088) SELECT `PERIODENDDATE`,SUM(`Change in Brokered Deposits(%)`) `column_495106844`,SUM(`Change in non-brokered deposits (%)`) `column_495106847`,SUM(`Change in total borrowings (%)`) `column_4951068410` FROM q GROUP BY `PERIODENDDATE`\"\"\"))\n    else:\n        displayHTML(\"dataframe no longer exists. If you're using dataframe.display(), use display(dataframe) instead.\")\n\n\nfinally:\n    spark.sql(\"drop view if exists DatabricksViewfdc0088\")\n    display = __backend_agg_display_orig\n    del __backend_agg_display_new\n    del __backend_agg_display_orig\n    del __backend_agg_dfs\n    del __backend_agg_user_code_fn\n\n",
       "commandTitle": "Chart",
       "commandType": "auto",
       "commandVersion": 0,
       "commentThread": [],
       "commentsVisible": false,
       "contentSha256Hex": null,
       "customPlotOptions": {
        "redashChart": [
         {
          "key": "type",
          "value": "CHART"
         },
         {
          "key": "options",
          "value": {
           "alignYAxesAtZero": true,
           "coefficient": 1,
           "columnConfigurationMap": {
            "x": {
             "column": "PERIODENDDATE",
             "id": "column_495106841"
            },
            "y": [
             {
              "column": "Change in Brokered Deposits(%)",
              "id": "column_495106844",
              "transform": "SUM"
             },
             {
              "column": "Change in non-brokered deposits (%)",
              "id": "column_495106847",
              "transform": "SUM"
             },
             {
              "column": "Change in total borrowings (%)",
              "id": "column_4951068410",
              "transform": "SUM"
             }
            ]
           },
           "dateTimeFormat": "DD/MM/YYYY HH:mm",
           "direction": {
            "type": "counterclockwise"
           },
           "error_y": {
            "type": "data",
            "visible": true
           },
           "globalSeriesType": "column",
           "isAggregationOn": true,
           "legend": {
            "traceorder": "normal"
           },
           "missingValuesAsZero": true,
           "numberFormat": "0,0.[00000]",
           "percentFormat": "0[.]00%",
           "series": {
            "error_y": {
             "type": "data",
             "visible": true
            },
            "stacking": null
           },
           "seriesOptions": {
            "column_4951068410": {
             "name": "Change in total borrowings",
             "type": "column",
             "yAxis": 0
            },
            "column_495106844": {
             "name": "Change in brokered deposits",
             "type": "column",
             "yAxis": 0
            },
            "column_495106847": {
             "name": "Change in non-brokered deposits",
             "type": "column",
             "yAxis": 0
            }
           },
           "showDataLabels": false,
           "sizemode": "diameter",
           "sortX": true,
           "sortY": true,
           "swappedAxes": false,
           "textFormat": "",
           "useAggregationsUi": true,
           "valuesOptions": {},
           "version": 2,
           "xAxis": {
            "labels": {
             "enabled": true
            },
            "type": "-"
           },
           "yAxis": [
            {
             "title": {
              "text": "YOY change (%)"
             },
             "type": "-"
            },
            {
             "opposite": true,
             "type": "-"
            }
           ]
          }
         }
        ]
       },
       "datasetPreviewNameToCmdIdMap": {},
       "diffDeletes": [],
       "diffInserts": [],
       "displayType": "redashChart",
       "error": null,
       "errorDetails": null,
       "errorSummary": null,
       "errorTraceType": null,
       "finishTime": 0,
       "globalVars": {},
       "guid": "",
       "height": "auto",
       "hideCommandCode": false,
       "hideCommandResult": false,
       "iPythonMetadata": null,
       "inputWidgets": {},
       "isLockedInExamMode": false,
       "latestUser": "a user",
       "latestUserId": null,
       "listResultMetadata": null,
       "metadata": {
        "byteLimit": 2048000,
        "rowLimit": 10000
       },
       "nuid": "b60ca413-c4dc-49d1-b87e-9cc6cffdadc1",
       "origId": 0,
       "parentHierarchy": [],
       "pivotAggregation": null,
       "pivotColumns": null,
       "position": 6.3828125,
       "resultDbfsErrorMessage": null,
       "resultDbfsStatus": "INLINED_IN_TREE",
       "results": null,
       "showCommandTitle": false,
       "startTime": 0,
       "state": "finished",
       "streamStates": {},
       "subcommandOptions": {
        "queryPlan": {
         "groups": [
          {
           "column": "PERIODENDDATE",
           "type": "column"
          }
         ],
         "selects": [
          {
           "column": "PERIODENDDATE",
           "type": "column"
          },
          {
           "alias": "column_495106844",
           "args": [
            {
             "column": "Change in Brokered Deposits(%)",
             "type": "column"
            }
           ],
           "function": "SUM",
           "type": "function"
          },
          {
           "alias": "column_495106847",
           "args": [
            {
             "column": "Change in non-brokered deposits (%)",
             "type": "column"
            }
           ],
           "function": "SUM",
           "type": "function"
          },
          {
           "alias": "column_4951068410",
           "args": [
            {
             "column": "Change in total borrowings (%)",
             "type": "column"
            }
           ],
           "function": "SUM",
           "type": "function"
          }
         ]
        }
       },
       "submitTime": 0,
       "subtype": "tableResultSubCmd.visualization",
       "tableResultIndex": 0,
       "useConsistentColors": false,
       "version": "CommandV1",
       "width": "auto",
       "workflows": [],
       "xColumns": null,
       "yColumns": null
      }
     },
     "output_type": "display_data"
    }
   ],
   "source": [
    "# pick start and end date\n",
    "# start with prior quarter for QOQ calc\n",
    "start_date = '2018-12-31'\n",
    "end_date = '2023-12-31'\n",
    "\n",
    "# pick keyfields\n",
    "# 216107 = brokered, 206127 = total deposits, 216842 = total borrowings\n",
    "keyfields = [216107,206127,216842]\n",
    "\n",
    "# pick keyinstn\n",
    "keyinstn = 3100122 # all U.S. commercial banks, savings banks and savings & loan associations\n",
    "\n",
    "# pick period type\n",
    "#period_type = 2 # quarterly\n",
    "period_type = 1 # annual\n",
    "\n",
    "# create initial dataframe using first keyfield\n",
    "df1 = get_data(keyfields[0],keyinstn,start_date,end_date,period_type)\n",
    "field_name1 = df1.select(\"DATAITEMNAME\").collect()[0][0]\n",
    "df1 = df1.withColumnRenamed(\"DATAITEMVALUE\",field_name1).drop(\"DATAITEMNAME\")\n",
    "\n",
    "# add additional fields\n",
    "for i in range(1,len(keyfields)):\n",
    "  df2 = get_data(keyfields[i],keyinstn,start_date,end_date,period_type)\n",
    "  field_name2 = df2.select(\"DATAITEMNAME\").collect()[0][0]\n",
    "  df2 = df2.withColumnRenamed(\"DATAITEMVALUE\",field_name2).drop(\"DATAITEMNAME\")\n",
    "  df1 = df1.join(df2,['PERIODENDDATE','INSTITUTIONID'],'inner')\n",
    "\n",
    "# calculate non-brokered deposits\n",
    "df1 = df1.withColumn(\"non_brokered\",df1[field_name2] - df1[field_name1])\n",
    "\n",
    "# add percentages\n",
    "field_name1_pct = \"Change in \" + field_name1 + \"(%)\"\n",
    "df1 = get_percentage_changes(df1,\"Brokered Deposits\").withColumnRenamed(\"percentage_change\",field_name1_pct)\n",
    "field_name2_pct = \"Change in non-brokered deposits (%)\"\n",
    "df1 = get_percentage_changes(df1,\"non_brokered\").withColumnRenamed(\"percentage_change\",field_name2_pct)\n",
    "field_name3_pct = \"Change in total borrowings (%)\"\n",
    "df1 = get_percentage_changes(df1,\"Total Borrowings\").withColumnRenamed(\"percentage_change\",field_name3_pct)\n",
    "\n",
    "df1 = df1.filter(df1[field_name1_pct].isNotNull())\n",
    "df1 = df1.filter(df1[field_name2_pct].isNotNull())\n",
    "df1 = df1.filter(df1[field_name3_pct].isNotNull())\n",
    "\n",
    "#df_final = add_quarter_labels(df1,\"PERIODENDDATE\").select(\"Quarter\",field_name1_pct,field_name2_pct,field_name3_pct)\n",
    "df_final = df1.select(\"PERIODENDDATE\",field_name1_pct,field_name2_pct,field_name3_pct)\n",
    "display(df_final)"
   ]
  },
  {
   "cell_type": "markdown",
   "metadata": {
    "application/vnd.databricks.v1+cell": {
     "cellMetadata": {
      "byteLimit": 2048000,
      "rowLimit": 10000
     },
     "inputWidgets": {},
     "nuid": "cef4f625-e638-4bc2-8e5e-82b4d7c3c32f",
     "showTitle": false,
     "title": ""
    }
   },
   "source": [
    "### Time series decomposition  "
   ]
  },
  {
   "cell_type": "code",
   "execution_count": 0,
   "metadata": {
    "application/vnd.databricks.v1+cell": {
     "cellMetadata": {
      "byteLimit": 2048000,
      "rowLimit": 10000
     },
     "inputWidgets": {},
     "nuid": "383f539f-a12f-4d5a-84ad-780130bcfab7",
     "showTitle": false,
     "title": ""
    }
   },
   "outputs": [
    {
     "output_type": "display_data",
     "data": {
      "image/png": "[encoded data removed]"
     },
     "metadata": {
      "application/vnd.databricks.v1+output": {
       "addedWidgets": {},
       "arguments": {},
       "data": "data:image/png;base64,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\n",
       "datasetInfos": [],
       "metadata": {},
       "removedWidgets": [],
       "type": "image"
      }
     },
     "output_type": "display_data"
    }
   ],
   "source": [
    "cash = get_data(215363,3100122,'2012-12-31','2023-12-31',2)\n",
    "plot_add_decomp(cash)"
   ]
  },
  {
   "cell_type": "code",
   "execution_count": 0,
   "metadata": {
    "application/vnd.databricks.v1+cell": {
     "cellMetadata": {
      "byteLimit": 2048000,
      "rowLimit": 10000
     },
     "inputWidgets": {},
     "nuid": "9b75bd65-a28d-4026-9f7b-18d096c88483",
     "showTitle": false,
     "title": ""
    }
   },
   "outputs": [
    {
     "output_type": "display_data",
     "data": {
      "image/png": "[encoded data removed]"
     },
     "metadata": {
      "application/vnd.databricks.v1+output": {
       "addedWidgets": {},
       "arguments": {},
       "data": "data:image/png;base64,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\n",
       "datasetInfos": [],
       "metadata": {},
       "removedWidgets": [],
       "type": "image"
      }
     },
     "output_type": "display_data"
    }
   ],
   "source": [
    "brokered = get_data(216107,3100122,'2012-12-31','2023-12-31',2)\n",
    "plot_add_decomp(brokered)"
   ]
  },
  {
   "cell_type": "code",
   "execution_count": 0,
   "metadata": {
    "application/vnd.databricks.v1+cell": {
     "cellMetadata": {
      "byteLimit": 2048000,
      "rowLimit": 10000
     },
     "inputWidgets": {},
     "nuid": "82f0ea5d-4307-425a-9926-25e91481c1ae",
     "showTitle": false,
     "title": ""
    }
   },
   "outputs": [
    {
     "output_type": "display_data",
     "data": {
      "image/png": "[encoded data removed]"
     },
     "metadata": {
      "application/vnd.databricks.v1+output": {
       "addedWidgets": {},
       "arguments": {},
       "data": "data:image/png;base64,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\n",
       "datasetInfos": [],
       "metadata": {},
       "removedWidgets": [],
       "type": "image"
      }
     },
     "output_type": "display_data"
    }
   ],
   "source": [
    "dep = get_data(206127,3100122,'2012-12-31','2023-12-31',2)\n",
    "plot_add_decomp(dep)"
   ]
  },
  {
   "cell_type": "code",
   "execution_count": 0,
   "metadata": {
    "application/vnd.databricks.v1+cell": {
     "cellMetadata": {
      "byteLimit": 2048000,
      "rowLimit": 10000
     },
     "inputWidgets": {},
     "nuid": "f6687dbc-2fb2-4683-9edb-3a297c8c962e",
     "showTitle": false,
     "title": ""
    }
   },
   "outputs": [
    {
     "output_type": "display_data",
     "data": {
      "image/png": "[encoded data removed]"
     },
     "metadata": {
      "application/vnd.databricks.v1+output": {
       "addedWidgets": {},
       "arguments": {},
       "data": "data:image/png;base64,iVBORw0KGgoAAAANSUhEUgAAAagAAAEYCAYAAAAJeGK1AAAAOXRFWHRTb2Z0d2FyZQBNYXRwbG90bGliIHZlcnNpb24zLjUuMSwgaHR0cHM6Ly9tYXRwbG90bGliLm9yZy/YYfK9AAAACXBIWXMAAAsTAAALEwEAmpwYAAA7G0lEQVR4nO3dd3xcd5n3/c+l3jXqVrXkbsex5cSxnV4JqTjLApv6JJBsdrlv2F3akl14gAV2n60sue9AwIRsCAvJQmhJSCAJqZDiEstyt2XLVu8a9Taa6/njHBlZkWTZntHMSNf79TqvmTnnzJlrfpbnO+d3fnOOqCrGGGNMuIkKdQHGGGPMZCygjDHGhCULKGOMMWHJAsoYY0xYsoAyxhgTliygjDHGhCULKHPWRERFZEmo6zBTE5F4EdknIvkB3q792wMicrOI/E+o65hrLKDmMBHpHTf5RWRg3OM7pnjOFSJSF8AaXhWR+wK1vUATkTtF5JiIdIvIOyJSdIr1vyIi/z1b9QXQ/cDrqtoIICKPicjXg/mCk/3bT/z7ctcZnPC3eqG7bNrwE5FrReSAiPSIyC4RWXeKeu4Rkd9PMv+YiFwzbp3RCfU85C67RETeFJEuEekQkT+IyAUAqvoMcI6IrDmNJjKnEBPqAkzwqGrK2H0ROQbcp6ovha6i8CIiKcB/ATcCLwHnA4MhLSp4/hInpMLRJ1T1kTN43g+ALwGPAKuAvgDV85aqXjJ+hoikAc8CHwd+AsQBlwJD41Z7AqeNPxGgOuY924Oah9zunm+KSIM7fdOdlww8DxSM+/ZYICIbROQtEfGKSKOIPCQicWdZQ5SIfFFEjotIi4g8LiLp45b/VESa3G+rr4vIOeOWPSYi3xKRX7vfnt8RkcXuMhGR/3S32S0iu0Vk9RRlKOADqlXVr6rbVLXtLN7TJvcbttf9Rn/FuGUfFZH9br1HReQvxi3LFpFn3ed1iMgbIhLlLisQkZ+JSKuIVIvIX4173gYR2e6+z2YR+cYUdZUAi4B3plhe6u6t3C0iNSLSJiJfGLc8WkT+XkSOuPXvEJHiM22nABoBjqljr6oeC+JrLQNQ1SdUdVRVB1T1BVWtHLfOqzhfdkyAWEDNT18ANgHlwFpgA/BFVe0DrgcaVDXFnRqAUeBTQDZwIXA18L/OsoZ73OlKnA/PFOChccufB5YCucC7wI8mPP9W4B+ADKAK+Ed3/rXAZTgfKOnAR4D2KWoYBiqAn4hI5lm8F0SkEPg18HUgE/gs8DMRyXFXaQFuAtKAjwL/KSLnucs+A9QBOUAe8PeAuiH1DLALKMRp978Rkfe7z3sQeFBV04DFON/sJ3MucFRVfad4G5cAy93X+ZKIrHTnfxq4DbjBrf9jQP8pthVUIiLAVuARESmdhZc8BIyKyA9E5HoRyZhknf1Aqbu3ZQIgIgNKRB51vyHvmcG6l4nIuyLiE5EPTVh2t4gcdqe7g1dx2LkD+KqqtqhqK84H/V1TrayqO1T1bVX1ud9SvwtcHoAavqGqR1W1F/g74FYRiXFf81FV7VHVIeArwNrxe1jAL1R1q/uh+yOcsAXnW3UqsAIQVd0/dtxlEv8X58P/CeDFsZASka+LyH+c5vu5E3hOVZ9z98ZeBLbjfKijqr9W1SPut/3XgBdwuojGas4HFqrqiKq+oc5JMi8AclT1q6o6rKpHge/hhPPY85aISLaq9qrq21PU5gF6ZvAe/sHdM9iF0y5r3fn34XyBOejWv0tVpwr9if6Pu2foFREvTjfZdOu8O8Ptfh5Iwgnz342FlIjcJyI/m+Z5m8bX49ZUcop1NqlqN06AK86/QauIPC0ieeOeN9bGnhm+B3MKERlQwGPAdTNctwbnm/qPx890P4y+DGzE2YP48hTfiuaiAuD4uMfH3XmTEpFlbhdUk4h0A/+EszcV6BpigDy3S+mf3S6lbuCYu87412wad78fZw8MVX0ZZ0/sW0CLiGyZ7ButON2Z9+J8KP8r8CLwkvt3cTHw8mm+n4XAhyd88F2CEzy437rfdrvwvDjBNfZ+/g1nL/AFt/vvgXHbLJiwzb/H2cvCrX8ZcEBEtonITVPU1okT2qcyaZsCxcCRGTx/Mn+lqp6xCWcvcrp1zptk+WT+Gviaqv4Ip/1ecUPqVP92b4+vx62p5hTrvA3gftm5R1WLgNU4f8PfHPe8sTb2zvA9mFOIyIBS1deBjvHzRGSxiPzG7R9/Q0RWuOsec/uJ/RM2837gRVXtUNVOnA+omYZepGvA+fAbU+LOA+cb4kQPAweApW530t8DEoQafEAzcDuwGbgGp5uu1F1nRq+pqv9HVc/HOXC+DPjcJKtFAdFArPucB4BtwNs4XXTPn9a7gVrghxM+2JJV9Z9FJB74GfDvQJ77ofjc2Ptx9xQ/o6qLgA8AnxaRq91tVk/YZqqqju2VHVbV23C6Qf8FeMoN3okqgbKxvdMzUIvThRhOYvjjv913cPZqXsXpMn482C+uqgdwviiPP765EueYWHewX3++iMiAmsIW4JPuB9NngW+fYv1CnP94Y+rcefPBE8AXRSRHRLJxRkKNDZ1uBrImdKelAt1Arxv8Hz/N14sRkYRxU6xbw6dEpEyc0XT/BPyP22WXijM6qh2nG+efZvpCInKBiGx0X6MPZ1TexC8nqGoP8Bvg2yKSJ86gj5dxjod1M/0I16gJ7ycep/1uFpH3u3uACeIMqS7CGfEVD7QCPhG5HudY2VjNN4nIEve4ShfOMT8/zjGWHhH5vIgkuttdLe7QZnGGyOeoqp8/fmuf7L3W4eyhbZhhM070CPA1EVkqjjUiknWG2wqUnwL/JiKL3ODdivPFYgjni0dAicgKEfmM+++JOINEbsP5QjPmck7/i42ZxpwIKPcD7iLgpyJSgXOMJKA/SJxjvo5zfKQS2I0zCOHrcOKb4RPAUbdbqQAn8G/H6WP/HnC6P0h8GBgYN/0X8CjwQ+B1oBonSD7prv84TpdfPbCPkz8ETiXNrbHT3UY7ThfQZO7ECeRdQBvO4IWLcf5fPDrNa9w24f0cUdVanL2+v8cJolqcPbcoNwz/CmcQQydOWz49bntLcYa59wJvAd9W1VdUdRSnS6wcp43acMJi7MvDdcBeEenFGTBxq6oOTFHzd5nmOOMpfMOt/QWc8P4+kHiG2wqUzwBv4Pz9eHGOU/4Jzr/lz90vKIHUg3M44B0R6cP5m9zj1jHmNpx2NgEiGqEXLHT7m59V1dXuMYaDqjplKInIY+76T7mPbwOuUNW/cB9/F3hVVZ8IevHGzDJ3L28ncPU0g0bMGRKRm4G7VPUjoa5lLpkTe1Bun2+1iHwYTvwWZu0pnvZb4FoRyXAHR1zrzjNmzlHVIVVdZeEUHKr6jIVT4EVkQInIEzhdIctFpE5E7sUZtnyviOwC9uJ0t4wdk6gDPgx8V0T2AqhqB/A1nAPj23CGXXe899WMMcaEQsR28RljjJnbInIPyhhjzNwXcSeLzc7O1tLS0lCXYYwxJkB27NjRpqo5E+dHXECVlpayffv2UJdhjDEmQETk+GTzrYvPGGNMWLKAMsYYEzLTDdSLuC4+Y4wxkWtwZJQ99V1sO9bJjuMd7DjeOeW6FlDGGGOCpqNvmB3HO9l+rIPtxzvZXdfF8KhzyshF2clcszKPiimeawFljDHmtKkqLT1DNHUN0tIzRHO3c9vaM0hL9xDN7m1LzxAAsdHCuYXp3HNxKesXZnD+wgyyUuIB5zT/k7GAMsYYM62RUT9HWnvZ19DtTI3O5O0fOWk9EchKjiM3NYHctHhW5adRmp3M+oWZrClKJyH29E40bwFljDHziKryysEWfvjWcfqHR4mPjSY+JooE99aZoomPjaKjd5h9jd0cbO5h2Od0y8XHRLFiQSrXr17AigVpFHgSyU2NJy8tgayUOGKjAzf2zgLKGGPmAb9feWFfE//35Sr2NnRTkJ5AcWYS3QMjDPn8DI2MOre+UYZG/Az5/KQkxLAqP417LirlnII0VuWnUZadTEwAQ2g6QQsoEXkU51o2Laq6epLldwCfx7mqaA/wcVXdFax6jDFmPhr1K89WNvDQy1UcbumlLDuZf/vQGm5ZVxjQvZ1gCOYe1GPAQ0x9+eVq4HJV7XSvMLoF54JgxhhjztLIqJ9f7Kzn4VePUN3Wx7K8FB68tZyb1hQQHSWhLm9GghZQqvq6e1HBqZa/Oe7h20BRsGoxxpj5Ysg3ylM76vj2K0eo9w5wTkEa37nzPK5dtYCoCAmmMeFyDOpe4PmpForI/cD9ACUlJbNVkzHGRIzBkVF+ur2Wh189QkPXIOXFHr52yzlcuTwXkcgKpjEhDygRuRInoC6Zah1V3YLTBcj69evtAlbGGOMaHBnlya01fOe1ozR1D3L+wgz++U/XcOnS7IgNpjEhDSgRWQM8Alyvqu2hrMUYYyLJ4MgoP36nhu+8doSWniE2lGbyHx9Zy0WLsyI+mMaELKBEpAT4OXCXqh4KVR3GGBNJRv3KY28e4+FXj9DWO8TGsky+eWs5Fy6aO8E0JpjDzJ8ArgCyRaQO+DIQC6Cq3wG+BGQB33Yb1aeq64NVjzHGRLrBkVH+5skKfrO3iQsXZfHQ7evYtCgr1GUFTTBH8d12iuX3AfcF6/WNMWYu6RoY4f7Ht/NOdQf/702ruPeSslCXFHQhHyRhjDFmes3dg9z96FaOtPby4K3lbC4vDHVJs8ICyhhjwtjR1l7u+v5WOvuHefSeC7h0aU6oS5o1FlDGGBOmKmq9fOyxbQjw5P2bWFPkCXVJs8oCyhhjwtBrh1r5+H/vICsljsc/tpGy7ORQlzTrLKCMMSbM/GJnHZ/7aSVL81L5wccuIDc1IdQlhYQFlDHGhIG6zn7eOdrBH6ra+PnOejYtymTL/7OetITYUJcWMhZQxhgzy1SV6rY+tlZ38E51B1urO6j3DgCQnhjL7RtL+NJNq077CrRzjQWUMcbMkrbeIf71Nwd45WArrT1DAGSnxLGhLJM/v7SMjYuyWJ6XGnFnHQ8WCyhjjJkFLx9o5m+fqqR7wMd1qxewcVEmG8uyWJyTPOdOURQoFlDGGBNE/cM+/vHX+/nROzWsWJDKf9+3kRUL0kJdVkSwgDLGmCCprPPyN09WcLStjz+/tIzPXLt83h9XOh0WUMaYsKeqEdUN5hv1853XjvDNlw6TkxrPj+/byEVLskNdVsSxgDLGhFRz9yDP7Gqgs38Yb/8IXQMnT97+EXqHfCxIS2BZXgrLF6SxYkEqy/JSWZybTHxMeO2R1LT386mfVLDjeCc3ry3g65tXk540f4eKnw0LKGNMyBxr6+P2771NQ9cg0VFCemIsnsRY0hJjyUiKoyw7mfTEWFLiY6j3DnCwqYffV7UxMupcWDsmSijLTmbZglSW5KSQn55AXloCuWnxLEhLICMpLqgj4rr6Rzje0UdNRz/H2/upae/n2coGoqJkXp3UNVgsoIwxIVHV0sPt33sHn1955hOXsLowbUbdeCOjfqrb+jjQ1MPBpm4ONvVQWefl15WN71k3NlrITXUCKy81gZzUeLJS4shKiScrOc6ZUuLJTokjLSGWqChh2OfH2z+Md2CEzj7n1uvu3XX0D1PXOUBNez/H2/voHvSd9HrZKfFctCSbr3zgHAo9iQFrq/nKAsoYM+v2NXRz1/ffISpKePL+TSzLS53xc2Ojo1iW53TxsbbgxPxhn5+WnkGau4do6R6kuXuQ5p4hmrsHaekeoqq1l3eq2+nsH5l0uzFRQlxMFP3Do9O8tlDoSaQkK5nyYg8lmUmUZCWxMCuJ4owkkuPtIzWQrDWNMbOqss7LXd/fSlJcND+6byOLclICst24mCiKMpIoykiadj3fqJ+O/mHae92pb+jE7eCIn4ykWNKT4shIisWTGIcnKRZPktPlmBQXHVGDNSKdBZQxZtbsON7BPY9uw5Mcy4/v20Rx5vRhEgwx0VFOt988PQFrJLGAMsbMireOtHPvD7aRl5bAj/98I/npdozGTC8q1AUYY+a+1w61cs9/baXQk8j/3L/JwsnMiO1BGWOCxjfq57k9TXz2J7tYkpvCD+/dQFZKfKjLMhHCAsoYEzCjfmV/YzdvHWnnzSNtbK3uoG94lLVF6Tz+sY32g1VzWiygjDFnzO9Xqlp7ebOqjbeOtvP20Q66Bpxh3ItykrllXSEXLs7impV5dg46c9osoIwxM9bRN0xFbScVNV521nrZVes98WPVooxE3n9OHhctzmbToiwWpNsoOXN2LKCMMZPy+5Xd9V3sON5JRa2XilovNR39AEQJLMtL5cY1+awrzuDCxVkhGTJu5jYLKGPMCX6/srO2k19XNvH8nkYauwYByE9PoLzYwx0bS1hb7OHcwnQ7a4IJOvsLM2aemyyU4qKjuGxZNp97/3IuXpJNXpp115nZZwFlzBzUP+zjlzsbaOoaQESIjhKiBKKihGgRokSIihLqOvt5fncTTd1joZTD3163nKtX5pGWYCPuTGgFLaBE5FHgJqBFVVdPslyAB4EbgH7gHlV9N1j1GDMftPUO8fibx3j87eN4+0cQAdWp1x8LpQeuX8HVK3NJtVAyYSSYe1CPAQ8Bj0+x/HpgqTttBB52b40xp+lYWx/fe+MoT+2oY3jUz/tW5vEXly/i/IWZqCp+dX6j5NexyXkcHxNlw79N2ApaQKnq6yJSOs0qm4HHVVWBt0XEIyL5qvrei7oYYyZVUevlu68d4Td7m4iNiuKD5xVy36WLWJL7xzOEiwjRAtFBvHCfMcEQymNQhUDtuMd17rz3BJSI3A/cD1BSUjIrxRkTblSVlp4hDjT1cKCxm98daGFrdQdpCTF8/PLF3HNRKbk2mMHMIRExSEJVtwBbANavXz9Nj7oxc8PA8CiHmns40NTN/sYeDjY598dfbK8kM4kv3riSWzeUkGJDvs0cFMq/6nqgeNzjIneeMfNOg3eA7cc7efd4JzuOd7KvsZtRv/NdLDE2muULUrlu9QKW56WyIj+NFQtS8STFhbhqY4IrlAH1NPAJEXkSZ3BElx1/MnPdsM9P18AI9d4BJ4xqnFAa+0FsYmw05cUePn75YlYXprMyP5XijCSi7PiRmYeCOcz8CeAKIFtE6oAvA7EAqvod4DmcIeZVOMPMPxqsWoyZLfXeAX5d2UBVSy9dAyN0DYzg7R+he2AE78AI/cOjJ61f6ElkfWkm55d4WF+ayYoFqcRE22XajIHgjuK77RTLFfjfwXp9Y2aLt3+Y53Y38cuKerZWdwCQkxpPRlIsnsQ4ijKS8BTGkp4YiycxlvSkWHJS4ikv8diF+4yZhh1ZNeYMDAyP8tL+Zn5V0cBrh1oYGVUW5STz6fctY3N5AQuzkkNdojERzwLKmBnw+5WjbX1U1Hp580gbv93TRN/wKHlp8dxzUSmbyws5pyAN5wQpxphAsIAyZhItPYNU1HjZVedlV20Xu+q89LjXPUpLiOGmNQVsLi9g46Is+wGsMUFiAWUMzui6Nw638syuBrZWd9DgjqqLjhJWLEjlA2sLWFvsYV2xh0U5KRZKxswCCygzb/n9ytZjHfyqooHn9zTi7R8hIymWi5dk87FiD+tKPJxTkG7nqjMmRCygzLyiquxt6ObpXQ08s6uBxq5BkuKiuXZVHpvLC7lkaTaxNszbmLBgAWUiUu+Qj6OtvRxt7eNIa68ztfTRNTBCTLQQEyXEREe5t0J0VBSxUUJ73zDVbX3ERAlXLM/h725YyTUrc0mKs/8KxoQb+19pwl6Dd4Ct1R3srOmkyg2ipu7BE8ujo4SSzCQW5ySzJimdUb/i8ys+vx/fqDLqV0b8yqjfT1l2Mn9+6SKuX72AjGQ7VZAx4cwCyoQVVaW6rY+t1R3OdKyDus4BAJLjolmSl8pFS7JYnJPC4pwUluQmU5KZTFyMdcsZM9dYQJmQ6x3y8evKBl4/1MY71R209Q4BkJUcx4ayTD52cRkbyjJZmZ9mo+eMmUcsoExIqCqVdV08ua2Gpysa6BseJT89gUuWZLGhLIsNZZkszkm2H74aM49ZQJlZ1T04wq8qGnjinRr2NXaTEBvFzWsKuHVDCeeVeCyQjDEnWECZoBv1KxW1nTy5tZZnKxsZGBllVX4aX7tlNZvLC0hLiA11icaYMGQBZQKutWeIilovO2s6qaj1UlnXRe+Qj6S4aG5ZV8BtG0o4tzDd9paMMdOygDJn7XBzD68fbjsRSGOj7mKihJX5afzJukLOX5jBNavy7NLkxpgZs08Lc0Z8o35e2t/MY28e4+2jzjWQCj2JlBd7uPvCUtaVeFhdaKcJMsacOQsoc1o6+oZ5clsNP3q7hnrvAIWeRD5/3Qr+ZF0hC9ITQl2eMWYOsYAyM7KnvosfvHmMX+1qYNjn56LFWXzp5lVcszLPfptkjAkKCygzqbbeISrrnAEOrx9q5d0aL4mx0Xz4/CLuvqiUZXmpoS7RGDPHWUAZugZG2F3nXJRvd10XlXXeE9dDEoHleal88caVfHh9MemJNiTcGDM7LKDmqe7BEX65s54nt9ayr7H7xPyFWUmcX5rJx4rSObcwndWF6STbyDtjTAjYJ888MnZ6oR+/U8PTuxoYGBlldWEan3v/cta4geRJsjN8G2PCgwXUPNA75OPpigZ+9M5x9jZ0kxgbzQfWFnDHphLWFHlCXZ4xxkzKAmqO6R/20eAdpN47QIN3gMq6Lp6uqKdveJQVC1L52uZz2Lyu0E4vZIwJexZQEaprYISXDzRTWddFg3fADaRBOvqGT1ovPiaKm9YUcPtGOxmrMSayWEBFkM6+YV7c18xzexr5Q1UbI6NKUlw0hZ5ECjMSWVPkce67jws8ieSlxhMTbRfzM8ZEHguoMNfaM8Rv9zbxmz1NvHW0nVG/UpyZyEcvLuO61QsoL/IQZT+UNcbMQRZQIaaq9Az5aOoapME7QFPXII1dgzR1DXKktZcdNZ2owqLsZP7y8kVcvzqfcwrSrKvOGDPnBTWgROQ64EEgGnhEVf95wvIS4AeAx13nAVV9Lpg1hZrfr/zhSBs/3V7H3oYumroG6RsePWkdEchJiafAk8hfXbWUG87NZ1leioWSMWZeCVpAiUg08C3gfUAdsE1EnlbVfeNW+yLwE1V9WERWAc8BpcGqKZTqvQP8dHstP91eR713gPTEWC5clMXly3LJT09gQXoC+ekJ5HsSyU2NJ9aOGxlj5rlg7kFtAKpU9SiAiDwJbAbGB5QCae79dKAhiPXMumGfc0mKJ7fV8sbhVlThkiXZfP76FVy7Ks8uRWGMMdMIZkAVArXjHtcBGyes8xXgBRH5JJAMXDPZhkTkfuB+gJKSkoAXejZG/Upn/zAdfcO09zq3HX1DHGnt4+ldDXT0DZOfnsAnr1zCh9cXU5yZFOqSjTEmIoR6kMRtwGOq+h8iciHwQxFZrar+8Sup6hZgC8D69et1totUVZq7h9hT38Wehi721HdzrL2Pjr5hOvuH0Ukqio0WrlmZx59dUMylS3PskhTGGHOaghlQ9UDxuMdF7rzx7gWuA1DVt0QkAcgGWoJY17T8fqXeO8Dehu6TAqmtdwhwBjAszklhSU4KWWVxZCXHkZUST2aycz8zJY6s5HgykmLt90fGGHMWghlQ24ClIlKGE0y3ArdPWKcGuBp4TERWAglAaxBrOqGrf4Qjbb1Ut/ZxtK2X6rY+jrb2Ud3Wx5DP2YGLjhKW5qZwxfIcVheksbownZX5aXZ2b2OMmQVB+6RVVZ+IfAL4Lc4Q8kdVda+IfBXYrqpPA58Bvicin8IZMHGP6mQdZn807PPTPThCanzMKYddqyoNXYMcbu6hqqWXI6297m3fSacEiokSSjKTKMtO5tKl2ZRlp7CqII0VC1JtIIMxxoSInCIPwk58/lLNv/ubxEVHkZEcS2ZyvNO15k5pCTHUdg6cCKT+cb8xykiKZWluKotzk1mUnUJZdjKLcpIpzkyyYd3GGBMiIrJDVddPnB9xfVVFGYk8cMNK2t3Rch19w7T3DVPb2U9H7zA9Qz7y0xNYkpvCR9YXszTPOV60JDeFrJT4UJdvjDFmhiIuoDKS4vjzyxZNuXzUrzZizhhj5oA5169l4WSMMXPDnAsoY4wxc4MFlDHGmLAUcaP4RKQVOB7qOnB+UNwW6iLCiLXHyaw9TmbtcTJrj5MtVNWciTMjLqDChYhsn2xY5Hxl7XEya4+TWXuczNpjZqyLzxhjTFiygDLGGBOWLKDO3JZQFxBmrD1OZu1xMmuPk1l7zIAdgzLGGBOWbA/KGGNMWLKAMsYYE5YsoFwiUiwir4jIPhHZKyJ/7c7PFJEXReSwe5vhzl8hIm+JyJCIfHaS7UWLyE4ReXa230sgBLI9RMQjIk+JyAER2e9ePTmiBLg9PuVuY4+IPOFeqDOinEF73CEilSKyW0TeFJG147Z1nYgcFJEqEXkgVO/pbASqPabazrylqjY5x+HygfPc+6nAIWAV8K/AA+78B4B/ce/nAhcA/wh8dpLtfRr4MfBsqN9bqNsD+AFwn3s/DvCE+v2Fqj2AQqAaSHQf/wTnOmghf49Bbo+LgAz3/vXAO+79aOAIsMj929gFrAr1+wthe0y6nVC/v1BNtgflUtVGVX3Xvd8D7Mf5MNmM8wGLe3uLu06Lqm4DRiZuS0SKgBuBR4JfeXAEqj1EJB24DPi+u96wqnpn4S0EVCD/PnCuIpAoIjFAEtAQ3OoD7wza401V7XTnvw0Uufc3AFWqelRVh4En3W1ElEC1xzTbmZcsoCYhIqXAOuAdIE9VG91FTUDeDDbxTeBvAX8w6pttZ9keZUAr8F9ul+cjIpIctGJnwdm0h6rWA/8O1ACNQJeqvhC8aoPvDNrjXuB5934hUDtuWR0R/oF8lu0x1XbmJQuoCUQkBfgZ8Deq2j1+mTr73dOOyxeRm4AWVd0RvCpnz9m2B87ewnnAw6q6DujD6eqISAH4+8jA+VZdBhQAySJyZ5DKDbrTbQ8RuRLnA/nzs1bkLApUe0y3nfnEAmocEYnF+aP4kar+3J3dLCL57vJ8oOUUm7kY+ICIHMPprrhKRP47SCUHVYDaow6oU9Wxb4FP4QRWxAlQe1wDVKtqq6qOAD/HOR4RcU63PURkDU6392ZVbXdn1wPF4zZb5M6LOAFqj6m2My9ZQLlERHCOk+xX1W+MW/Q0cLd7/27gV9NtR1X/TlWLVLUUuBV4WVUj7htyANujCagVkeXurKuBfQEuN+gC1R44XXubRCTJ3ebVOMcZIsrptoeIlOCE8V2qemjc+tuApSJSJiJxOP9nng52/YEWqPaYZjvzU6hHaYTLBFyCs/tdCVS40w1AFvA74DDwEpDprr8AZ++gG/C699MmbPMKIncUX8DaAygHtrvb+iXu6KVImgLcHv8AHAD2AD8E4kP9/mahPR4BOsetu33ctm7AGa12BPhCqN9bKNtjqu2E+v2FarJTHRljjAlL1sVnjDEmLFlAGWOMCUsWUMYYY8KSBZQxxpiwZAFljDEmLFlAGWOMCUsWUMYYY8KSBZQxxpiwZAFljDEmLFlAGWOMCUsWUMYYY8JSRAaUiDwqIi0ismcG614mIu+KiE9EPjRh2d0ictid7p5qG8YYY2ZfRAYU8Bhw3QzXrQHuAX48fqaIZAJfBjbiXHb6y+7F5IwxxoSBiAwoVX0d6Bg/T0QWi8hvRGSHiLwhIivcdY+paiXvvfz6+4EXVbVDVTuBF5l56BljjAmymFAXEEBbgL9U1cMishH4NnDVNOsXArXjHte584wxxoSBORFQIpKCc9nsnzoXpAQgPnQVGWOMOVtzIqBwuiq9qlp+Gs+px7ni7Zgi4NXAlWSMMeZsROQxqIlUtRuoFpEPA4hj7Sme9lvgWhHJcAdHXOvOM8YYEwYiMqBE5AngLWC5iNSJyL3AHcC9IrIL2Atsdte9QETqgA8D3xWRvQCq2gF8DdjmTl915xljjAkDoqqhrsEYY4x5j4jcgzLGGDP3WUAZY4wJSxE3ii87O1tLS0tDXYYxxpgA2bFjR5uq5kycH3EBVVpayvbt20NdhjHGmAARkeOTzbcuPmOMMSEz3UC9iNuDMsYYE/mqWnp5trKBZysbp1zHAsoYY8ysON7ex7OVjTyzq4EDTT2IwMayzCnXt4AyxhgTNHWd/fy6spFnKxvZXd8FwPqFGXzl5lXccG4+uWkJ/M9fTP5cCyhjjDEBd7S1l689u49XDrYCsLYonS/csJIb1+RT4Emc0TYsoIwxxgRM/7CPb71SxfderyY+JopPv28Zt5QXUpKVdNrbsoAyxhhz1lSV3+5t4qvP7KOha5APnlfIA9evIDc14Yy3aQFljDHmrBxt7eXLT+/ljcNtrFiQyoO3reOC0qkHP8yUBZQxxpgz0j/s46GXq/jeG0dJiInmKzev4s5NC4mJDsxPbC2gjDHGTEtVaesd5lh7H8fa+tzbfrYf76C5e4g/Pa+IB65fQU5qYC9kbgFljDHmhJ7BEXbVdvFuTScHm3o41t7H8fZ+eod8J9aJiRKKM5M4tzCdh25fHJDuvMlYQBljzDzl9ytH23p597iXnbWdvHvcy6GWHlRBBBZmJlGancwFpZmUZjn3y7KTKfAkEhugbrzpBC2gRORR4CagRVVXT7L8DuDzgAA9wMdVdVew6jHGGANdAyO8sLeJ5/c0sf1YB92Dzp5RWkIM60oyuOHcfNaVeCgv8ZCWEBvSWoO5B/UY8BDw+BTLq4HLVbVTRK4HtgAbg1iPMcbMS/3DPl7a38Izuxp47WArw6N+ijMTuXFNAetKPJxXksGi7GSioiTUpZ4kaAGlqq+LSOk0y98c9/BtoChYtRhjzHwz5BvltYOtPFPZyEv7mhkYGSUvLZ67LlzIzWsLWFuUjkh4BdJE4XIM6l7g+akWisj9wP0AJSUls1WTMcZEnGNtfXz/99X8sqKenkEfGUmxfPC8Qj6wtoALSjPDbi9pOiEPKBG5EiegLplqHVXdgtMFyPr166e+eIgxxsxTO2s62fL6UX6zt4nYqChuWpPP5nWFXLQ4a1YGNARDSANKRNYAjwDXq2p7KGsxxphI4/crrxxs4buvH2VrdQepCTH85eWL+ehFpeSmnfkphsJFyAJKREqAnwN3qeqhUNVhjDGRZsg3yq92NrDljaNUtfRSkJ7AF29cya0bSkiJD3nHWMAEc5j5E8AVQLaI1AFfBmIBVPU7wJeALODb7oE6n6quD1Y9xhgT6YZ8ozy5tZZvvVJFS88QK/PT+OaflXPjmvyI7cabTjBH8d12iuX3AfcF6/WNMWau8I36+fm79Tz4u8PUewfYUJbJf3xkLZcsyQ77kXhnY+7sCxpjzBzj9yvPVDbwzZcOU93Wx9qidP6/D57LpUvndjCNsYAyxpgwo6q8uK+Zb7x4iANNPaxYkMqWu87nfavy5kUwjbGAMsaYMKGq/L6qjX9/4RC7ar2UZSfz4K3l3LymIKJ+vxQoFlDGGBMG3jzSxn++eIhtxzop9CTyL396Ln96XlHArq0UiSygjDEmhN452s5/vnSIt492sCAtga/dspqPrC8iPiY61KWFnAWUMcaEwI7jHXzjxUP8oaqdnNR4vnLzKm7dUEJCrAXTGAsoY4yZJarKuzWdPPi7Kl4/1Ep2ShxfvHEld25aaME0CQsoY4wJstqOfn5VUc8vdtZzpLWPjKRY/u76Fdx14UKS4uxjeCrWMsYYEwRd/SP8encjv9hZx7ZjnQBsKMvk3ksW8YHygjl1SqJgsRYyxpgA6R/28fqhVn6xs55XDjgXBlyck8zn3r+czeUFFGUkhbrEiGIBZYwxZ6jBO8CO453sON7JuzWd7G3oZtSvZKc4Fwb8k3WFnFOQNq9+XBtIFlDGmIg0Muqnd9BH75CPvmEfvlElLSGW9MRYUhNiAvrDVt+on7beYRq6BthV63UC6XgnDV2DACTGRlNe7OHjly9m06IsNi3KnNe/XwoUCyhjTFhq6R5kZ62Xilovu+u6aO8bpm/ICaTeIR/DPv+UzxWB1PgY0pNi8STGkZ7oBFdSXDTxsVHEx0QTH+PexkaduD/q99PSM0RL9xDNPYO0dA/R0jNEe98QOu5SqQXpCZxfmsn9JR7OX5jJyvxUC6QgsIAyxoTc4Mgoe+q72FnjBFJFrZd67wAAMVHCivxUCj0JpMTHkBwfQ0pCDClx4+7HxxATJXQP+ugaGHGm/uE/3h8YobFrgMERP4Mjowz5/Az5RhkZfe8FuqMEslPiyU2LJz89gbXF6eSkJpCbGk9eWgLnFKRR4Emc7Saal6YMKBH54HRPVNWfB74cY8x8Ud3Wx+/2N/PivmZ2HO/E53fCotCTSHmJh49eXMq6Eg/nFKQH7TdCo35l2A2rIZ8fEchKjid6Hp73LhxNtwd1s3ubC1wEvOw+vhJ4E+dquMYYMyOjfudHqi/tb+alfc0cae0DYMWCVO67dBHnL8xgbXE6uamzd6ny6CghMS6axDj7kWw4mjKgVPWjACLyArBKVRvdx/nAY7NSnTEmog37/LxysIUX9jbzysEWOvqGiYkSNi3K4q5NC7l6ZR7FmTb02kxuJsegisfCydUMlASpHmNMhFNV9jZ089SOOn5VUU9n/wjpibFcuTyHa1blcdmyHNISYkNdpokAMwmo34nIb4En3Md/BrwUvJKMMZGorXeIX+6s56kddRxo6iEuOor3nZPHh84v4tIl2TbKzZy2UwaUqn7CHTBxqTtri6r+IrhlGWMiweDIKK8ebOWpHXW8erAFn18pL/bw9VtWc/OaAtKTbE/JnLkZDTN3R+zZoAhjDE1dg7x8oIWXD7Twh6o2BkZGyU2N595Ly/jw+UUsyU0NdYlmjjhlQLl7T/+CM5pP3ElVNS3ItRljwsCoX6mo9fKKG0r7GrsBZzj4h84v4ppVeVy8OMu68EzAzWQP6l+Bm1V1f7CLMcaE3uDIKPsau6ms9bKz1ssbh9vo6BsmOko4vySDB65fwVUrclmam2LnmDNBNZOAarZwMmZuGvUrh1t62FXrZVddF5V1Xg409pz40WxOajyXL8vhyhW5XL40x44pmVk1k4DaLiL/A/wSGBqbaWeSMCbydPWP8G5NJ9uPd7DjeCe7arsYGBkFIDUhhjVF6dx/2SLWFHlYW5zOgrQE20syITOTgEoD+oFrx81TTjFoQkQeBW4CWlR19STLBXgQuMHd/j2q+u4M6zbGnIKqcry9n+3HO9nhBtKh5l7AOYPCOQVp/NkFxawtTmdtkYfSrOSAngHcmLM1k2HmHz3DbT8GPAQ8PsXy64Gl7rQReNi9NcacgY6+YXbVedlV66WyrotdtV7a+4YBZ+/o/IUZ3LymgPNLMygv9tilxk3Ym8kovmU44ZGnqqtFZA3wAVX9+nTPU9XXRaR0mlU2A4+rqgJvi4hHRPInnLXCGDOJviEfe+q7qKzroqLOS2Wdl9oO5+zfIrA0N4UrV+SyrsTD+oWZLM1Nsb0jE3Fm8hXqe8DngO8CqGqliPwYmDagZqAQqB33uM6d956AEpH7gfsBSkrsLEtmfhnyjbK/sYfKOi+7arvYXe+lqqUXdxyDc/bvYg93blzI2mIPqwvTSYm3vSMT+WbyV5ykqlsnHCj1BameSanqFmALwPr16997ARdj5gjfqJ9Dzb3srv/jqLqDTT0nrluUnRLHmiIP16/OZ21xOmuKPGSnxIe4amOCYyYB1SYii3EGRiAiH2KSvZwzUA8Uj3tc5M4zZl7w+5Wjbb1U1nW5k5e9Dd0MuVeKHRtVd9+li1hblM65RR4K0m1UnZk/ZhJQ/xtn72WFiNQD1cAdAXjtp4FPiMiTOIMjuuz4k5mr/H6lur2PPfVd7K7rYnd9F3vqu+gbdoZ4J8ZGs7owjTs3LWRNUTrnFqbbqDoz700bUCISDfwvVb1GRJKBKFXtmcmGReQJ4AogW0TqgC8DsQCq+h3gOZwh5lU4w8zPdLSgMWHF2TNyw8id9jV00zvk9IzHxUSxMj+ND55XxJoip5tuSW6KXcXVmAmmu+R7jKr6ROQSAFXtO50Nq+ptp1iuOHtnxkS05u5BdtZ42VXnpaLGy+76rhNhFB8TxaqCNP5kXSHnFqazujCdpXkpxNp564w5pen2oLYC5wE7ReRp4KfAiZCyM0mY+ah3yHdiNF1FrXMmhqbuQQBio4WV+U4YrSlK59yidJbkpNhJVI05QzM5BpUAtANX4QyUEGZwJgljIt2oX6lq6aWitpOdNV4qar0cau45Mby7NCuJjYsyKS/2sLbYw6r8NBJio0NbtDFzyHQBlSsinwb28MdgGmNDvc2coqrUewfY19DNrjovO2ucszGMddWlJ8ZSXuzh/ecsoLzEQ3mRh4zkuBBXbczcNl1ARQMpnBxMYyygTMQa8o1yuLmX/Y3d7GvsZl9DN/sbu+kedMIoOkpYmZ/KLesKWFecwboSD2XZyTa825hZNl1ANarqV2etEmMCzO9Xajv7OdjUw+GWXg4193CwqYeqlt4Tl5NIjI1mRX4qN60tYFV+Givz01iVn0ZinHXVGRNq0wWUfV00EUFVaega5GBTNwebejnc3MOhFieIBkf8J9Yr9CSyNC+Fq1bksqrACaPSrGQb3m1MmJouoK6etSqMmaGOvmEONHVzqKmHg829HGzq5lBz74ljRQAL0hJYmpfCHRsXsiwvhWV5qSzNS7Xz0xkTYab8H6uqHbNZiDETtfYMUVnnPXEaoN313bT1nrhmJp6kWJbnpfLB8wpZviCV5W4QpSfaVV+NmQvsK6UJC10DIyeFUWVdF41dzu+LogSW5qZy+bIcVuanngijnNR4G7hgzBxmAWVCYsg3yo7jnfyhqo3fV7Wzu8574vdFZdnJXFCayZqi9BO/L0q27jlj5h37X29mhd+v7G/qPhFIW6vbGRzxEx0llBd7+MRVS9lQmsm5hemkJ1kXnTHGAsoEUVf/CK8dbuWVAy28dqiVDvfy40tzU7j1ghIuWZLNxkWZpCZYIBlj3ssCygSMqnKouZeXD7TwyoEWdtR0MupXMpJiuXxZDpcuzeGSpdnkpSWEulRjTASwgDJnZWB4lLeOtrmh1Eq9dwCAVflpfPzyxVy5IpfyYo/91sgYc9osoMxpq27r45UDLbx6qJW3j7Yz7POTFBfNxUuy+cRVS7hyeS4L0m0vyRhzdiygzCkNjozy1tF2XnVD6Xh7PwCLc5K5a9NCrliewwWlmXYmb2NMQFlAmfdQVQ639PL6oVZeP9zGO0fbGfL5SYiN4qLF2dx3SRlXLM+lODMp1KUaY+YwCygDQGffML+vauONw628cbjtxI9kl+SmcPvGEq5cnsuGMttLMsbMHguoeWpwZJR3j3fy5pF23qhqo7LOi6pz3aNLlmRz6dJsLl2WQ6EnMdSlGmPmKQuoeWLY52dXnZe3jrTz5pE23q3xMuxzfii7tiidv756KZcty2FtkY24M8aEBwuoOWrY52d3fRdbqzt462g726o7GBgZRcQZAn73hQu5cHEWF5TaD2WNMeHJAmqO6BkcYcfxTrYf62TbsQ4qar0M+ZxrIS3LS+HPLihm06IsNi3KxJNklyo3xoQ/C6gIpKrUdQ6ws9bLjmMdbDvWyYGmbvzqXK58dUEad25ayAWlmawvzSA7JT7UJRtjzGmzgIoAfUM+dtV52VnjpaLWuR27LlJibDTnLfTwyauWsqEsk/Jij5352xgzJ9gnWZgZ9StVLb1U1HZSUdvFzppODjX3nLgUxaLsZC5bms26Eg/rSjJYviCV2Oio0BZtjDFBENSAEpHrgAeBaOARVf3nCctLgB8AHnedB1T1uWDWFE5UlcauQXbVeqmo81JR42V3fRf9w6MApCbEUF7s4dpzFrCuxEN5kYeMZDt+ZIyZH4IWUCISDXwLeB9QB2wTkadVdd+41b4I/ERVHxaRVcBzQGmwagolVaW5e4g99V3saehiT303u+q8tPY4XXWx0cKq/DQ+fH4Ra4s9rC32UJaVTJQN+TbGzFPB3IPaAFSp6lEAEXkS2AyMDygF0tz76UBDEOuZNWODGMaH0d6GLtp6neshiThddRcvzqK82EN5SQYr81OJj7GzNBhjzJhgBlQhUDvucR2wccI6XwFeEJFPAsnANZNtSETuB+4HKCkpCXihZ2PIN8rh5l72NXSzr9GZ9jd20zPoAyAmSlial8qVy3NZXZjO6sI0ViywS5gbY8yphPpT8jbgMVX9DxG5EPihiKxWVf/4lVR1C7AFYP369RqCOhn1K3Wd/Rxu7qWqtZdDTT3sa+ymqqUXnzuCISkumhULUtlcXsDK/DTOLUxnWV6qnb/OGGPOQDADqh4oHve4yJ033r3AdQCq+paIJADZQEsQ65pW75CP+s4BjrT2ngijw809HG3rY9j3x9zMS4tnVX4aV6/MZVV+OivzU1mYlWynCTLGmAAJZkBtA5aKSBlOMN0K3D5hnRrgauAxEVkJJACtwSpIVWnrHeZ4ex/13gEavIM0eAdo8A64jwfodrvmwDlWVJSRyJKcFC5dms2S3BSW5KayJCeF9CQ7PZAxxgRT0AJKVX0i8gngtzhDyB9V1b0i8lVgu6o+DXwG+J6IfApnwMQ9qhqQLrzeIR+Hmns42DRuau6ho2/4pPXSE2Mp8CRSlJHIhrJMCjyJFHgSWZSdzOKcFBLjrHvOGGNCQQKUB7Nm/fr1un379hOPu/pHqGrt5UhrL0daeqlq6eVgcw91nQMn1kmKi2ZZXirL81JZviCVspxkijyJ5HsSSbHBCsYYE1IiskNV10+cH3Gfzm29Q3zhF7upaunlSGvfiVP+AMRFR1GanUR5sYdbLyhm+YI0luelUpSRaL8nMsaYCBNxAdXYNcgzuxpYkpvCVStyWJyTwpLcFBbnpFCUkUiMnfbHGGPmhIgLqJX5aez88rWI2B6RMcbMZRG3uxETJRZOxhgzD0RcQBljjJkfLKCMMcaEpYgbZi4ircDxUNeBc8aLtlAXEUasPU5m7XEya4+TWXucbKGq5kycGXEBFS5EZPtk4/bnK2uPk1l7nMza42TWHjNjXXzGGGPCkgWUMcaYsGQBdea2hLqAMGPtcTJrj5NZe5zM2mMG7BiUMcaYsGR7UMYYY8KSBZQxxpiwZAHlEpFiEXlFRPaJyF4R+Wt3fqaIvCgih93bDHf+ChF5S0SGROSzk2wvWkR2isizs/1eAiGQ7SEiHhF5SkQOiMh+EbkwFO/pbAS4PT7lbmOPiDzhXkk6opxBe9whIpUisltE3hSRteO2dZ2IHBSRKhF5IFTv6WwEqj2m2s68pao2Ocfh8oHz3PupwCFgFfCvwAPu/AeAf3Hv5wIXAP8IfHaS7X0a+DHwbKjfW6jbA/gBcJ97Pw7whPr9hao9gEKgGkh0H/8E50KdIX+PQW6Pi4AM9/71wDvu/WjgCLDI/dvYBawK9fsLYXtMup1Qv79QTbYH5VLVRlV9173fA+zH+TDZjPMBi3t7i7tOi6puA0YmbktEioAbgUeCX3lwBKo9RCQduAz4vrvesKp6Z+EtBFQg/z5wriKQKCIxQBLQENzqA+8M2uNNVe10578NFLn3NwBVqnpUVYeBJ91tRJRAtcc025mXLKAmISKlwDrgHSBPVRvdRU1A3gw28U3gbwF/MOqbbWfZHmVAK/BfbpfnIyKSHLRiZ8HZtIeq1gP/DtQAjUCXqr4QvGqD7wza417gefd+IVA7blkdEf6BfJbtMdV25iULqAlEJAX4GfA3qto9fpk6+93TjssXkZuAFlXdEbwqZ8/ZtgfO3sJ5wMOqug7ow+nqiEgB+PvIwPlWXQYUAMkicmeQyg26020PEbkS5wP587NW5CwKVHtMt535xAJqHBGJxfmj+JGq/tyd3Swi+e7yfKDlFJu5GPiAiBzD6a64SkT+O0glB1WA2qMOqFPVsW+BT+EEVsQJUHtcA1SraquqjgA/xzkeEXFOtz1EZA1Ot/dmVW13Z9cDxeM2W+TOizgBao+ptjMvWUC5RERwjpPsV9VvjFv0NHC3e/9u4FfTbUdV/05Vi1S1FLgVeFlVI+4bcgDbowmoFZHl7qyrgX0BLjfoAtUeOF17m0Qkyd3m1TjHGSLK6baHiJTghPFdqnpo3PrbgKUiUiYicTj/Z54Odv2BFqj2mGY781OoR2mEywRcgrP7XQlUuNMNQBbwO+Aw8BKQ6a6/AGfvoBvwuvfTJmzzCiJ3FF/A2gMoB7a72/ol7uilSJoC3B7/ABwA9gA/BOJD/f5moT0eATrHrbt93LZuwBmtdgT4QqjfWyjbY6rthPr9hWqyUx0ZY4wJS9bFZ4wxJixZQBljjAlLFlDGGGPCkgWUMcaYsGQBZYwxJixZQBljjAlLFlDGGGPC0v8PMgPhTFpdAnkAAAAASUVORK5CYII=\n",
       "datasetInfos": [],
       "metadata": {},
       "removedWidgets": [],
       "type": "image"
      }
     },
     "output_type": "display_data"
    }
   ],
   "source": [
    "loans = get_data(215825,3100122,'2012-12-31','2023-12-31',2)\n",
    "plot_add_decomp(loans)"
   ]
  },
  {
   "cell_type": "code",
   "execution_count": 0,
   "metadata": {
    "application/vnd.databricks.v1+cell": {
     "cellMetadata": {
      "byteLimit": 2048000,
      "rowLimit": 10000
     },
     "inputWidgets": {},
     "nuid": "ca2989fd-ec2c-46d0-a72a-2ca45baa8287",
     "showTitle": false,
     "title": ""
    }
   },
   "outputs": [
    {
     "output_type": "display_data",
     "data": {
      "text/html": [
       "<style scoped>\n",
       "  .table-result-container {\n",
       "    max-height: 300px;\n",
       "    overflow: auto;\n",
       "  }\n",
       "  table, th, td {\n",
       "    border: 1px solid black;\n",
       "    border-collapse: collapse;\n",
       "  }\n",
       "  th, td {\n",
       "    padding: 5px;\n",
       "  }\n",
       "  th {\n",
       "    text-align: left;\n",
       "  }\n",
       "</style><div class='table-result-container'><table class='table-result'><thead style='background-color: white'><tr><th>INSTITUTIONID</th><th>DATAITEMID</th><th>DATAITEMNAME</th><th>PERIODENDDATE</th><th>DATAITEMVALUE</th></tr></thead><tbody><tr><td>3100122</td><td>206368</td><td>AFS(C):US Treasury Secs</td><td>2012-12-31T00:00:00.000+0000</td><td>191970693.0000000000000000</td></tr><tr><td>3100122</td><td>206368</td><td>AFS(C):US Treasury Secs</td><td>2013-03-31T00:00:00.000+0000</td><td>174546523.0000000000000000</td></tr><tr><td>3100122</td><td>206368</td><td>AFS(C):US Treasury Secs</td><td>2013-06-30T00:00:00.000+0000</td><td>152646134.0000000000000000</td></tr><tr><td>3100122</td><td>206368</td><td>AFS(C):US Treasury Secs</td><td>2013-09-30T00:00:00.000+0000</td><td>146567225.0000000000000000</td></tr><tr><td>3100122</td><td>206368</td><td>AFS(C):US Treasury Secs</td><td>2013-12-31T00:00:00.000+0000</td><td>180585594.0000000000000000</td></tr><tr><td>3100122</td><td>206368</td><td>AFS(C):US Treasury Secs</td><td>2014-03-31T00:00:00.000+0000</td><td>216886922.0000000000000000</td></tr><tr><td>3100122</td><td>206368</td><td>AFS(C):US Treasury Secs</td><td>2014-06-30T00:00:00.000+0000</td><td>239884615.0000000000000000</td></tr><tr><td>3100122</td><td>206368</td><td>AFS(C):US Treasury Secs</td><td>2014-09-30T00:00:00.000+0000</td><td>299992446.0000000000000000</td></tr><tr><td>3100122</td><td>206368</td><td>AFS(C):US Treasury Secs</td><td>2014-12-31T00:00:00.000+0000</td><td>346083780.0000000000000000</td></tr><tr><td>3100122</td><td>206368</td><td>AFS(C):US Treasury Secs</td><td>2015-03-31T00:00:00.000+0000</td><td>337576359.0000000000000000</td></tr><tr><td>3100122</td><td>206368</td><td>AFS(C):US Treasury Secs</td><td>2015-06-30T00:00:00.000+0000</td><td>341629558.0000000000000000</td></tr><tr><td>3100122</td><td>206368</td><td>AFS(C):US Treasury Secs</td><td>2015-09-30T00:00:00.000+0000</td><td>335259699.0000000000000000</td></tr><tr><td>3100122</td><td>206368</td><td>AFS(C):US Treasury Secs</td><td>2015-12-31T00:00:00.000+0000</td><td>339350035.0000000000000000</td></tr><tr><td>3100122</td><td>206368</td><td>AFS(C):US Treasury Secs</td><td>2016-03-31T00:00:00.000+0000</td><td>329903045.0000000000000000</td></tr><tr><td>3100122</td><td>206368</td><td>AFS(C):US Treasury Secs</td><td>2016-06-30T00:00:00.000+0000</td><td>340516400.0000000000000000</td></tr><tr><td>3100122</td><td>206368</td><td>AFS(C):US Treasury Secs</td><td>2016-09-30T00:00:00.000+0000</td><td>377901022.0000000000000000</td></tr><tr><td>3100122</td><td>206368</td><td>AFS(C):US Treasury Secs</td><td>2016-12-31T00:00:00.000+0000</td><td>431935218.0000000000000000</td></tr><tr><td>3100122</td><td>206368</td><td>AFS(C):US Treasury Secs</td><td>2017-03-31T00:00:00.000+0000</td><td>426204326.0000000000000000</td></tr><tr><td>3100122</td><td>206368</td><td>AFS(C):US Treasury Secs</td><td>2017-06-30T00:00:00.000+0000</td><td>375419976.0000000000000000</td></tr><tr><td>3100122</td><td>206368</td><td>AFS(C):US Treasury Secs</td><td>2017-09-30T00:00:00.000+0000</td><td>381324578.0000000000000000</td></tr><tr><td>3100122</td><td>206368</td><td>AFS(C):US Treasury Secs</td><td>2017-12-31T00:00:00.000+0000</td><td>389477765.0000000000000000</td></tr><tr><td>3100122</td><td>206368</td><td>AFS(C):US Treasury Secs</td><td>2018-03-31T00:00:00.000+0000</td><td>399184300.0000000000000000</td></tr><tr><td>3100122</td><td>206368</td><td>AFS(C):US Treasury Secs</td><td>2018-06-30T00:00:00.000+0000</td><td>407375142.0000000000000000</td></tr><tr><td>3100122</td><td>206368</td><td>AFS(C):US Treasury Secs</td><td>2018-09-30T00:00:00.000+0000</td><td>416722999.0000000000000000</td></tr><tr><td>3100122</td><td>206368</td><td>AFS(C):US Treasury Secs</td><td>2018-12-31T00:00:00.000+0000</td><td>464541240.0000000000000000</td></tr><tr><td>3100122</td><td>206368</td><td>AFS(C):US Treasury Secs</td><td>2019-03-31T00:00:00.000+0000</td><td>446343521.0000000000000000</td></tr><tr><td>3100122</td><td>206368</td><td>AFS(C):US Treasury Secs</td><td>2019-06-30T00:00:00.000+0000</td><td>456189950.0000000000000000</td></tr><tr><td>3100122</td><td>206368</td><td>AFS(C):US Treasury Secs</td><td>2019-09-30T00:00:00.000+0000</td><td>531447979.0000000000000000</td></tr><tr><td>3100122</td><td>206368</td><td>AFS(C):US Treasury Secs</td><td>2019-12-31T00:00:00.000+0000</td><td>547184400.0000000000000000</td></tr><tr><td>3100122</td><td>206368</td><td>AFS(C):US Treasury Secs</td><td>2020-03-31T00:00:00.000+0000</td><td>557518113.0000000000000000</td></tr><tr><td>3100122</td><td>206368</td><td>AFS(C):US Treasury Secs</td><td>2020-06-30T00:00:00.000+0000</td><td>716086036.0000000000000000</td></tr><tr><td>3100122</td><td>206368</td><td>AFS(C):US Treasury Secs</td><td>2020-09-30T00:00:00.000+0000</td><td>814747389.0000000000000000</td></tr><tr><td>3100122</td><td>206368</td><td>AFS(C):US Treasury Secs</td><td>2020-12-31T00:00:00.000+0000</td><td>785837927.0000000000000000</td></tr><tr><td>3100122</td><td>206368</td><td>AFS(C):US Treasury Secs</td><td>2021-03-31T00:00:00.000+0000</td><td>806934151.0000000000000000</td></tr><tr><td>3100122</td><td>206368</td><td>AFS(C):US Treasury Secs</td><td>2021-06-30T00:00:00.000+0000</td><td>752268892.0000000000000000</td></tr><tr><td>3100122</td><td>206368</td><td>AFS(C):US Treasury Secs</td><td>2021-09-30T00:00:00.000+0000</td><td>822831618.0000000000000000</td></tr><tr><td>3100122</td><td>206368</td><td>AFS(C):US Treasury Secs</td><td>2021-12-31T00:00:00.000+0000</td><td>982962508.0000000000000000</td></tr><tr><td>3100122</td><td>206368</td><td>AFS(C):US Treasury Secs</td><td>2022-03-31T00:00:00.000+0000</td><td>1002530693.0000000000000000</td></tr><tr><td>3100122</td><td>206368</td><td>AFS(C):US Treasury Secs</td><td>2022-06-30T00:00:00.000+0000</td><td>946293922.0000000000000000</td></tr><tr><td>3100122</td><td>206368</td><td>AFS(C):US Treasury Secs</td><td>2022-09-30T00:00:00.000+0000</td><td>905461938.0000000000000000</td></tr><tr><td>3100122</td><td>206368</td><td>AFS(C):US Treasury Secs</td><td>2022-12-31T00:00:00.000+0000</td><td>882868402.0000000000000000</td></tr><tr><td>3100122</td><td>206368</td><td>AFS(C):US Treasury Secs</td><td>2023-03-31T00:00:00.000+0000</td><td>781704635.0000000000000000</td></tr><tr><td>3100122</td><td>206368</td><td>AFS(C):US Treasury Secs</td><td>2023-06-30T00:00:00.000+0000</td><td>700271814.0000000000000000</td></tr><tr><td>3100122</td><td>206368</td><td>AFS(C):US Treasury Secs</td><td>2023-09-30T00:00:00.000+0000</td><td>712049849.0000000000000000</td></tr><tr><td>3100122</td><td>206368</td><td>AFS(C):US Treasury Secs</td><td>2023-12-31T00:00:00.000+0000</td><td>786760116.0000000000000000</td></tr></tbody></table></div>"
      ]
     },
     "metadata": {
      "application/vnd.databricks.v1+output": {
       "addedWidgets": {},
       "aggData": [],
       "aggError": "",
       "aggOverflow": false,
       "aggSchema": [],
       "aggSeriesLimitReached": false,
       "aggType": "",
       "arguments": {},
       "columnCustomDisplayInfos": {},
       "data": [
        [
         "3100122",
         "206368",
         "AFS(C):US Treasury Secs",
         "2012-12-31T00:00:00.000+0000",
         "191970693.0000000000000000"
        ],
        [
         "3100122",
         "206368",
         "AFS(C):US Treasury Secs",
         "2013-03-31T00:00:00.000+0000",
         "174546523.0000000000000000"
        ],
        [
         "3100122",
         "206368",
         "AFS(C):US Treasury Secs",
         "2013-06-30T00:00:00.000+0000",
         "152646134.0000000000000000"
        ],
        [
         "3100122",
         "206368",
         "AFS(C):US Treasury Secs",
         "2013-09-30T00:00:00.000+0000",
         "146567225.0000000000000000"
        ],
        [
         "3100122",
         "206368",
         "AFS(C):US Treasury Secs",
         "2013-12-31T00:00:00.000+0000",
         "180585594.0000000000000000"
        ],
        [
         "3100122",
         "206368",
         "AFS(C):US Treasury Secs",
         "2014-03-31T00:00:00.000+0000",
         "216886922.0000000000000000"
        ],
        [
         "3100122",
         "206368",
         "AFS(C):US Treasury Secs",
         "2014-06-30T00:00:00.000+0000",
         "239884615.0000000000000000"
        ],
        [
         "3100122",
         "206368",
         "AFS(C):US Treasury Secs",
         "2014-09-30T00:00:00.000+0000",
         "299992446.0000000000000000"
        ],
        [
         "3100122",
         "206368",
         "AFS(C):US Treasury Secs",
         "2014-12-31T00:00:00.000+0000",
         "346083780.0000000000000000"
        ],
        [
         "3100122",
         "206368",
         "AFS(C):US Treasury Secs",
         "2015-03-31T00:00:00.000+0000",
         "337576359.0000000000000000"
        ],
        [
         "3100122",
         "206368",
         "AFS(C):US Treasury Secs",
         "2015-06-30T00:00:00.000+0000",
         "341629558.0000000000000000"
        ],
        [
         "3100122",
         "206368",
         "AFS(C):US Treasury Secs",
         "2015-09-30T00:00:00.000+0000",
         "335259699.0000000000000000"
        ],
        [
         "3100122",
         "206368",
         "AFS(C):US Treasury Secs",
         "2015-12-31T00:00:00.000+0000",
         "339350035.0000000000000000"
        ],
        [
         "3100122",
         "206368",
         "AFS(C):US Treasury Secs",
         "2016-03-31T00:00:00.000+0000",
         "329903045.0000000000000000"
        ],
        [
         "3100122",
         "206368",
         "AFS(C):US Treasury Secs",
         "2016-06-30T00:00:00.000+0000",
         "340516400.0000000000000000"
        ],
        [
         "3100122",
         "206368",
         "AFS(C):US Treasury Secs",
         "2016-09-30T00:00:00.000+0000",
         "377901022.0000000000000000"
        ],
        [
         "3100122",
         "206368",
         "AFS(C):US Treasury Secs",
         "2016-12-31T00:00:00.000+0000",
         "431935218.0000000000000000"
        ],
        [
         "3100122",
         "206368",
         "AFS(C):US Treasury Secs",
         "2017-03-31T00:00:00.000+0000",
         "426204326.0000000000000000"
        ],
        [
         "3100122",
         "206368",
         "AFS(C):US Treasury Secs",
         "2017-06-30T00:00:00.000+0000",
         "375419976.0000000000000000"
        ],
        [
         "3100122",
         "206368",
         "AFS(C):US Treasury Secs",
         "2017-09-30T00:00:00.000+0000",
         "381324578.0000000000000000"
        ],
        [
         "3100122",
         "206368",
         "AFS(C):US Treasury Secs",
         "2017-12-31T00:00:00.000+0000",
         "389477765.0000000000000000"
        ],
        [
         "3100122",
         "206368",
         "AFS(C):US Treasury Secs",
         "2018-03-31T00:00:00.000+0000",
         "399184300.0000000000000000"
        ],
        [
         "3100122",
         "206368",
         "AFS(C):US Treasury Secs",
         "2018-06-30T00:00:00.000+0000",
         "407375142.0000000000000000"
        ],
        [
         "3100122",
         "206368",
         "AFS(C):US Treasury Secs",
         "2018-09-30T00:00:00.000+0000",
         "416722999.0000000000000000"
        ],
        [
         "3100122",
         "206368",
         "AFS(C):US Treasury Secs",
         "2018-12-31T00:00:00.000+0000",
         "464541240.0000000000000000"
        ],
        [
         "3100122",
         "206368",
         "AFS(C):US Treasury Secs",
         "2019-03-31T00:00:00.000+0000",
         "446343521.0000000000000000"
        ],
        [
         "3100122",
         "206368",
         "AFS(C):US Treasury Secs",
         "2019-06-30T00:00:00.000+0000",
         "456189950.0000000000000000"
        ],
        [
         "3100122",
         "206368",
         "AFS(C):US Treasury Secs",
         "2019-09-30T00:00:00.000+0000",
         "531447979.0000000000000000"
        ],
        [
         "3100122",
         "206368",
         "AFS(C):US Treasury Secs",
         "2019-12-31T00:00:00.000+0000",
         "547184400.0000000000000000"
        ],
        [
         "3100122",
         "206368",
         "AFS(C):US Treasury Secs",
         "2020-03-31T00:00:00.000+0000",
         "557518113.0000000000000000"
        ],
        [
         "3100122",
         "206368",
         "AFS(C):US Treasury Secs",
         "2020-06-30T00:00:00.000+0000",
         "716086036.0000000000000000"
        ],
        [
         "3100122",
         "206368",
         "AFS(C):US Treasury Secs",
         "2020-09-30T00:00:00.000+0000",
         "814747389.0000000000000000"
        ],
        [
         "3100122",
         "206368",
         "AFS(C):US Treasury Secs",
         "2020-12-31T00:00:00.000+0000",
         "785837927.0000000000000000"
        ],
        [
         "3100122",
         "206368",
         "AFS(C):US Treasury Secs",
         "2021-03-31T00:00:00.000+0000",
         "806934151.0000000000000000"
        ],
        [
         "3100122",
         "206368",
         "AFS(C):US Treasury Secs",
         "2021-06-30T00:00:00.000+0000",
         "752268892.0000000000000000"
        ],
        [
         "3100122",
         "206368",
         "AFS(C):US Treasury Secs",
         "2021-09-30T00:00:00.000+0000",
         "822831618.0000000000000000"
        ],
        [
         "3100122",
         "206368",
         "AFS(C):US Treasury Secs",
         "2021-12-31T00:00:00.000+0000",
         "982962508.0000000000000000"
        ],
        [
         "3100122",
         "206368",
         "AFS(C):US Treasury Secs",
         "2022-03-31T00:00:00.000+0000",
         "1002530693.0000000000000000"
        ],
        [
         "3100122",
         "206368",
         "AFS(C):US Treasury Secs",
         "2022-06-30T00:00:00.000+0000",
         "946293922.0000000000000000"
        ],
        [
         "3100122",
         "206368",
         "AFS(C):US Treasury Secs",
         "2022-09-30T00:00:00.000+0000",
         "905461938.0000000000000000"
        ],
        [
         "3100122",
         "206368",
         "AFS(C):US Treasury Secs",
         "2022-12-31T00:00:00.000+0000",
         "882868402.0000000000000000"
        ],
        [
         "3100122",
         "206368",
         "AFS(C):US Treasury Secs",
         "2023-03-31T00:00:00.000+0000",
         "781704635.0000000000000000"
        ],
        [
         "3100122",
         "206368",
         "AFS(C):US Treasury Secs",
         "2023-06-30T00:00:00.000+0000",
         "700271814.0000000000000000"
        ],
        [
         "3100122",
         "206368",
         "AFS(C):US Treasury Secs",
         "2023-09-30T00:00:00.000+0000",
         "712049849.0000000000000000"
        ],
        [
         "3100122",
         "206368",
         "AFS(C):US Treasury Secs",
         "2023-12-31T00:00:00.000+0000",
         "786760116.0000000000000000"
        ]
       ],
       "datasetInfos": [],
       "dbfsResultPath": null,
       "isJsonSchema": true,
       "metadata": {},
       "overflow": false,
       "plotOptions": {
        "customPlotOptions": {},
        "displayType": "table",
        "pivotAggregation": null,
        "pivotColumns": null,
        "xColumns": null,
        "yColumns": null
       },
       "removedWidgets": [],
       "schema": [
        {
         "metadata": "{}",
         "name": "INSTITUTIONID",
         "type": "\"decimal(10,0)\""
        },
        {
         "metadata": "{}",
         "name": "DATAITEMID",
         "type": "\"decimal(10,0)\""
        },
        {
         "metadata": "{}",
         "name": "DATAITEMNAME",
         "type": "\"string\""
        },
        {
         "metadata": "{}",
         "name": "PERIODENDDATE",
         "type": "\"timestamp\""
        },
        {
         "metadata": "{}",
         "name": "DATAITEMVALUE",
         "type": "\"decimal(38,16)\""
        }
       ],
       "type": "table"
      }
     },
     "output_type": "display_data"
    }
   ],
   "source": [
    "afs_treas = get_data(206368,3100122,'2012-12-31','2023-12-31',2)\n",
    "display(afs_treas)"
   ]
  },
  {
   "cell_type": "markdown",
   "metadata": {
    "application/vnd.databricks.v1+cell": {
     "cellMetadata": {
      "byteLimit": 2048000,
      "rowLimit": 10000
     },
     "inputWidgets": {},
     "nuid": "0d354f4f-ebd1-4872-8679-828e7bf759ad",
     "showTitle": false,
     "title": ""
    }
   },
   "source": [
    "### Liquidity ratios  \n",
    "Liquidity Ratio: (Cash&Balances Due+Securities+Fed Funds Sold&Repos+Trading Account Assets-Pledged Securities)/ Total Liabilities"
   ]
  },
  {
   "cell_type": "code",
   "execution_count": 0,
   "metadata": {
    "application/vnd.databricks.v1+cell": {
     "cellMetadata": {
      "byteLimit": 2048000,
      "rowLimit": 10000
     },
     "inputWidgets": {},
     "nuid": "11f2292b-5350-42fb-8f7c-778b4b8bddee",
     "showTitle": false,
     "title": ""
    }
   },
   "outputs": [
    {
     "output_type": "display_data",
     "data": {
      "text/html": [
       "<style scoped>\n",
       "  .table-result-container {\n",
       "    max-height: 300px;\n",
       "    overflow: auto;\n",
       "  }\n",
       "  table, th, td {\n",
       "    border: 1px solid black;\n",
       "    border-collapse: collapse;\n",
       "  }\n",
       "  th, td {\n",
       "    padding: 5px;\n",
       "  }\n",
       "  th {\n",
       "    text-align: left;\n",
       "  }\n",
       "</style><div class='table-result-container'><table class='table-result'><thead style='background-color: white'><tr><th>INSTITUTIONID</th><th>DATAITEMID</th><th>DATAITEMNAME</th><th>PERIODENDDATE</th><th>DATAITEMVALUE</th><th>pre_pandemic_avg</th></tr></thead><tbody><tr><td>3100122</td><td>215608</td><td>Liquidity Ratio</td><td>2012-12-31T00:00:00.000+0000</td><td>34.9300000000000000</td><td>35.47310344827586210000</td></tr><tr><td>3100122</td><td>215608</td><td>Liquidity Ratio</td><td>2018-09-30T00:00:00.000+0000</td><td>35.4200000000000000</td><td>35.47310344827586210000</td></tr><tr><td>3100122</td><td>215608</td><td>Liquidity Ratio</td><td>2022-06-30T00:00:00.000+0000</td><td>41.1300000000000000</td><td>35.47310344827586210000</td></tr><tr><td>3100122</td><td>215608</td><td>Liquidity Ratio</td><td>2022-09-30T00:00:00.000+0000</td><td>39.5100000000000000</td><td>35.47310344827586210000</td></tr><tr><td>3100122</td><td>215608</td><td>Liquidity Ratio</td><td>2015-09-30T00:00:00.000+0000</td><td>34.8300000000000000</td><td>35.47310344827586210000</td></tr><tr><td>3100122</td><td>215608</td><td>Liquidity Ratio</td><td>2020-12-31T00:00:00.000+0000</td><td>43.0500000000000000</td><td>35.47310344827586210000</td></tr><tr><td>3100122</td><td>215608</td><td>Liquidity Ratio</td><td>2021-03-31T00:00:00.000+0000</td><td>44.5700000000000000</td><td>35.47310344827586210000</td></tr><tr><td>3100122</td><td>215608</td><td>Liquidity Ratio</td><td>2023-06-30T00:00:00.000+0000</td><td>34.0100000000000000</td><td>35.47310344827586210000</td></tr><tr><td>3100122</td><td>215608</td><td>Liquidity Ratio</td><td>2023-09-30T00:00:00.000+0000</td><td>33.7100000000000000</td><td>35.47310344827586210000</td></tr><tr><td>3100122</td><td>215608</td><td>Liquidity Ratio</td><td>2013-09-30T00:00:00.000+0000</td><td>35.2600000000000000</td><td>35.47310344827586210000</td></tr><tr><td>3100122</td><td>215608</td><td>Liquidity Ratio</td><td>2013-12-31T00:00:00.000+0000</td><td>35.4700000000000000</td><td>35.47310344827586210000</td></tr><tr><td>3100122</td><td>215608</td><td>Liquidity Ratio</td><td>2016-12-31T00:00:00.000+0000</td><td>35.3100000000000000</td><td>35.47310344827586210000</td></tr><tr><td>3100122</td><td>215608</td><td>Liquidity Ratio</td><td>2017-03-31T00:00:00.000+0000</td><td>36.3200000000000000</td><td>35.47310344827586210000</td></tr><tr><td>3100122</td><td>215608</td><td>Liquidity Ratio</td><td>2019-06-30T00:00:00.000+0000</td><td>35.1800000000000000</td><td>35.47310344827586210000</td></tr><tr><td>3100122</td><td>215608</td><td>Liquidity Ratio</td><td>2021-09-30T00:00:00.000+0000</td><td>45.6000000000000000</td><td>35.47310344827586210000</td></tr><tr><td>3100122</td><td>215608</td><td>Liquidity Ratio</td><td>2021-12-31T00:00:00.000+0000</td><td>44.8200000000000000</td><td>35.47310344827586210000</td></tr><tr><td>3100122</td><td>215608</td><td>Liquidity Ratio</td><td>2014-03-31T00:00:00.000+0000</td><td>36.0100000000000000</td><td>35.47310344827586210000</td></tr><tr><td>3100122</td><td>215608</td><td>Liquidity Ratio</td><td>2016-06-30T00:00:00.000+0000</td><td>34.8400000000000000</td><td>35.47310344827586210000</td></tr><tr><td>3100122</td><td>215608</td><td>Liquidity Ratio</td><td>2016-09-30T00:00:00.000+0000</td><td>35.4600000000000000</td><td>35.47310344827586210000</td></tr><tr><td>3100122</td><td>215608</td><td>Liquidity Ratio</td><td>2020-03-31T00:00:00.000+0000</td><td>37.2600000000000000</td><td>35.47310344827586210000</td></tr><tr><td>3100122</td><td>215608</td><td>Liquidity Ratio</td><td>2020-06-30T00:00:00.000+0000</td><td>40.4300000000000000</td><td>35.47310344827586210000</td></tr><tr><td>3100122</td><td>215608</td><td>Liquidity Ratio</td><td>2021-06-30T00:00:00.000+0000</td><td>44.9800000000000000</td><td>35.47310344827586210000</td></tr><tr><td>3100122</td><td>215608</td><td>Liquidity Ratio</td><td>2014-06-30T00:00:00.000+0000</td><td>36.0500000000000000</td><td>35.47310344827586210000</td></tr><tr><td>3100122</td><td>215608</td><td>Liquidity Ratio</td><td>2018-03-31T00:00:00.000+0000</td><td>36.0500000000000000</td><td>35.47310344827586210000</td></tr><tr><td>3100122</td><td>215608</td><td>Liquidity Ratio</td><td>2018-06-30T00:00:00.000+0000</td><td>35.4400000000000000</td><td>35.47310344827586210000</td></tr><tr><td>3100122</td><td>215608</td><td>Liquidity Ratio</td><td>2020-09-30T00:00:00.000+0000</td><td>41.1600000000000000</td><td>35.47310344827586210000</td></tr><tr><td>3100122</td><td>215608</td><td>Liquidity Ratio</td><td>2022-12-31T00:00:00.000+0000</td><td>38.0300000000000000</td><td>35.47310344827586210000</td></tr><tr><td>3100122</td><td>215608</td><td>Liquidity Ratio</td><td>2015-03-31T00:00:00.000+0000</td><td>36.8100000000000000</td><td>35.47310344827586210000</td></tr><tr><td>3100122</td><td>215608</td><td>Liquidity Ratio</td><td>2017-06-30T00:00:00.000+0000</td><td>35.6500000000000000</td><td>35.47310344827586210000</td></tr><tr><td>3100122</td><td>215608</td><td>Liquidity Ratio</td><td>2019-12-31T00:00:00.000+0000</td><td>35.3800000000000000</td><td>35.47310344827586210000</td></tr><tr><td>3100122</td><td>215608</td><td>Liquidity Ratio</td><td>2023-03-31T00:00:00.000+0000</td><td>36.5400000000000000</td><td>35.47310344827586210000</td></tr><tr><td>3100122</td><td>215608</td><td>Liquidity Ratio</td><td>2015-06-30T00:00:00.000+0000</td><td>34.8600000000000000</td><td>35.47310344827586210000</td></tr><tr><td>3100122</td><td>215608</td><td>Liquidity Ratio</td><td>2015-12-31T00:00:00.000+0000</td><td>34.2700000000000000</td><td>35.47310344827586210000</td></tr><tr><td>3100122</td><td>215608</td><td>Liquidity Ratio</td><td>2016-03-31T00:00:00.000+0000</td><td>35.2000000000000000</td><td>35.47310344827586210000</td></tr><tr><td>3100122</td><td>215608</td><td>Liquidity Ratio</td><td>2019-09-30T00:00:00.000+0000</td><td>35.4500000000000000</td><td>35.47310344827586210000</td></tr><tr><td>3100122</td><td>215608</td><td>Liquidity Ratio</td><td>2023-12-31T00:00:00.000+0000</td><td>33.8000000000000000</td><td>35.47310344827586210000</td></tr><tr><td>3100122</td><td>215608</td><td>Liquidity Ratio</td><td>2014-09-30T00:00:00.000+0000</td><td>36.3500000000000000</td><td>35.47310344827586210000</td></tr><tr><td>3100122</td><td>215608</td><td>Liquidity Ratio</td><td>2014-12-31T00:00:00.000+0000</td><td>36.1300000000000000</td><td>35.47310344827586210000</td></tr><tr><td>3100122</td><td>215608</td><td>Liquidity Ratio</td><td>2017-09-30T00:00:00.000+0000</td><td>35.9800000000000000</td><td>35.47310344827586210000</td></tr><tr><td>3100122</td><td>215608</td><td>Liquidity Ratio</td><td>2017-12-31T00:00:00.000+0000</td><td>35.6000000000000000</td><td>35.47310344827586210000</td></tr><tr><td>3100122</td><td>215608</td><td>Liquidity Ratio</td><td>2018-12-31T00:00:00.000+0000</td><td>35.1600000000000000</td><td>35.47310344827586210000</td></tr><tr><td>3100122</td><td>215608</td><td>Liquidity Ratio</td><td>2019-03-31T00:00:00.000+0000</td><td>35.4900000000000000</td><td>35.47310344827586210000</td></tr><tr><td>3100122</td><td>215608</td><td>Liquidity Ratio</td><td>2022-03-31T00:00:00.000+0000</td><td>44.0600000000000000</td><td>35.47310344827586210000</td></tr><tr><td>3100122</td><td>215608</td><td>Liquidity Ratio</td><td>2013-03-31T00:00:00.000+0000</td><td>35.3100000000000000</td><td>35.47310344827586210000</td></tr><tr><td>3100122</td><td>215608</td><td>Liquidity Ratio</td><td>2013-06-30T00:00:00.000+0000</td><td>34.5100000000000000</td><td>35.47310344827586210000</td></tr></tbody></table></div>"
      ]
     },
     "metadata": {
      "application/vnd.databricks.v1+output": {
       "addedWidgets": {},
       "aggData": [],
       "aggError": "",
       "aggOverflow": false,
       "aggSchema": [],
       "aggSeriesLimitReached": false,
       "aggType": "",
       "arguments": {},
       "columnCustomDisplayInfos": {},
       "data": [
        [
         "3100122",
         "215608",
         "Liquidity Ratio",
         "2012-12-31T00:00:00.000+0000",
         "34.9300000000000000",
         "35.47310344827586210000"
        ],
        [
         "3100122",
         "215608",
         "Liquidity Ratio",
         "2018-09-30T00:00:00.000+0000",
         "35.4200000000000000",
         "35.47310344827586210000"
        ],
        [
         "3100122",
         "215608",
         "Liquidity Ratio",
         "2022-06-30T00:00:00.000+0000",
         "41.1300000000000000",
         "35.47310344827586210000"
        ],
        [
         "3100122",
         "215608",
         "Liquidity Ratio",
         "2022-09-30T00:00:00.000+0000",
         "39.5100000000000000",
         "35.47310344827586210000"
        ],
        [
         "3100122",
         "215608",
         "Liquidity Ratio",
         "2015-09-30T00:00:00.000+0000",
         "34.8300000000000000",
         "35.47310344827586210000"
        ],
        [
         "3100122",
         "215608",
         "Liquidity Ratio",
         "2020-12-31T00:00:00.000+0000",
         "43.0500000000000000",
         "35.47310344827586210000"
        ],
        [
         "3100122",
         "215608",
         "Liquidity Ratio",
         "2021-03-31T00:00:00.000+0000",
         "44.5700000000000000",
         "35.47310344827586210000"
        ],
        [
         "3100122",
         "215608",
         "Liquidity Ratio",
         "2023-06-30T00:00:00.000+0000",
         "34.0100000000000000",
         "35.47310344827586210000"
        ],
        [
         "3100122",
         "215608",
         "Liquidity Ratio",
         "2023-09-30T00:00:00.000+0000",
         "33.7100000000000000",
         "35.47310344827586210000"
        ],
        [
         "3100122",
         "215608",
         "Liquidity Ratio",
         "2013-09-30T00:00:00.000+0000",
         "35.2600000000000000",
         "35.47310344827586210000"
        ],
        [
         "3100122",
         "215608",
         "Liquidity Ratio",
         "2013-12-31T00:00:00.000+0000",
         "35.4700000000000000",
         "35.47310344827586210000"
        ],
        [
         "3100122",
         "215608",
         "Liquidity Ratio",
         "2016-12-31T00:00:00.000+0000",
         "35.3100000000000000",
         "35.47310344827586210000"
        ],
        [
         "3100122",
         "215608",
         "Liquidity Ratio",
         "2017-03-31T00:00:00.000+0000",
         "36.3200000000000000",
         "35.47310344827586210000"
        ],
        [
         "3100122",
         "215608",
         "Liquidity Ratio",
         "2019-06-30T00:00:00.000+0000",
         "35.1800000000000000",
         "35.47310344827586210000"
        ],
        [
         "3100122",
         "215608",
         "Liquidity Ratio",
         "2021-09-30T00:00:00.000+0000",
         "45.6000000000000000",
         "35.47310344827586210000"
        ],
        [
         "3100122",
         "215608",
         "Liquidity Ratio",
         "2021-12-31T00:00:00.000+0000",
         "44.8200000000000000",
         "35.47310344827586210000"
        ],
        [
         "3100122",
         "215608",
         "Liquidity Ratio",
         "2014-03-31T00:00:00.000+0000",
         "36.0100000000000000",
         "35.47310344827586210000"
        ],
        [
         "3100122",
         "215608",
         "Liquidity Ratio",
         "2016-06-30T00:00:00.000+0000",
         "34.8400000000000000",
         "35.47310344827586210000"
        ],
        [
         "3100122",
         "215608",
         "Liquidity Ratio",
         "2016-09-30T00:00:00.000+0000",
         "35.4600000000000000",
         "35.47310344827586210000"
        ],
        [
         "3100122",
         "215608",
         "Liquidity Ratio",
         "2020-03-31T00:00:00.000+0000",
         "37.2600000000000000",
         "35.47310344827586210000"
        ],
        [
         "3100122",
         "215608",
         "Liquidity Ratio",
         "2020-06-30T00:00:00.000+0000",
         "40.4300000000000000",
         "35.47310344827586210000"
        ],
        [
         "3100122",
         "215608",
         "Liquidity Ratio",
         "2021-06-30T00:00:00.000+0000",
         "44.9800000000000000",
         "35.47310344827586210000"
        ],
        [
         "3100122",
         "215608",
         "Liquidity Ratio",
         "2014-06-30T00:00:00.000+0000",
         "36.0500000000000000",
         "35.47310344827586210000"
        ],
        [
         "3100122",
         "215608",
         "Liquidity Ratio",
         "2018-03-31T00:00:00.000+0000",
         "36.0500000000000000",
         "35.47310344827586210000"
        ],
        [
         "3100122",
         "215608",
         "Liquidity Ratio",
         "2018-06-30T00:00:00.000+0000",
         "35.4400000000000000",
         "35.47310344827586210000"
        ],
        [
         "3100122",
         "215608",
         "Liquidity Ratio",
         "2020-09-30T00:00:00.000+0000",
         "41.1600000000000000",
         "35.47310344827586210000"
        ],
        [
         "3100122",
         "215608",
         "Liquidity Ratio",
         "2022-12-31T00:00:00.000+0000",
         "38.0300000000000000",
         "35.47310344827586210000"
        ],
        [
         "3100122",
         "215608",
         "Liquidity Ratio",
         "2015-03-31T00:00:00.000+0000",
         "36.8100000000000000",
         "35.47310344827586210000"
        ],
        [
         "3100122",
         "215608",
         "Liquidity Ratio",
         "2017-06-30T00:00:00.000+0000",
         "35.6500000000000000",
         "35.47310344827586210000"
        ],
        [
         "3100122",
         "215608",
         "Liquidity Ratio",
         "2019-12-31T00:00:00.000+0000",
         "35.3800000000000000",
         "35.47310344827586210000"
        ],
        [
         "3100122",
         "215608",
         "Liquidity Ratio",
         "2023-03-31T00:00:00.000+0000",
         "36.5400000000000000",
         "35.47310344827586210000"
        ],
        [
         "3100122",
         "215608",
         "Liquidity Ratio",
         "2015-06-30T00:00:00.000+0000",
         "34.8600000000000000",
         "35.47310344827586210000"
        ],
        [
         "3100122",
         "215608",
         "Liquidity Ratio",
         "2015-12-31T00:00:00.000+0000",
         "34.2700000000000000",
         "35.47310344827586210000"
        ],
        [
         "3100122",
         "215608",
         "Liquidity Ratio",
         "2016-03-31T00:00:00.000+0000",
         "35.2000000000000000",
         "35.47310344827586210000"
        ],
        [
         "3100122",
         "215608",
         "Liquidity Ratio",
         "2019-09-30T00:00:00.000+0000",
         "35.4500000000000000",
         "35.47310344827586210000"
        ],
        [
         "3100122",
         "215608",
         "Liquidity Ratio",
         "2023-12-31T00:00:00.000+0000",
         "33.8000000000000000",
         "35.47310344827586210000"
        ],
        [
         "3100122",
         "215608",
         "Liquidity Ratio",
         "2014-09-30T00:00:00.000+0000",
         "36.3500000000000000",
         "35.47310344827586210000"
        ],
        [
         "3100122",
         "215608",
         "Liquidity Ratio",
         "2014-12-31T00:00:00.000+0000",
         "36.1300000000000000",
         "35.47310344827586210000"
        ],
        [
         "3100122",
         "215608",
         "Liquidity Ratio",
         "2017-09-30T00:00:00.000+0000",
         "35.9800000000000000",
         "35.47310344827586210000"
        ],
        [
         "3100122",
         "215608",
         "Liquidity Ratio",
         "2017-12-31T00:00:00.000+0000",
         "35.6000000000000000",
         "35.47310344827586210000"
        ],
        [
         "3100122",
         "215608",
         "Liquidity Ratio",
         "2018-12-31T00:00:00.000+0000",
         "35.1600000000000000",
         "35.47310344827586210000"
        ],
        [
         "3100122",
         "215608",
         "Liquidity Ratio",
         "2019-03-31T00:00:00.000+0000",
         "35.4900000000000000",
         "35.47310344827586210000"
        ],
        [
         "3100122",
         "215608",
         "Liquidity Ratio",
         "2022-03-31T00:00:00.000+0000",
         "44.0600000000000000",
         "35.47310344827586210000"
        ],
        [
         "3100122",
         "215608",
         "Liquidity Ratio",
         "2013-03-31T00:00:00.000+0000",
         "35.3100000000000000",
         "35.47310344827586210000"
        ],
        [
         "3100122",
         "215608",
         "Liquidity Ratio",
         "2013-06-30T00:00:00.000+0000",
         "34.5100000000000000",
         "35.47310344827586210000"
        ]
       ],
       "datasetInfos": [],
       "dbfsResultPath": null,
       "isJsonSchema": true,
       "metadata": {},
       "overflow": false,
       "plotOptions": {
        "customPlotOptions": {},
        "displayType": "table",
        "pivotAggregation": null,
        "pivotColumns": null,
        "xColumns": null,
        "yColumns": null
       },
       "removedWidgets": [],
       "schema": [
        {
         "metadata": "{}",
         "name": "INSTITUTIONID",
         "type": "\"decimal(10,0)\""
        },
        {
         "metadata": "{}",
         "name": "DATAITEMID",
         "type": "\"decimal(10,0)\""
        },
        {
         "metadata": "{}",
         "name": "DATAITEMNAME",
         "type": "\"string\""
        },
        {
         "metadata": "{}",
         "name": "PERIODENDDATE",
         "type": "\"timestamp\""
        },
        {
         "metadata": "{}",
         "name": "DATAITEMVALUE",
         "type": "\"decimal(38,16)\""
        },
        {
         "metadata": "{}",
         "name": "pre_pandemic_avg",
         "type": "\"decimal(22,20)\""
        }
       ],
       "type": "table"
      }
     },
     "output_type": "display_data"
    },
    {
     "output_type": "display_data",
     "data": {
      "text/plain": [
       "Databricks visualization. Run in Databricks to view."
      ]
     },
     "metadata": {
      "application/vnd.databricks.v1.subcommand+json": {
       "baseErrorDetails": null,
       "bindings": {},
       "collapsed": false,
       "command": "%python\n__backend_agg_display_orig = display\n__backend_agg_dfs = []\ndef __backend_agg_display_new(df):\n    __backend_agg_df_modules = [\"pandas.core.frame\", \"databricks.koalas.frame\", \"pyspark.sql.dataframe\", \"pyspark.pandas.frame\", \"pyspark.sql.connect.dataframe\"]\n    if (type(df).__module__ in __backend_agg_df_modules and type(df).__name__ == 'DataFrame') or isinstance(df, list):\n        __backend_agg_dfs.append(df)\n\ndisplay = __backend_agg_display_new\n\ndef __backend_agg_user_code_fn():\n    import base64\n    exec(base64.standard_b64decode(\"bHIgPSBnZXRfZGF0YSgyMTU2MDgsMzEwMDEyMiwnMjAxMi0xMi0zMScsJzIwMjMtMTItMzEnLDIpCiMgcHJlLXBhbmRlbWljIGF2ZXJhZ2UKcHBhX2F2ZyA9IGxyLnNvcnQoIlBFUklPREVORERBVEUiKS5maWx0ZXIobHIuUEVSSU9ERU5EREFURSA8ICcyMDIwLTAzLTMxJykuYWdnKHsiREFUQUlURU1WQUxVRSI6ImF2ZyJ9KS5jb2xsZWN0KClbMF1bMF0KbHIgPSBsci53aXRoQ29sdW1uKCJwcmVfcGFuZGVtaWNfYXZnIixsaXQocHBhX2F2ZykpCmRpc3BsYXkobHIp\").decode())\n\ntry:\n    # run user code\n    __backend_agg_user_code_fn()\n\n    #reset display function\n    display = __backend_agg_display_orig\n\n    if len(__backend_agg_dfs) > 0:\n        # create a temp view\n        if type(__backend_agg_dfs[0]).__module__ == \"databricks.koalas.frame\":\n            # koalas dataframe\n            __backend_agg_dfs[0].to_spark().createOrReplaceTempView(\"DatabricksView7494a71\")\n        elif type(__backend_agg_dfs[0]).__module__ == \"pandas.core.frame\" or isinstance(__backend_agg_dfs[0], list):\n            # pandas dataframe\n            spark.createDataFrame(__backend_agg_dfs[0]).createOrReplaceTempView(\"DatabricksView7494a71\")\n        else:\n            __backend_agg_dfs[0].createOrReplaceTempView(\"DatabricksView7494a71\")\n        #run backend agg\n        display(spark.sql(\"\"\"WITH q AS (select * from DatabricksView7494a71) SELECT `PERIODENDDATE`,SUM(`DATAITEMVALUE`) `column_69d5d4dc15`,SUM(`pre_pandemic_avg`) `column_69d5d4dc18` FROM q GROUP BY `PERIODENDDATE`\"\"\"))\n    else:\n        displayHTML(\"dataframe no longer exists. If you're using dataframe.display(), use display(dataframe) instead.\")\n\n\nfinally:\n    spark.sql(\"drop view if exists DatabricksView7494a71\")\n    display = __backend_agg_display_orig\n    del __backend_agg_display_new\n    del __backend_agg_display_orig\n    del __backend_agg_dfs\n    del __backend_agg_user_code_fn\n\n",
       "commandTitle": "Visualization 1",
       "commandType": "auto",
       "commandVersion": 0,
       "commentThread": [],
       "commentsVisible": false,
       "contentSha256Hex": null,
       "customPlotOptions": {
        "redashChart": [
         {
          "key": "type",
          "value": "CHART"
         },
         {
          "key": "options",
          "value": {
           "alignYAxesAtZero": true,
           "coefficient": 1,
           "columnConfigurationMap": {
            "x": {
             "column": "PERIODENDDATE",
             "id": "column_69d5d4dc12"
            },
            "y": [
             {
              "column": "DATAITEMVALUE",
              "id": "column_69d5d4dc15",
              "transform": "SUM"
             },
             {
              "column": "pre_pandemic_avg",
              "id": "column_69d5d4dc18",
              "transform": "SUM"
             }
            ]
           },
           "dateTimeFormat": "DD/MM/YYYY HH:mm",
           "direction": {
            "type": "counterclockwise"
           },
           "error_y": {
            "type": "data",
            "visible": true
           },
           "globalSeriesType": "line",
           "isAggregationOn": true,
           "legend": {
            "traceorder": "normal"
           },
           "missingValuesAsZero": true,
           "numberFormat": "0,0.[00000]",
           "percentFormat": "0[.]00%",
           "series": {
            "error_y": {
             "type": "data",
             "visible": true
            },
            "stacking": null
           },
           "seriesOptions": {
            "column_69d5d4dc15": {
             "name": "Liquidity ratio (%)",
             "type": "line",
             "yAxis": 0
            },
            "column_69d5d4dc18": {
             "name": "Pre-pandemic average liquidity ratio (%)",
             "type": "line",
             "yAxis": 0
            }
           },
           "showDataLabels": false,
           "sizemode": "diameter",
           "sortX": true,
           "sortY": true,
           "swappedAxes": false,
           "textFormat": "",
           "useAggregationsUi": true,
           "valuesOptions": {},
           "version": 2,
           "xAxis": {
            "labels": {
             "enabled": true
            },
            "title": {
             "text": "Quarter"
            },
            "type": "-"
           },
           "yAxis": [
            {
             "title": {
              "text": "Liquidity ratio (%)"
             },
             "type": "-"
            },
            {
             "opposite": true,
             "type": "-"
            }
           ]
          }
         }
        ]
       },
       "datasetPreviewNameToCmdIdMap": {},
       "diffDeletes": [],
       "diffInserts": [],
       "displayType": "redashChart",
       "error": null,
       "errorDetails": null,
       "errorSummary": null,
       "errorTraceType": null,
       "finishTime": 0,
       "globalVars": {},
       "guid": "",
       "height": "auto",
       "hideCommandCode": false,
       "hideCommandResult": false,
       "iPythonMetadata": null,
       "inputWidgets": {},
       "isLockedInExamMode": false,
       "latestUser": "a user",
       "latestUserId": null,
       "listResultMetadata": null,
       "metadata": {
        "byteLimit": 2048000,
        "rowLimit": 10000
       },
       "nuid": "2510b274-c73d-43a0-a24c-6605458f4410",
       "origId": 0,
       "parentHierarchy": [],
       "pivotAggregation": null,
       "pivotColumns": null,
       "position": 6.502174735069275,
       "resultDbfsErrorMessage": null,
       "resultDbfsStatus": "INLINED_IN_TREE",
       "results": null,
       "showCommandTitle": false,
       "startTime": 0,
       "state": "finished",
       "streamStates": {},
       "subcommandOptions": {
        "queryPlan": {
         "groups": [
          {
           "column": "PERIODENDDATE",
           "type": "column"
          }
         ],
         "selects": [
          {
           "column": "PERIODENDDATE",
           "type": "column"
          },
          {
           "alias": "column_69d5d4dc15",
           "args": [
            {
             "column": "DATAITEMVALUE",
             "type": "column"
            }
           ],
           "function": "SUM",
           "type": "function"
          },
          {
           "alias": "column_69d5d4dc18",
           "args": [
            {
             "column": "pre_pandemic_avg",
             "type": "column"
            }
           ],
           "function": "SUM",
           "type": "function"
          }
         ]
        }
       },
       "submitTime": 0,
       "subtype": "tableResultSubCmd.visualization",
       "tableResultIndex": 0,
       "useConsistentColors": false,
       "version": "CommandV1",
       "width": "auto",
       "workflows": [],
       "xColumns": null,
       "yColumns": null
      }
     },
     "output_type": "display_data"
    }
   ],
   "source": [
    "lr = get_data(215608,3100122,'2012-12-31','2023-12-31',2)\n",
    "# pre-pandemic average\n",
    "ppa_avg = lr.sort(\"PERIODENDDATE\").filter(lr.PERIODENDDATE < '2020-03-31').agg({\"DATAITEMVALUE\":\"avg\"}).collect()[0][0]\n",
    "lr = lr.withColumn(\"pre_pandemic_avg\",lit(ppa_avg))\n",
    "display(lr)"
   ]
  },
  {
   "cell_type": "markdown",
   "metadata": {
    "application/vnd.databricks.v1+cell": {
     "cellMetadata": {
      "byteLimit": 2048000,
      "rowLimit": 10000
     },
     "inputWidgets": {},
     "nuid": "47aa030b-f8db-403c-bbfd-a0aa4a2827ef",
     "showTitle": false,
     "title": ""
    }
   },
   "source": [
    "### Deconstructing the liquidity ratio  \n",
    "Liquidity Ratio: (Cash&Balances Due+Securities+Fed Funds Sold&Repos+Trading Account Assets-Pledged Securities)/ Total Liabilities "
   ]
  },
  {
   "cell_type": "code",
   "execution_count": 0,
   "metadata": {
    "application/vnd.databricks.v1+cell": {
     "cellMetadata": {
      "byteLimit": 2048000,
      "rowLimit": 10000
     },
     "inputWidgets": {},
     "nuid": "4f4ee8e0-14db-499b-bd80-4731975bfac1",
     "showTitle": false,
     "title": ""
    }
   },
   "outputs": [
    {
     "output_type": "display_data",
     "data": {
      "text/plain": [
       ""
      ]
     },
     "metadata": {
      "application/vnd.databricks.v1+output": {
       "arguments": {},
       "data": "",
       "errorSummary": "Command skipped",
       "errorTraceType": "ansi",
       "metadata": {},
       "type": "ipynbError"
      }
     },
     "output_type": "display_data"
    }
   ],
   "source": [
    "# liquid assets\n",
    "# Total Cash & Bals Due Dep Inst, 215361\n",
    "total_cash = get_data(215361,3100122,'2012-12-31','2023-12-31',2)\n",
    "plot_add_decomp(total_cash)"
   ]
  },
  {
   "cell_type": "code",
   "execution_count": 0,
   "metadata": {
    "application/vnd.databricks.v1+cell": {
     "cellMetadata": {
      "byteLimit": 2048000,
      "rowLimit": 10000
     },
     "inputWidgets": {},
     "nuid": "9e98eea4-f074-4da8-9cb2-efa0229c0330",
     "showTitle": false,
     "title": ""
    }
   },
   "outputs": [
    {
     "output_type": "display_data",
     "data": {
      "text/plain": [
       ""
      ]
     },
     "metadata": {
      "application/vnd.databricks.v1+output": {
       "arguments": {},
       "data": "",
       "errorSummary": "Command skipped",
       "errorTraceType": "ansi",
       "metadata": {},
       "type": "ipynbError"
      }
     },
     "output_type": "display_data"
    }
   ],
   "source": [
    "# securities, 215736\n",
    "total_sec = get_data(215736,3100122,'2012-12-31','2023-12-31',2)\n",
    "plot_add_decomp(total_sec)"
   ]
  },
  {
   "cell_type": "code",
   "execution_count": 0,
   "metadata": {
    "application/vnd.databricks.v1+cell": {
     "cellMetadata": {
      "byteLimit": 2048000,
      "rowLimit": 10000
     },
     "inputWidgets": {},
     "nuid": "180918b0-4083-4c20-832a-4234fc39fab8",
     "showTitle": false,
     "title": ""
    }
   },
   "outputs": [
    {
     "output_type": "display_data",
     "data": {
      "text/plain": [
       ""
      ]
     },
     "metadata": {
      "application/vnd.databricks.v1+output": {
       "arguments": {},
       "data": "",
       "errorSummary": "Command skipped",
       "errorTraceType": "ansi",
       "metadata": {},
       "type": "ipynbError"
      }
     },
     "output_type": "display_data"
    }
   ],
   "source": [
    "#Tot Fed Funds & Reverse Repos\t215362\n",
    "fed_funds = get_data(215362,3100122,'2012-12-31','2023-12-31',2)\n",
    "plot_add_decomp(fed_funds)"
   ]
  },
  {
   "cell_type": "code",
   "execution_count": 0,
   "metadata": {
    "application/vnd.databricks.v1+cell": {
     "cellMetadata": {
      "byteLimit": 2048000,
      "rowLimit": 10000
     },
     "inputWidgets": {},
     "nuid": "85f184ab-ac0d-4d5b-a777-a847cacc582e",
     "showTitle": false,
     "title": ""
    }
   },
   "outputs": [
    {
     "output_type": "display_data",
     "data": {
      "text/plain": [
       ""
      ]
     },
     "metadata": {
      "application/vnd.databricks.v1+output": {
       "arguments": {},
       "data": "",
       "errorSummary": "Command skipped",
       "errorTraceType": "ansi",
       "metadata": {},
       "type": "ipynbError"
      }
     },
     "output_type": "display_data"
    }
   ],
   "source": [
    "# total trading assets, 215374\n",
    "trading_acct_assets = get_data(215374,3100122,'2012-12-31','2023-12-31',2)\n",
    "plot_add_decomp(trading_acct_assets)"
   ]
  },
  {
   "cell_type": "code",
   "execution_count": 0,
   "metadata": {
    "application/vnd.databricks.v1+cell": {
     "cellMetadata": {
      "byteLimit": 2048000,
      "implicitDf": true,
      "rowLimit": 10000
     },
     "inputWidgets": {},
     "nuid": "31c26a45-28fe-49e1-a1ea-bdad7a0b339f",
     "showTitle": false,
     "title": ""
    }
   },
   "outputs": [
    {
     "output_type": "display_data",
     "data": {
      "text/plain": [
       ""
      ]
     },
     "metadata": {
      "application/vnd.databricks.v1+output": {
       "arguments": {},
       "data": "",
       "errorSummary": "Command skipped",
       "errorTraceType": "ansi",
       "metadata": {},
       "type": "ipynbError"
      }
     },
     "output_type": "display_data"
    }
   ],
   "source": [
    "%sql use snldepositoryrates;\n",
    "select *\n",
    "from "
   ]
  },
  {
   "cell_type": "markdown",
   "metadata": {
    "application/vnd.databricks.v1+cell": {
     "cellMetadata": {
      "byteLimit": 2048000,
      "rowLimit": 10000
     },
     "inputWidgets": {},
     "nuid": "3b9131d7-8cd1-47f3-b0a3-96e351a35239",
     "showTitle": false,
     "title": ""
    }
   },
   "source": [
    "### Gap between Fed Funds rate and cost of deposits  "
   ]
  },
  {
   "cell_type": "code",
   "execution_count": 0,
   "metadata": {
    "application/vnd.databricks.v1+cell": {
     "cellMetadata": {
      "byteLimit": 2048000,
      "rowLimit": 10000
     },
     "inputWidgets": {},
     "nuid": "60b357a8-9066-46c4-bb22-d17038af5f5a",
     "showTitle": false,
     "title": ""
    }
   },
   "outputs": [
    {
     "output_type": "display_data",
     "data": {
      "text/plain": [
       ""
      ]
     },
     "metadata": {
      "application/vnd.databricks.v1+output": {
       "arguments": {},
       "data": "",
       "errorSummary": "Command skipped",
       "errorTraceType": "ansi",
       "metadata": {},
       "type": "ipynbError"
      }
     },
     "output_type": "display_data"
    }
   ],
   "source": [
    "start_date = '2016-01-01'\n",
    "end_date = '2023-12-31'"
   ]
  },
  {
   "cell_type": "code",
   "execution_count": 0,
   "metadata": {
    "application/vnd.databricks.v1+cell": {
     "cellMetadata": {
      "byteLimit": 2048000,
      "rowLimit": 10000
     },
     "inputWidgets": {},
     "nuid": "5a60bac0-46b4-46bb-a784-82df179c48ff",
     "showTitle": false,
     "title": ""
    }
   },
   "outputs": [
    {
     "output_type": "display_data",
     "data": {
      "text/plain": [
       ""
      ]
     },
     "metadata": {
      "application/vnd.databricks.v1+output": {
       "arguments": {},
       "data": "",
       "errorSummary": "Command skipped",
       "errorTraceType": "ansi",
       "metadata": {},
       "type": "ipynbError"
      }
     },
     "output_type": "display_data"
    }
   ],
   "source": [
    "# Calculate average effective Fed Funds rate by quarter\n",
    "effr = get_effr_monthly(start_date,end_date)\n",
    "# add quarter and year columns\n",
    "effr = effr.withColumn(\"Quarter\",quarter('ASOF'))\n",
    "effr = effr.withColumn(\"Year\",year('ASOF'))\n",
    "# get average by quarter\n",
    "effr = effr.groupBy(['Quarter','Year']).agg({'avg_effr_pct': 'mean'}).orderBy([\"Year\",\"Quarter\"]).withColumnRenamed(\"avg(avg_effr_pct)\",\"avg_fed_funds\")\n",
    "effr = effr.withColumn(\"Quarter\",concat(lit(\"Q\"),\"Quarter\",lit(\"'\"),substring(\"Year\",3,2))).select(\"Quarter\",round(\"avg_fed_funds\",2))\n",
    "# interest expense\n",
    "ie = get_data(215412,3100122,start_date,end_date,2)\n",
    "field_name1 = ie.select(\"DATAITEMNAME\").collect()[0][0]\n",
    "ie = ie.withColumnRenamed(\"DATAITEMVALUE\",field_name1).drop(\"DATAITEMNAME\").sort(\"PERIODENDDATE\")\n",
    "# total deposits\n",
    "td_start = str(int(start_date[:4]) - 1) + \"-\" + end_date[5:]\n",
    "td = get_data(206127,3100122,td_start,end_date,2)\n",
    "# add lag column to compute averages\n",
    "end_date = Window.orderBy(\"PERIODENDDATE\")\n",
    "td = td.withColumn(\"prior_value\",lag(td[\"DATAITEMVALUE\"],1).over(end_date))\n",
    "td = td.withColumn(\"avg_deposits\",(td[\"DATAITEMVALUE\"] + td[\"prior_value\"]) / 2)\n",
    "td = td.filter(td[\"avg_deposits\"].isNotNull()).select(td.PERIODENDDATE,td.avg_deposits)\n",
    "combo = td.join(ie,[\"PERIODENDDATE\"],'inner')\n",
    "# annualize interest expense and divide by average deposits\n",
    "combo = combo.withColumn(\"cost_of_deposits\",((combo[\"Int Exp: Total Deposits\"] * 4) / combo.avg_deposits) * 100).select(\"PERIODENDDATE\",\"cost_of_deposits\").sort(\"PERIODENDDATE\")\n",
    "combo_q = add_quarter_labels(combo,'PERIODENDDATE')\n",
    "combo_q = combo_q.join(effr,['Quarter'],'inner').withColumnRenamed(\"round(avg_fed_funds, 2)\",\"avg_fed_funds\")\n",
    "combo_q = combo_q.withColumn(\"gap\",combo_q.avg_fed_funds - combo_q.cost_of_deposits)\n",
    "combo_q = combo_q.sort(\"PERIODENDDATE\").select(\"Quarter\",\"gap\",\"cost_of_deposits\",\"avg_fed_funds\")\n",
    "display(combo_q)"
   ]
  },
  {
   "cell_type": "code",
   "execution_count": 0,
   "metadata": {
    "application/vnd.databricks.v1+cell": {
     "cellMetadata": {
      "byteLimit": 2048000,
      "rowLimit": 10000
     },
     "inputWidgets": {},
     "nuid": "2994c8c2-60f7-4b3b-8445-53f65c4cd676",
     "showTitle": false,
     "title": ""
    }
   },
   "outputs": [
    {
     "output_type": "display_data",
     "data": {
      "text/plain": [
       ""
      ]
     },
     "metadata": {
      "application/vnd.databricks.v1+output": {
       "arguments": {},
       "data": "",
       "errorSummary": "Command skipped",
       "errorTraceType": "ansi",
       "metadata": {},
       "type": "ipynbError"
      }
     },
     "output_type": "display_data"
    }
   ],
   "source": [
    "#https://builtin.com/data-science/time-series-python\n",
    "#sns.lineplot(cash_pd.index,cash_pd['Cash and equivalents ($T)'])\n",
    "#https://www.kaggle.com/code/chanakyavivekkapoor/decomposing-time-series-data  \n",
    "#https://www.statsmodels.org/dev/generated/statsmodels.tsa.seasonal.seasonal_decompose.html\n",
    "# 014585329 matches FRED's https://fred.stlouisfed.org/series/FEDFUNDS\n",
    "# average the monthly values to get other periods, like quarterly\n",
    "# Comparison\n",
    "#https://www.capitaliq.spglobal.com/apisv3/spg-webplatform-core/news/article?id=78295219\n",
    "#https://www.capitaliq.spglobal.com/apisv3/spg-webplatform-core/news/article?id=79704760\n",
    "# HVCRE\n",
    "#https://www.capitaliq.spglobal.com/apisv3/spg-webplatform-core/news/article?id=80614340&KeyProductLinkType=58&redirected=1\n",
    "#215464 is cost of interest-bearing deposits, but it doesn't use average deposits"
   ]
  },
  {
   "cell_type": "markdown",
   "metadata": {
    "application/vnd.databricks.v1+cell": {
     "cellMetadata": {
      "byteLimit": 2048000,
      "rowLimit": 10000
     },
     "inputWidgets": {},
     "nuid": "0c02b700-663a-4714-b613-1ecda170ef3c",
     "showTitle": false,
     "title": ""
    }
   },
   "source": [
    "Liquidity coverage:    \n",
    "246762 Liquidity Coverage Ratio  \n",
    "260757 High Quality Liquid Assets  \n",
    "260758 Net Cash Outflows  \n",
    "260799 Liquidity Coverage Ratio, As Reported  "
   ]
  },
  {
   "cell_type": "markdown",
   "metadata": {
    "application/vnd.databricks.v1+cell": {
     "cellMetadata": {
      "byteLimit": 2048000,
      "rowLimit": 10000
     },
     "inputWidgets": {},
     "nuid": "16900b7c-b8e8-46ac-8f01-050aa1f1fcce",
     "showTitle": false,
     "title": ""
    }
   },
   "source": [
    "### 4. Keyfield definitions"
   ]
  },
  {
   "cell_type": "markdown",
   "metadata": {
    "application/vnd.databricks.v1+cell": {
     "cellMetadata": {
      "byteLimit": 2048000,
      "rowLimit": 10000
     },
     "inputWidgets": {},
     "nuid": "524fe95d-a731-40e2-a22a-381aff90a752",
     "showTitle": false,
     "title": ""
    }
   },
   "source": [
    "[KeyField:207555, UNINSURED_DEP_BKS_EST]  \n",
    "RCON5597 (002), RCON5597 (031), RCON5597 (041), RCON5597 (051)  \n",
    "The estimated value of the bank's deposits (in domestic offices and in insured branches in Puerto Rico and U.S. territories and possessions) that is not covered by federal deposit insurance.(Call Report Line Item: RCON5597)\n",
    "\n",
    "[KeyField:215825, TOTAL_LOAN_LEASES_INCL_HFS]  \n",
    "RCFD2122 (002), RCFD2122 (031), RCON2122 (041), RCON2122 (051), Acct_RB0079 (5300), BHCK2122 (Y9C)  \n",
    "Total of loans and lease financing receivables, held for investment & held for sale. Includes loans secured by real estate; loans to depository institutions; loans to finance agricultural production and other loans to farmers; commercial and industrial loans; acceptances of other banks (both U.S. and Non U.S.); loans to individuals for household, family, and other personal expenditures; loans to Non U.S. governments and official institutions; obligations of states and political subdivisions in the U.S.; other loans (e.g., for purchasing or carrying securities, and not including consumer loans); lease financing receivables (held for investment & held for sale); and less any unearned income on loans reflected in items above. Consolidated Banks only (Call Report Line Item: RCFD2122/RCON2122/RCON2122)  \n",
    "[Common Reg Financials] / [Loans and Leases] / [Total Loans & Leases (Incl HFI & HFS)]  \n",
    "\n",
    "[KeyField:215363, REG_CASH_EQUIV]  \n",
    "Total balances due from depository institutions; plus fed funds sold and securities purchased under agreements to resell  \n",
    "[Common Reg Financials] / [Balance Sheet] / [Cash & Equivalents]  \n",
    "\n",
    "[KeyField:215736, REG_TOTAL_SECS]  \n",
    "Total book value of all securities. Includes U.S. Treasury securities, U.S. government agency and corporation obligations, securities issued by states and political subdivisions in the U.S., mortgaged-backed securities, other U.S. and non-U.S. debt securities, and all equity securities.  \n",
    "[Bank Reg Financials Summary] / [Summary Balance Sheet] / [Total Securities]  \n",
    "\n",
    "[KeyField:216842, TOTAL_BORROW]\n",
    "Fed Funds Purchased and Repurchase Agreements + Advances from FHLB (where applicable) + Commercial Paper (where applicable) + Total Subordinated Debt and Mandatory Convertible Securities + Trading liabilities + Other Borrowings\n",
    "[Bank Reg Financials Summary] / [Miscellaneous Data] / [Total Borrowings]  \n",
    "\n",
    "[KeyField:215825, TOTAL_LOAN_LEASES_INCL_HFS]\n",
    "RCFD2122 (002), RCFD2122 (031), RCON2122 (041), RCON2122 (051), Acct_RB0079 (5300), BHCK2122 (Y9C)\n",
    "Total of loans and lease financing receivables, held for investment & held for sale. Includes loans secured by real estate; loans to depository institutions; loans to finance agricultural production and other loans to farmers; commercial and industrial loans; acceptances of other banks (both U.S. and Non U.S.); loans to individuals for household, family, and other personal expenditures; loans to Non U.S. governments and official institutions; obligations of states and political subdivisions in the U.S.; other loans (e.g., for purchasing or carrying securities, and not including consumer loans); lease financing receivables (held for investment & held for sale); and less any unearned income on loans reflected in items above. Consolidated Banks only (Call Report Line Item: RCFD2122/RCON2122/RCON2122)\n",
    "[Bank Reg Financials Summary] / [Financial Highlights] / [Total Loans & Leases (Incl HFI & HFS)]  \n",
    "\n",
    "[KeyField:215608, REG_LIQUIDITY_RATIO]\n",
    "Liquidity Ratio: (Cash&Balances Due+Securities+Fed Funds Sold&Repos+Trading Account Assets-Pledged Securities)/ Total Liabilities\n",
    "[Bank Reg Financials Summary] / [Financial Highlights] / [Liquidity Ratio]\n",
    "\n",
    "Total assets: 206118  "
   ]
  },
  {
   "cell_type": "markdown",
   "metadata": {
    "application/vnd.databricks.v1+cell": {
     "cellMetadata": {
      "byteLimit": 2048000,
      "rowLimit": 10000
     },
     "inputWidgets": {},
     "nuid": "adfda00f-1d34-4230-827e-28f97c1e06e4",
     "showTitle": false,
     "title": ""
    }
   },
   "source": [
    "### Footnotes  \n",
    "Analysis includes operating and historical US commercial banks, savings banks, and savings and loan associations that reported estimated uninsured deposits in quarterly regulatory filings.  \n",
    "Uninsured deposits are the bank's estimated value of deposits held in domestic US offices not covered by federal deposit insurance. Only banks with more than $1 billion in consolidated assets are required to report this field; however, some other institutions may also report.  \n",
    "Data from call reports may include internal company deposits, collateralized deposits backed by pledged securities, as well as other deposits structured to qualify for insurance or other collateralization, and may be higher, sometimes significantly so, from GAAP filings at the parent-company level.  \n",
    "Total deposits are calculated as total deposit liabilities before exclusions minus total allowable exclusions as reported in Schedule RC-O in in call report filings at the subsidiary level.  \n",
    "Data based on regulatory call report filings.  "
   ]
  },
  {
   "cell_type": "markdown",
   "metadata": {
    "application/vnd.databricks.v1+cell": {
     "cellMetadata": {
      "byteLimit": 2048000,
      "rowLimit": 10000
     },
     "inputWidgets": {},
     "nuid": "070e2d4b-ca99-4fa0-92db-3d71815393a9",
     "showTitle": false,
     "title": ""
    }
   },
   "source": [
    "OLD STUFF"
   ]
  },
  {
   "cell_type": "code",
   "execution_count": 0,
   "metadata": {
    "application/vnd.databricks.v1+cell": {
     "cellMetadata": {
      "byteLimit": 2048000,
      "rowLimit": 10000
     },
     "inputWidgets": {},
     "nuid": "be61550c-de05-444f-85d5-c39a27617847",
     "showTitle": false,
     "title": ""
    }
   },
   "outputs": [
    {
     "output_type": "display_data",
     "data": {
      "text/plain": [
       ""
      ]
     },
     "metadata": {
      "application/vnd.databricks.v1+output": {
       "arguments": {},
       "data": "",
       "errorSummary": "Command skipped",
       "errorTraceType": "ansi",
       "metadata": {},
       "type": "ipynbError"
      }
     },
     "output_type": "display_data"
    }
   ],
   "source": [
    "  # convert keyinstns to lists of strings\n",
    "  #if type(keyfields) == list:\n",
    "    #keyfields = \",\".join([str(kf) for kf in keyfields])\n",
    "  #if type(keyinstns) ==  list:\n",
    "    #keyinstns = \",\".join([str(ki) for ki in keyinstns])\n",
    "\n",
    "  #field_name = \"Change in \" + df.select(\"DATAITEMNAME\").collect()[0][0] + \"(%)\"\n",
    "  #df = df.withColumn(field_name,((df[\"DATAITEMVALUE\"] / df[\"prior_value\"])-1)*100)"
   ]
  },
  {
   "cell_type": "code",
   "execution_count": 0,
   "metadata": {
    "application/vnd.databricks.v1+cell": {
     "cellMetadata": {
      "byteLimit": 2048000,
      "rowLimit": 10000
     },
     "inputWidgets": {},
     "nuid": "556c5a80-2f52-4b29-8cc2-193f278ffb2b",
     "showTitle": false,
     "title": ""
    }
   },
   "outputs": [
    {
     "output_type": "display_data",
     "data": {
      "text/plain": [
       ""
      ]
     },
     "metadata": {
      "application/vnd.databricks.v1+output": {
       "arguments": {},
       "data": "",
       "errorSummary": "Command skipped",
       "errorTraceType": "ansi",
       "metadata": {},
       "type": "ipynbError"
      }
     },
     "output_type": "display_data"
    }
   ],
   "source": [
    "df1 = get_percentage_changes(loans_df)\n",
    "df1 = add_quarter_labels(df1).withColumnRenamed(\"percentage_change\",\"Total Loans and Leases\").drop(\"DATAITEMID\",\"DATAITEMNAME\",\"DATAITEMVALUE\").filter(df1[\"percentage_change\"].isNotNull())\n",
    "df2 = get_percentage_changes(cash_df)\n",
    "df2 = add_quarter_labels(df2).withColumnRenamed(\"percentage_change\",\"Cash and Equivalents\").drop(\"DATAITEMID\",\"DATAITEMNAME\",\"DATAITEMVALUE\").filter(df2[\"percentage_change\"].isNotNull())\n",
    "df3 = get_percentage_changes(sec_df)\n",
    "df3 = add_quarter_labels(df3).withColumnRenamed(\"percentage_change\",\"Total Securities\").drop(\"DATAITEMID\",\"DATAITEMNAME\",\"DATAITEMVALUE\").filter(df3[\"percentage_change\"].isNotNull())\n",
    "\n",
    "combo_df = df1.join(df2,df1.PERIODENDDATE == df2.PERIODENDDATE,'inner').drop(df2.PERIODENDDATE,df2.quarter)\n",
    "combo_df = combo_df.join(df3,combo_df.PERIODENDDATE == df3.PERIODENDDATE,'inner').drop(df3.PERIODENDDATE,df3.quarter).select(\"quarter\",\"Total Loans and Leases\",\"Total Securities\",\"Cash and Equivalents\")\n",
    "display(combo_df)"
   ]
  },
  {
   "cell_type": "code",
   "execution_count": 0,
   "metadata": {
    "application/vnd.databricks.v1+cell": {
     "cellMetadata": {
      "byteLimit": 2048000,
      "rowLimit": 10000
     },
     "inputWidgets": {},
     "nuid": "b1590e7e-04f7-401f-93dd-d870e727579e",
     "showTitle": false,
     "title": ""
    }
   },
   "outputs": [
    {
     "output_type": "display_data",
     "data": {
      "text/plain": [
       ""
      ]
     },
     "metadata": {
      "application/vnd.databricks.v1+output": {
       "arguments": {},
       "data": "",
       "errorSummary": "Command skipped",
       "errorTraceType": "ansi",
       "metadata": {},
       "type": "ipynbError"
      }
     },
     "output_type": "display_data"
    }
   ],
   "source": [
    "#df1 = get_percentage_changes(df1).withColumnRenamed(\"percentage_change\",field_name1)\n",
    "# create percentage changes table\n",
    "#df1 = df1.filter(df1[field_name1].isNotNull()).select(df1.PERIODENDDATE,df1[field_name1])\n",
    "\n",
    "  #df2 = get_percentage_changes(df2).withColumnRenamed(\"percentage_change\",field_name2)\n",
    "  #df2 = df2.filter(df2[field_name2].isNotNull()).select(df2.PERIODENDDATE,df2[field_name2])\n",
    "\n",
    "#def get_percentage_changes(df):\n",
    "  #end_date = Window.orderBy(\"PERIODENDDATE\")\n",
    "  #df = df.withColumn(\"prior_value\",lag(df['DATAITEMVALUE'],1).over(end_date))\n",
    "  #df = df.withColumn(\"percentage_change\",((df[\"DATAITEMVALUE\"] / df[\"prior_value\"])-1)*100)\n",
    "  #df = df.drop(\"prior_value\")\n",
    "  #return df\n",
    "\n",
    "# add quarter labels\n",
    "  #df = df.withColumn(\"PERIODENDDATE\",concat(lit(\"Q\"),ceil(month(df['PERIODENDDATE']) / 3),lit(\"'\"),substring(year(df['PERIODENDDATE']),3,2))).orderBy(df[\"PERIODENDDATE\"].asc()).withColumnRenamed(\"PERIODENDDATE\",\"Quarter\")\n",
    "\n",
    "  #df = df.withColumn(field_name,concat(lit(\"Q\"),ceil(month(df[field_name]) / 3),lit(\"'\"),substring(year(df[field_name]),3,2))).orderBy(df[field_name].asc()).withColumnRenamed(field_name,\"Quarter\")\n",
    "  \n",
    "  #df = df.withColumn(\"Quarter\",concat(lit(\"Q\"),ceil(month(df[field_name]) / 3),lit(\"'\"),substring(year(df[field_name]),3,2))).orderBy(df[field_name].asc())\n",
    "\n",
    "  # create initial dataframe using first keyfield\n",
    "#field_name = lr.select(\"DATAITEMNAME\").collect()[0][0]\n",
    "#lr = lr.withColumnRenamed(\"DATAITEMVALUE\",field_name).drop(\"DATAITEMNAME\")\n",
    "#display(lr)\n",
    "#display(ppa)\n",
    "#lr.count()"
   ]
  },
  {
   "cell_type": "code",
   "execution_count": 0,
   "metadata": {
    "application/vnd.databricks.v1+cell": {
     "cellMetadata": {
      "byteLimit": 2048000,
      "rowLimit": 10000
     },
     "inputWidgets": {},
     "nuid": "0fbc8217-c6c4-446f-8340-36f54669f730",
     "showTitle": false,
     "title": ""
    }
   },
   "outputs": [
    {
     "output_type": "display_data",
     "data": {
      "text/plain": [
       ""
      ]
     },
     "metadata": {
      "application/vnd.databricks.v1+output": {
       "arguments": {},
       "data": "",
       "errorSummary": "Command skipped",
       "errorTraceType": "ansi",
       "metadata": {},
       "type": "ipynbError"
      }
     },
     "output_type": "display_data"
    }
   ],
   "source": [
    "  sql1 = \"\"\"\n",
    "    select e.INSTITUTIONID,tn.DATAITEMID,i.DATAITEMNAME,sp.PERIODENDDATE,tn.DATAITEMVALUE\n",
    "    from snlRegEntity e\n",
    "    join snlRegStockPeriod sp on sp.INSTITUTIONID = e.INSTITUTIONID\n",
    "    join snlRegFlowPeriod fp on fp.REGSTOCKPERIODID = sp.REGSTOCKPERIODID\n",
    "    \"\"\"\n",
    "  \n",
    "  #if table_name == 'snlregflowperioddata':\n",
    "  sql2 = \"\"\"join {table_name} tn on tn.REGFLOWPERIODID = fp.REGFLOWPERIODID\"\"\"\n",
    "  #else:  \n",
    "  #sql2 = \"\"\"join {table_name} tn on tn.REGSTOCKPERIODID = sp.REGSTOCKPERIODID\"\"\"\n",
    "\n",
    "  sql3 = \"\"\"join snlCorp.snlDataItem i on i.DATAITEMID = tn.DATAITEMID\n",
    "    where e.INSTITUTIONID = {keyinstn}\n",
    "    and sp.ISCURRENT = 1\n",
    "    and sp.PERIODENDDATE BETWEEN '{start_date}' and '{end_date}'\n",
    "    and fp.PERIODTYPEID = {period_type}\n",
    "    and tn.DATAITEMID = {keyfield}\n",
    "    order by sp.PERIODENDDATE asc\"\"\"\n",
    "\n",
    "  print(sql1 + sql2 + sql3)"
   ]
  },
  {
   "cell_type": "code",
   "execution_count": 0,
   "metadata": {
    "application/vnd.databricks.v1+cell": {
     "cellMetadata": {
      "byteLimit": 2048000,
      "rowLimit": 10000
     },
     "inputWidgets": {},
     "nuid": "db18fcf3-1c47-49f2-bceb-5d44be667c5f",
     "showTitle": false,
     "title": ""
    }
   },
   "outputs": [
    {
     "output_type": "display_data",
     "data": {
      "text/plain": [
       ""
      ]
     },
     "metadata": {
      "application/vnd.databricks.v1+output": {
       "arguments": {},
       "data": "",
       "errorSummary": "Command skipped",
       "errorTraceType": "ansi",
       "metadata": {},
       "type": "ipynbError"
      }
     },
     "output_type": "display_data"
    }
   ],
   "source": [
    "def get_econ_ts(ts_id,start_date,end_date):\n",
    "\n",
    "  # select database\n",
    "  spark.sql(f\"\"\"use economicdata;\"\"\")\n",
    "\n",
    "  data = spark.sql(f\"\"\"\n",
    "    select p.TIMESERIESID,ts.SHORTLABEL,p.ASOF,p.VALUE\n",
    "    from ecrobservationproduct p\n",
    "    join ecrtimeseries ts on ts.TIMESERIESID = p.TIMESERIESID\n",
    "    where p.TIMESERIESID = '{ts_id}'\n",
    "    and p.PRODUCTNUMBER = '2000031815'\n",
    "    and p.ASOF between '{start_date}' and '{end_date}'\n",
    "    order by p.ASOF asc\n",
    "  \"\"\")\n",
    "\n",
    "  return data"
   ]
  },
  {
   "cell_type": "code",
   "execution_count": 0,
   "metadata": {
    "application/vnd.databricks.v1+cell": {
     "cellMetadata": {
      "byteLimit": 2048000,
      "rowLimit": 10000
     },
     "inputWidgets": {},
     "nuid": "686b590a-fba7-45e4-92a1-d2b20964fb17",
     "showTitle": false,
     "title": ""
    }
   },
   "outputs": [
    {
     "output_type": "display_data",
     "data": {
      "text/plain": [
       ""
      ]
     },
     "metadata": {
      "application/vnd.databricks.v1+output": {
       "arguments": {},
       "data": "",
       "errorSummary": "Command skipped",
       "errorTraceType": "ansi",
       "metadata": {},
       "type": "ipynbError"
      }
     },
     "output_type": "display_data"
    }
   ],
   "source": [
    "latest_val = float(lr.filter(lr.PERIODENDDATE == '2023-12-31').select('DATAITEMVALUE').collect()[0][0])\n",
    "comp = lr.filter(lr.PERIODENDDATE < '2020-03-31')\n",
    "comp_mean = float(comp.agg({\"DATAITEMVALUE\":\"avg\"}).collect()[0][0])\n",
    "comp_std = float(comp.agg({\"DATAITEMVALUE\":\"std\"}).collect()[0][0])\n",
    "z_score = (latest_val - comp_mean) / comp_std\n",
    "print(z_score)"
   ]
  },
  {
   "cell_type": "code",
   "execution_count": 0,
   "metadata": {
    "application/vnd.databricks.v1+cell": {
     "cellMetadata": {},
     "inputWidgets": {},
     "nuid": "bf9b91e5-bbfa-4898-a2de-787d6c5a4312",
     "showTitle": false,
     "title": ""
    }
   },
   "outputs": [],
   "source": [
    "def z_score(latest_data,comparison_data):\n",
    "\n",
    "  latest_val = float(latest_data.select('DATAITEMVALUE').collect()[0][0])\n",
    "  comp_mean = float(comparison_data.agg({\"DATAITEMVALUE\":\"avg\"}).collect()[0][0])\n",
    "  comp_std = float(comparison_data.agg({\"DATAITEMVALUE\":\"std\"}).collect()[0][0])\n",
    "  z_score = (latest_val - comp_mean) / comp_std\n",
    "  \n",
    "  return z_score"
   ]
  },
  {
   "cell_type": "code",
   "execution_count": 0,
   "metadata": {
    "application/vnd.databricks.v1+cell": {
     "cellMetadata": {},
     "inputWidgets": {},
     "nuid": "6b52276b-435d-4a98-a62f-bd98b8570b7f",
     "showTitle": false,
     "title": ""
    }
   },
   "outputs": [],
   "source": [
    "latest_data = get_data(215608,3100122,'2023-10-01','2023-12-31',2)\n",
    "comparison_data = get_data(215608,3100122,'2012-12-31','2019-12-31',2)\n",
    "z_score = z_score(latest_data,comparison_data)\n",
    "print(z_score)"
   ]
  },
  {
   "cell_type": "code",
   "execution_count": 0,
   "metadata": {
    "application/vnd.databricks.v1+cell": {
     "cellMetadata": {},
     "inputWidgets": {},
     "nuid": "d56d793c-0eb0-46ca-b938-a079f15cb076",
     "showTitle": false,
     "title": ""
    }
   },
   "outputs": [],
   "source": [
    "latest_data = get_data(215825,3100122,'2023-10-01','2023-12-31',2)\n",
    "comparison_data = get_data(215825,3100122,'2012-12-31','2019-12-31',2)\n",
    "#z = z_score(latest_data,comparison_data)\n",
    "#print(z)\n",
    "display(comparison_data)"
   ]
  }
 ],
 "metadata": {
  "application/vnd.databricks.v1+notebook": {
   "dashboards": [],
   "language": "python",
   "notebookMetadata": {
    "mostRecentlyExecutedCommandWithImplicitDF": {
     "commandId": 819127034906834,
     "dataframes": [
      "_sqldf"
     ]
    },
    "pythonIndentUnit": 2
   },
   "notebookName": "NathanSlides_v4",
   "widgets": {}
  }
 },
 "nbformat": 4,
 "nbformat_minor": 0
}
